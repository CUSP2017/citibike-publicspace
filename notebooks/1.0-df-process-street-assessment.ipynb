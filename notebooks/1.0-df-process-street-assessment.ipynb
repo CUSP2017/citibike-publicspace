{
 "cells": [
  {
   "cell_type": "markdown",
   "metadata": {
    "focus": false,
    "id": "1e1cc20a-942c-40d9-9206-7bd9a3b70eb7"
   },
   "source": [
    "# Clean Street Quality Data and Merge to Citibike Data"
   ]
  },
  {
   "cell_type": "code",
   "execution_count": 12,
   "metadata": {
    "collapsed": false,
    "focus": true,
    "id": "c14c5567-682d-49f2-aab9-23cff2207088"
   },
   "outputs": [
    {
     "data": {
      "text/html": [
       "<div>\n",
       "<table border=\"1\" class=\"dataframe\">\n",
       "  <thead>\n",
       "    <tr style=\"text-align: right;\">\n",
       "      <th></th>\n",
       "      <th>Rating_B</th>\n",
       "      <th>geometry</th>\n",
       "    </tr>\n",
       "  </thead>\n",
       "  <tbody>\n",
       "    <tr>\n",
       "      <th>5</th>\n",
       "      <td>8</td>\n",
       "      <td>LINESTRING (-74.25505718173608 40.505211202903...</td>\n",
       "    </tr>\n",
       "    <tr>\n",
       "      <th>6</th>\n",
       "      <td>8</td>\n",
       "      <td>LINESTRING (-74.25422295126869 40.506165510193...</td>\n",
       "    </tr>\n",
       "    <tr>\n",
       "      <th>7</th>\n",
       "      <td>8</td>\n",
       "      <td>LINESTRING (-74.25317481600686 40.504767963701...</td>\n",
       "    </tr>\n",
       "    <tr>\n",
       "      <th>8</th>\n",
       "      <td>7</td>\n",
       "      <td>LINESTRING (-74.25309430129053 40.506297011897...</td>\n",
       "    </tr>\n",
       "    <tr>\n",
       "      <th>9</th>\n",
       "      <td>6</td>\n",
       "      <td>LINESTRING (-74.25493722035239 40.507701030728...</td>\n",
       "    </tr>\n",
       "  </tbody>\n",
       "</table>\n",
       "</div>"
      ],
      "text/plain": [
       "   Rating_B                                           geometry\n",
       "5         8  LINESTRING (-74.25505718173608 40.505211202903...\n",
       "6         8  LINESTRING (-74.25422295126869 40.506165510193...\n",
       "7         8  LINESTRING (-74.25317481600686 40.504767963701...\n",
       "8         7  LINESTRING (-74.25309430129053 40.506297011897...\n",
       "9         6  LINESTRING (-74.25493722035239 40.507701030728..."
      ]
     },
     "execution_count": 12,
     "metadata": {},
     "output_type": "execute_result"
    }
   ],
   "source": [
    "# Import geojson file into geopandas dataframe and remove streets with no rating\n",
    "import geopandas as gpd\n",
    "import pandas as pd\n",
    "import matplotlib.pyplot as plt\n",
    "%matplotlib inline\n",
    "\n",
    "st_quality = gpd.read_file('../data/external/street-assessment/StreetAssessmentRating/StreetAssessmentRating.shp')\n",
    "st_quality = st_quality[['Rating_B', 'geometry']]\n",
    "st_quality = st_quality[st_quality.Rating_B != 0 ]\n",
    "st_quality = st_quality.to_crs({'init' :'epsg:4326'})\n",
    "st_quality.head()"
   ]
  },
  {
   "cell_type": "code",
   "execution_count": 13,
   "metadata": {
    "collapsed": false
   },
   "outputs": [
    {
     "data": {
      "text/plain": [
       "{'init': 'epsg:4326'}"
      ]
     },
     "execution_count": 13,
     "metadata": {},
     "output_type": "execute_result"
    }
   ],
   "source": [
    "# Check crs\n",
    "st_quality.crs"
   ]
  },
  {
   "cell_type": "code",
   "execution_count": 14,
   "metadata": {
    "collapsed": true
   },
   "outputs": [],
   "source": [
    "# st_quality.to_file('../data/interm/streetquality')"
   ]
  },
  {
   "cell_type": "code",
   "execution_count": 19,
   "metadata": {
    "collapsed": false,
    "focus": false,
    "id": "cf87e9cd-0ae6-4d09-ab0e-9b23101827f5"
   },
   "outputs": [
    {
     "data": {
      "text/html": [
       "<div>\n",
       "<table border=\"1\" class=\"dataframe\">\n",
       "  <thead>\n",
       "    <tr style=\"text-align: right;\">\n",
       "      <th></th>\n",
       "      <th>Station_id</th>\n",
       "      <th>Station_Name</th>\n",
       "      <th>Location</th>\n",
       "      <th>Latitude</th>\n",
       "      <th>Longitude</th>\n",
       "      <th>geometry</th>\n",
       "    </tr>\n",
       "  </thead>\n",
       "  <tbody>\n",
       "    <tr>\n",
       "      <th>0</th>\n",
       "      <td>72</td>\n",
       "      <td>W 52 St &amp; 11 Ave</td>\n",
       "      <td>W 52 St &amp; 11 Ave</td>\n",
       "      <td>40.767272</td>\n",
       "      <td>-73.993929</td>\n",
       "      <td>POLYGON ((-73.99342888 40.76727216, -73.993431...</td>\n",
       "    </tr>\n",
       "    <tr>\n",
       "      <th>1</th>\n",
       "      <td>79</td>\n",
       "      <td>Franklin St &amp; W Broadway</td>\n",
       "      <td>Franklin St &amp; W Broadway</td>\n",
       "      <td>40.719116</td>\n",
       "      <td>-74.006667</td>\n",
       "      <td>POLYGON ((-74.00616660999999 40.71911552, -74....</td>\n",
       "    </tr>\n",
       "    <tr>\n",
       "      <th>2</th>\n",
       "      <td>82</td>\n",
       "      <td>St James Pl &amp; Pearl St</td>\n",
       "      <td>St James Pl &amp; Pearl St</td>\n",
       "      <td>40.711174</td>\n",
       "      <td>-74.000165</td>\n",
       "      <td>POLYGON ((-73.99966544999999 40.71117416, -73....</td>\n",
       "    </tr>\n",
       "    <tr>\n",
       "      <th>3</th>\n",
       "      <td>83</td>\n",
       "      <td>Atlantic Ave &amp; Fort Greene Pl</td>\n",
       "      <td>Atlantic Ave &amp; Fort Greene Pl</td>\n",
       "      <td>40.683826</td>\n",
       "      <td>-73.976323</td>\n",
       "      <td>POLYGON ((-73.97582328 40.68382604, -73.975825...</td>\n",
       "    </tr>\n",
       "    <tr>\n",
       "      <th>4</th>\n",
       "      <td>116</td>\n",
       "      <td>W 17 St &amp; 8 Ave</td>\n",
       "      <td>W 17 St &amp; 8 Ave</td>\n",
       "      <td>40.741776</td>\n",
       "      <td>-74.001497</td>\n",
       "      <td>POLYGON ((-74.00099745999999 40.74177603, -74....</td>\n",
       "    </tr>\n",
       "  </tbody>\n",
       "</table>\n",
       "</div>"
      ],
      "text/plain": [
       "   Station_id                   Station_Name                       Location  \\\n",
       "0          72               W 52 St & 11 Ave               W 52 St & 11 Ave   \n",
       "1          79       Franklin St & W Broadway       Franklin St & W Broadway   \n",
       "2          82         St James Pl & Pearl St         St James Pl & Pearl St   \n",
       "3          83  Atlantic Ave & Fort Greene Pl  Atlantic Ave & Fort Greene Pl   \n",
       "4         116                W 17 St & 8 Ave                W 17 St & 8 Ave   \n",
       "\n",
       "    Latitude  Longitude                                           geometry  \n",
       "0  40.767272 -73.993929  POLYGON ((-73.99342888 40.76727216, -73.993431...  \n",
       "1  40.719116 -74.006667  POLYGON ((-74.00616660999999 40.71911552, -74....  \n",
       "2  40.711174 -74.000165  POLYGON ((-73.99966544999999 40.71117416, -73....  \n",
       "3  40.683826 -73.976323  POLYGON ((-73.97582328 40.68382604, -73.975825...  \n",
       "4  40.741776 -74.001497  POLYGON ((-74.00099745999999 40.74177603, -74....  "
      ]
     },
     "execution_count": 19,
     "metadata": {},
     "output_type": "execute_result"
    }
   ],
   "source": [
    "# Import citibike station csv into geopandas dataframe\n",
    "from shapely.geometry import Point\n",
    "\n",
    "stations = pd.read_csv('../data/external/citibike_data/citi_bike_station_info.csv')\n",
    "stations = stations.dropna()\n",
    "geometry = gpd.GeoSeries([Point(xy) for xy in zip(stations.Longitude, stations.Latitude)])\n",
    "geometry = geometry.buffer(.0005)\n",
    "geo_stations = gpd.GeoDataFrame(stations, geometry=geometry)\n",
    "geo_stations.crs = {'init' :'epsg:4326'}\n",
    "geo_stations.head()"
   ]
  },
  {
   "cell_type": "code",
   "execution_count": 20,
   "metadata": {
    "collapsed": false
   },
   "outputs": [
    {
     "data": {
      "text/plain": [
       "639"
      ]
     },
     "execution_count": 20,
     "metadata": {},
     "output_type": "execute_result"
    }
   ],
   "source": [
    "# Check number of stations before merge\n",
    "len(geo_stations)"
   ]
  },
  {
   "cell_type": "code",
   "execution_count": 21,
   "metadata": {
    "collapsed": false
   },
   "outputs": [
    {
     "data": {
      "text/plain": [
       "{'init': 'epsg:4326'}"
      ]
     },
     "execution_count": 21,
     "metadata": {},
     "output_type": "execute_result"
    }
   ],
   "source": [
    "# Check crs\n",
    "geo_stations.crs"
   ]
  },
  {
   "cell_type": "code",
   "execution_count": 22,
   "metadata": {
    "collapsed": false
   },
   "outputs": [
    {
     "data": {
      "text/html": [
       "<div>\n",
       "<table border=\"1\" class=\"dataframe\">\n",
       "  <thead>\n",
       "    <tr style=\"text-align: right;\">\n",
       "      <th></th>\n",
       "      <th>Station_id</th>\n",
       "      <th>Station_Name</th>\n",
       "      <th>Latitude</th>\n",
       "      <th>Longitude</th>\n",
       "      <th>geometry</th>\n",
       "      <th>Rating_B</th>\n",
       "    </tr>\n",
       "  </thead>\n",
       "  <tbody>\n",
       "    <tr>\n",
       "      <th>0</th>\n",
       "      <td>72</td>\n",
       "      <td>W 52 St &amp; 11 Ave</td>\n",
       "      <td>40.767272</td>\n",
       "      <td>-73.993929</td>\n",
       "      <td>POLYGON ((-73.99342888 40.76727216, -73.993431...</td>\n",
       "      <td>8</td>\n",
       "    </tr>\n",
       "    <tr>\n",
       "      <th>0</th>\n",
       "      <td>72</td>\n",
       "      <td>W 52 St &amp; 11 Ave</td>\n",
       "      <td>40.767272</td>\n",
       "      <td>-73.993929</td>\n",
       "      <td>POLYGON ((-73.99342888 40.76727216, -73.993431...</td>\n",
       "      <td>8</td>\n",
       "    </tr>\n",
       "    <tr>\n",
       "      <th>0</th>\n",
       "      <td>72</td>\n",
       "      <td>W 52 St &amp; 11 Ave</td>\n",
       "      <td>40.767272</td>\n",
       "      <td>-73.993929</td>\n",
       "      <td>POLYGON ((-73.99342888 40.76727216, -73.993431...</td>\n",
       "      <td>8</td>\n",
       "    </tr>\n",
       "    <tr>\n",
       "      <th>1</th>\n",
       "      <td>79</td>\n",
       "      <td>Franklin St &amp; W Broadway</td>\n",
       "      <td>40.719116</td>\n",
       "      <td>-74.006667</td>\n",
       "      <td>POLYGON ((-74.00616660999999 40.71911552, -74....</td>\n",
       "      <td>9</td>\n",
       "    </tr>\n",
       "    <tr>\n",
       "      <th>1</th>\n",
       "      <td>79</td>\n",
       "      <td>Franklin St &amp; W Broadway</td>\n",
       "      <td>40.719116</td>\n",
       "      <td>-74.006667</td>\n",
       "      <td>POLYGON ((-74.00616660999999 40.71911552, -74....</td>\n",
       "      <td>8</td>\n",
       "    </tr>\n",
       "    <tr>\n",
       "      <th>1</th>\n",
       "      <td>79</td>\n",
       "      <td>Franklin St &amp; W Broadway</td>\n",
       "      <td>40.719116</td>\n",
       "      <td>-74.006667</td>\n",
       "      <td>POLYGON ((-74.00616660999999 40.71911552, -74....</td>\n",
       "      <td>9</td>\n",
       "    </tr>\n",
       "    <tr>\n",
       "      <th>1</th>\n",
       "      <td>79</td>\n",
       "      <td>Franklin St &amp; W Broadway</td>\n",
       "      <td>40.719116</td>\n",
       "      <td>-74.006667</td>\n",
       "      <td>POLYGON ((-74.00616660999999 40.71911552, -74....</td>\n",
       "      <td>8</td>\n",
       "    </tr>\n",
       "    <tr>\n",
       "      <th>1</th>\n",
       "      <td>79</td>\n",
       "      <td>Franklin St &amp; W Broadway</td>\n",
       "      <td>40.719116</td>\n",
       "      <td>-74.006667</td>\n",
       "      <td>POLYGON ((-74.00616660999999 40.71911552, -74....</td>\n",
       "      <td>9</td>\n",
       "    </tr>\n",
       "    <tr>\n",
       "      <th>1</th>\n",
       "      <td>79</td>\n",
       "      <td>Franklin St &amp; W Broadway</td>\n",
       "      <td>40.719116</td>\n",
       "      <td>-74.006667</td>\n",
       "      <td>POLYGON ((-74.00616660999999 40.71911552, -74....</td>\n",
       "      <td>8</td>\n",
       "    </tr>\n",
       "    <tr>\n",
       "      <th>1</th>\n",
       "      <td>79</td>\n",
       "      <td>Franklin St &amp; W Broadway</td>\n",
       "      <td>40.719116</td>\n",
       "      <td>-74.006667</td>\n",
       "      <td>POLYGON ((-74.00616660999999 40.71911552, -74....</td>\n",
       "      <td>9</td>\n",
       "    </tr>\n",
       "  </tbody>\n",
       "</table>\n",
       "</div>"
      ],
      "text/plain": [
       "   Station_id              Station_Name   Latitude  Longitude  \\\n",
       "0          72          W 52 St & 11 Ave  40.767272 -73.993929   \n",
       "0          72          W 52 St & 11 Ave  40.767272 -73.993929   \n",
       "0          72          W 52 St & 11 Ave  40.767272 -73.993929   \n",
       "1          79  Franklin St & W Broadway  40.719116 -74.006667   \n",
       "1          79  Franklin St & W Broadway  40.719116 -74.006667   \n",
       "1          79  Franklin St & W Broadway  40.719116 -74.006667   \n",
       "1          79  Franklin St & W Broadway  40.719116 -74.006667   \n",
       "1          79  Franklin St & W Broadway  40.719116 -74.006667   \n",
       "1          79  Franklin St & W Broadway  40.719116 -74.006667   \n",
       "1          79  Franklin St & W Broadway  40.719116 -74.006667   \n",
       "\n",
       "                                            geometry  Rating_B  \n",
       "0  POLYGON ((-73.99342888 40.76727216, -73.993431...         8  \n",
       "0  POLYGON ((-73.99342888 40.76727216, -73.993431...         8  \n",
       "0  POLYGON ((-73.99342888 40.76727216, -73.993431...         8  \n",
       "1  POLYGON ((-74.00616660999999 40.71911552, -74....         9  \n",
       "1  POLYGON ((-74.00616660999999 40.71911552, -74....         8  \n",
       "1  POLYGON ((-74.00616660999999 40.71911552, -74....         9  \n",
       "1  POLYGON ((-74.00616660999999 40.71911552, -74....         8  \n",
       "1  POLYGON ((-74.00616660999999 40.71911552, -74....         9  \n",
       "1  POLYGON ((-74.00616660999999 40.71911552, -74....         8  \n",
       "1  POLYGON ((-74.00616660999999 40.71911552, -74....         9  "
      ]
     },
     "execution_count": 22,
     "metadata": {},
     "output_type": "execute_result"
    }
   ],
   "source": [
    "# Merge street quality data with citibike stations using Geopandas Spatial Merge\n",
    "stations_st_quality = gpd.sjoin(geo_stations, st_quality, how=\"inner\", op='intersects')\n",
    "stations_st_quality.drop(['index_right', 'Location'], axis=1, inplace=True)\n",
    "stations_st_quality.head(10)"
   ]
  },
  {
   "cell_type": "code",
   "execution_count": 23,
   "metadata": {
    "collapsed": true
   },
   "outputs": [],
   "source": [
    "# stations_st_quality.to_file('../data/interim/geo_st_qualtiy')"
   ]
  },
  {
   "cell_type": "code",
   "execution_count": 24,
   "metadata": {
    "collapsed": false
   },
   "outputs": [
    {
     "data": {
      "text/html": [
       "<div>\n",
       "<table border=\"1\" class=\"dataframe\">\n",
       "  <thead>\n",
       "    <tr style=\"text-align: right;\">\n",
       "      <th></th>\n",
       "      <th>Station_id</th>\n",
       "      <th>Station_Name</th>\n",
       "      <th>Latitude</th>\n",
       "      <th>Longitude</th>\n",
       "      <th>Rating_B</th>\n",
       "    </tr>\n",
       "  </thead>\n",
       "  <tbody>\n",
       "    <tr>\n",
       "      <th>0</th>\n",
       "      <td>72</td>\n",
       "      <td>W 52 St &amp; 11 Ave</td>\n",
       "      <td>40.767272</td>\n",
       "      <td>-73.993929</td>\n",
       "      <td>8.000000</td>\n",
       "    </tr>\n",
       "    <tr>\n",
       "      <th>1</th>\n",
       "      <td>79</td>\n",
       "      <td>Franklin St &amp; W Broadway</td>\n",
       "      <td>40.719116</td>\n",
       "      <td>-74.006667</td>\n",
       "      <td>8.571429</td>\n",
       "    </tr>\n",
       "    <tr>\n",
       "      <th>2</th>\n",
       "      <td>82</td>\n",
       "      <td>St James Pl &amp; Pearl St</td>\n",
       "      <td>40.711174</td>\n",
       "      <td>-74.000165</td>\n",
       "      <td>7.333333</td>\n",
       "    </tr>\n",
       "    <tr>\n",
       "      <th>3</th>\n",
       "      <td>83</td>\n",
       "      <td>Atlantic Ave &amp; Fort Greene Pl</td>\n",
       "      <td>40.683826</td>\n",
       "      <td>-73.976323</td>\n",
       "      <td>7.500000</td>\n",
       "    </tr>\n",
       "    <tr>\n",
       "      <th>4</th>\n",
       "      <td>116</td>\n",
       "      <td>W 17 St &amp; 8 Ave</td>\n",
       "      <td>40.741776</td>\n",
       "      <td>-74.001497</td>\n",
       "      <td>8.500000</td>\n",
       "    </tr>\n",
       "  </tbody>\n",
       "</table>\n",
       "</div>"
      ],
      "text/plain": [
       "   Station_id                   Station_Name   Latitude  Longitude  Rating_B\n",
       "0          72               W 52 St & 11 Ave  40.767272 -73.993929  8.000000\n",
       "1          79       Franklin St & W Broadway  40.719116 -74.006667  8.571429\n",
       "2          82         St James Pl & Pearl St  40.711174 -74.000165  7.333333\n",
       "3          83  Atlantic Ave & Fort Greene Pl  40.683826 -73.976323  7.500000\n",
       "4         116                W 17 St & 8 Ave  40.741776 -74.001497  8.500000"
      ]
     },
     "execution_count": 24,
     "metadata": {},
     "output_type": "execute_result"
    }
   ],
   "source": [
    "# Find average of street quality ratings for each station\n",
    "stations_st_quality = stations_st_quality.groupby(['Station_id', 'Station_Name', 'Latitude', 'Longitude']).mean()\n",
    "stations_st_quality.reset_index(inplace=True)\n",
    "stations_st_quality.head()"
   ]
  },
  {
   "cell_type": "code",
   "execution_count": 25,
   "metadata": {
    "collapsed": false
   },
   "outputs": [
    {
     "data": {
      "text/html": [
       "<div>\n",
       "<table border=\"1\" class=\"dataframe\">\n",
       "  <thead>\n",
       "    <tr style=\"text-align: right;\">\n",
       "      <th></th>\n",
       "      <th>Station_id</th>\n",
       "      <th>Station_Name</th>\n",
       "      <th>Latitude</th>\n",
       "      <th>Longitude</th>\n",
       "      <th>Rating_B</th>\n",
       "      <th>geometry</th>\n",
       "    </tr>\n",
       "  </thead>\n",
       "  <tbody>\n",
       "    <tr>\n",
       "      <th>0</th>\n",
       "      <td>72</td>\n",
       "      <td>W 52 St &amp; 11 Ave</td>\n",
       "      <td>40.767272</td>\n",
       "      <td>-73.993929</td>\n",
       "      <td>8.000000</td>\n",
       "      <td>POINT (-73.99392888 40.76727216)</td>\n",
       "    </tr>\n",
       "    <tr>\n",
       "      <th>1</th>\n",
       "      <td>79</td>\n",
       "      <td>Franklin St &amp; W Broadway</td>\n",
       "      <td>40.719116</td>\n",
       "      <td>-74.006667</td>\n",
       "      <td>8.571429</td>\n",
       "      <td>POINT (-74.00666661 40.71911552)</td>\n",
       "    </tr>\n",
       "    <tr>\n",
       "      <th>2</th>\n",
       "      <td>82</td>\n",
       "      <td>St James Pl &amp; Pearl St</td>\n",
       "      <td>40.711174</td>\n",
       "      <td>-74.000165</td>\n",
       "      <td>7.333333</td>\n",
       "      <td>POINT (-74.00016545 40.71117416)</td>\n",
       "    </tr>\n",
       "    <tr>\n",
       "      <th>3</th>\n",
       "      <td>83</td>\n",
       "      <td>Atlantic Ave &amp; Fort Greene Pl</td>\n",
       "      <td>40.683826</td>\n",
       "      <td>-73.976323</td>\n",
       "      <td>7.500000</td>\n",
       "      <td>POINT (-73.97632328 40.68382604)</td>\n",
       "    </tr>\n",
       "    <tr>\n",
       "      <th>4</th>\n",
       "      <td>116</td>\n",
       "      <td>W 17 St &amp; 8 Ave</td>\n",
       "      <td>40.741776</td>\n",
       "      <td>-74.001497</td>\n",
       "      <td>8.500000</td>\n",
       "      <td>POINT (-74.00149746 40.74177603)</td>\n",
       "    </tr>\n",
       "  </tbody>\n",
       "</table>\n",
       "</div>"
      ],
      "text/plain": [
       "   Station_id                   Station_Name   Latitude  Longitude  Rating_B  \\\n",
       "0          72               W 52 St & 11 Ave  40.767272 -73.993929  8.000000   \n",
       "1          79       Franklin St & W Broadway  40.719116 -74.006667  8.571429   \n",
       "2          82         St James Pl & Pearl St  40.711174 -74.000165  7.333333   \n",
       "3          83  Atlantic Ave & Fort Greene Pl  40.683826 -73.976323  7.500000   \n",
       "4         116                W 17 St & 8 Ave  40.741776 -74.001497  8.500000   \n",
       "\n",
       "                           geometry  \n",
       "0  POINT (-73.99392888 40.76727216)  \n",
       "1  POINT (-74.00666661 40.71911552)  \n",
       "2  POINT (-74.00016545 40.71117416)  \n",
       "3  POINT (-73.97632328 40.68382604)  \n",
       "4  POINT (-74.00149746 40.74177603)  "
      ]
     },
     "execution_count": 25,
     "metadata": {},
     "output_type": "execute_result"
    }
   ],
   "source": [
    "geometry = gpd.GeoSeries([Point(xy) for xy in zip(stations_st_quality.Longitude, stations_st_quality.Latitude)])\n",
    "stations_st_quality = gpd.GeoDataFrame(stations_st_quality, geometry=geometry)\n",
    "stations_st_quality.crs = {'init' :'epsg:4326'}\n",
    "stations_st_quality.head()"
   ]
  },
  {
   "cell_type": "code",
   "execution_count": 26,
   "metadata": {
    "collapsed": false
   },
   "outputs": [
    {
     "data": {
      "text/plain": [
       "579"
      ]
     },
     "execution_count": 26,
     "metadata": {},
     "output_type": "execute_result"
    }
   ],
   "source": [
    "# Check number of stations after merge\n",
    "len(stations_st_quality)"
   ]
  },
  {
   "cell_type": "code",
   "execution_count": 27,
   "metadata": {
    "collapsed": true
   },
   "outputs": [],
   "source": [
    "# Output merged file to csv\n",
    "stations_st_quality.drop(['Station_Name', 'Latitude', 'Longitude'], axis=1, inplace=True)\n",
    "# Save to CSV\n",
    "stations_st_quality.to_csv(\"../data/processed/street-assessment.csv\")"
   ]
  },
  {
   "cell_type": "code",
   "execution_count": 28,
   "metadata": {
    "collapsed": false
   },
   "outputs": [],
   "source": [
    "stations_st_quality.to_file('../data/interim/street-assessment')"
   ]
  },
  {
   "cell_type": "code",
   "execution_count": null,
   "metadata": {
    "collapsed": true
   },
   "outputs": [],
   "source": []
  }
 ],
 "metadata": {
  "anaconda-cloud": {},
  "kernelspec": {
   "display_name": "Python [Root]",
   "language": "python",
   "name": "Python [Root]"
  },
  "language_info": {
   "codemirror_mode": {
    "name": "ipython",
    "version": 2
   },
   "file_extension": ".py",
   "mimetype": "text/x-python",
   "name": "python",
   "nbconvert_exporter": "python",
   "pygments_lexer": "ipython2",
   "version": "2.7.12"
  }
 },
 "nbformat": 4,
 "nbformat_minor": 0
}
