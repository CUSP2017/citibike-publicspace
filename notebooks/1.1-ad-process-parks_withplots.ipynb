{
 "cells": [
  {
   "cell_type": "code",
   "execution_count": 16,
   "metadata": {
    "collapsed": false
   },
   "outputs": [],
   "source": [
    "import numpy as np\n",
    "import pandas as pd\n",
    "import geopandas as gp\n",
    "import os\n",
    "from shapely.geometry import Point\n",
    "\n",
    "import matplotlib.pyplot as plt\n",
    "%matplotlib inline"
   ]
  },
  {
   "cell_type": "code",
   "execution_count": 2,
   "metadata": {
    "collapsed": false
   },
   "outputs": [
    {
     "data": {
      "text/html": [
       "<div>\n",
       "<table border=\"1\" class=\"dataframe\">\n",
       "  <thead>\n",
       "    <tr style=\"text-align: right;\">\n",
       "      <th></th>\n",
       "      <th>acres</th>\n",
       "      <th>address</th>\n",
       "      <th>borough</th>\n",
       "      <th>communityb</th>\n",
       "      <th>councildis</th>\n",
       "      <th>geometry</th>\n",
       "      <th>gispropnum</th>\n",
       "      <th>location</th>\n",
       "      <th>nys_assemb</th>\n",
       "      <th>nys_senate</th>\n",
       "      <th>signname</th>\n",
       "      <th>typecatego</th>\n",
       "      <th>us_congres</th>\n",
       "      <th>waterfront</th>\n",
       "      <th>zipcode</th>\n",
       "    </tr>\n",
       "  </thead>\n",
       "  <tbody>\n",
       "    <tr>\n",
       "      <th>0</th>\n",
       "      <td>20.34</td>\n",
       "      <td>40-50 VERNON BOULEVARD</td>\n",
       "      <td>Q</td>\n",
       "      <td>401, 402</td>\n",
       "      <td>26</td>\n",
       "      <td>(POLYGON ((-73.94806058617907 40.7558921243117...</td>\n",
       "      <td>Q104</td>\n",
       "      <td>Queensboro Bridge, 41 Rd., 40 Ave. bet. The Ea...</td>\n",
       "      <td>37</td>\n",
       "      <td>12</td>\n",
       "      <td>Queensbridge Park</td>\n",
       "      <td>Community Park</td>\n",
       "      <td>12</td>\n",
       "      <td>Yes</td>\n",
       "      <td>11101</td>\n",
       "    </tr>\n",
       "    <tr>\n",
       "      <th>1</th>\n",
       "      <td>6.1</td>\n",
       "      <td>200 CITY ISLAND AV</td>\n",
       "      <td>X</td>\n",
       "      <td>210</td>\n",
       "      <td>13</td>\n",
       "      <td>(POLYGON ((-73.78243845176827 40.8440889832096...</td>\n",
       "      <td>X253</td>\n",
       "      <td>City Island Ave bet. Centre St. and Winter St.</td>\n",
       "      <td>82</td>\n",
       "      <td>34</td>\n",
       "      <td>Ambrosini Field</td>\n",
       "      <td>Recreation Field/Courts</td>\n",
       "      <td>14</td>\n",
       "      <td>Yes</td>\n",
       "      <td>10464</td>\n",
       "    </tr>\n",
       "    <tr>\n",
       "      <th>2</th>\n",
       "      <td>0.159</td>\n",
       "      <td>11528 Ocean Promenade</td>\n",
       "      <td>Q</td>\n",
       "      <td>414</td>\n",
       "      <td>32</td>\n",
       "      <td>(POLYGON ((-73.83638471337602 40.5780595390407...</td>\n",
       "      <td>Q494</td>\n",
       "      <td>Beach 116 St.,  Ocean Promenade</td>\n",
       "      <td>23</td>\n",
       "      <td>15</td>\n",
       "      <td>Flight 587 Memorial Park</td>\n",
       "      <td>Triangle/Plaza</td>\n",
       "      <td>5</td>\n",
       "      <td>Yes</td>\n",
       "      <td>11694</td>\n",
       "    </tr>\n",
       "    <tr>\n",
       "      <th>3</th>\n",
       "      <td>0.44</td>\n",
       "      <td>1086 EAST 180 STREET</td>\n",
       "      <td>X</td>\n",
       "      <td>206</td>\n",
       "      <td>15</td>\n",
       "      <td>(POLYGON ((-73.87623969625949 40.8419878695552...</td>\n",
       "      <td>X245</td>\n",
       "      <td>E 180 St bet. the Bronx River and Devoe Av</td>\n",
       "      <td>87</td>\n",
       "      <td>33</td>\n",
       "      <td>River Garden</td>\n",
       "      <td>Garden</td>\n",
       "      <td>15</td>\n",
       "      <td>Yes</td>\n",
       "      <td>10460</td>\n",
       "    </tr>\n",
       "    <tr>\n",
       "      <th>4</th>\n",
       "      <td>4.893</td>\n",
       "      <td>31-30 VERNON BOULEVARD</td>\n",
       "      <td>Q</td>\n",
       "      <td>401</td>\n",
       "      <td>26</td>\n",
       "      <td>(POLYGON ((-73.93623823248316 40.7692821829763...</td>\n",
       "      <td>Q465</td>\n",
       "      <td>Vernon Blvd. bet. Broadway and 30 Dr.</td>\n",
       "      <td>37</td>\n",
       "      <td>12</td>\n",
       "      <td>Socrates Sculpture Park</td>\n",
       "      <td>Neighborhood Park</td>\n",
       "      <td>12</td>\n",
       "      <td>Yes</td>\n",
       "      <td>11106</td>\n",
       "    </tr>\n",
       "  </tbody>\n",
       "</table>\n",
       "</div>"
      ],
      "text/plain": [
       "   acres                 address borough communityb councildis  \\\n",
       "0  20.34  40-50 VERNON BOULEVARD       Q   401, 402         26   \n",
       "1    6.1      200 CITY ISLAND AV       X        210         13   \n",
       "2  0.159   11528 Ocean Promenade       Q        414         32   \n",
       "3   0.44    1086 EAST 180 STREET       X        206         15   \n",
       "4  4.893  31-30 VERNON BOULEVARD       Q        401         26   \n",
       "\n",
       "                                            geometry gispropnum  \\\n",
       "0  (POLYGON ((-73.94806058617907 40.7558921243117...       Q104   \n",
       "1  (POLYGON ((-73.78243845176827 40.8440889832096...       X253   \n",
       "2  (POLYGON ((-73.83638471337602 40.5780595390407...       Q494   \n",
       "3  (POLYGON ((-73.87623969625949 40.8419878695552...       X245   \n",
       "4  (POLYGON ((-73.93623823248316 40.7692821829763...       Q465   \n",
       "\n",
       "                                            location nys_assemb nys_senate  \\\n",
       "0  Queensboro Bridge, 41 Rd., 40 Ave. bet. The Ea...         37         12   \n",
       "1     City Island Ave bet. Centre St. and Winter St.         82         34   \n",
       "2                    Beach 116 St.,  Ocean Promenade         23         15   \n",
       "3         E 180 St bet. the Bronx River and Devoe Av         87         33   \n",
       "4              Vernon Blvd. bet. Broadway and 30 Dr.         37         12   \n",
       "\n",
       "                   signname               typecatego us_congres waterfront  \\\n",
       "0         Queensbridge Park           Community Park         12        Yes   \n",
       "1           Ambrosini Field  Recreation Field/Courts         14        Yes   \n",
       "2  Flight 587 Memorial Park           Triangle/Plaza          5        Yes   \n",
       "3              River Garden                   Garden         15        Yes   \n",
       "4   Socrates Sculpture Park        Neighborhood Park         12        Yes   \n",
       "\n",
       "  zipcode  \n",
       "0   11101  \n",
       "1   10464  \n",
       "2   11694  \n",
       "3   10460  \n",
       "4   11106  "
      ]
     },
     "execution_count": 2,
     "metadata": {},
     "output_type": "execute_result"
    }
   ],
   "source": [
    "#Importing park properties\n",
    "#https://data.cityofnewyork.us/api/geospatial/rjaj-zgq7?method=export&format=GeoJSON\n",
    "parks = gp.read_file('../data/external/parks.geojson')\n",
    "parks = parks.to_crs({'init' :'epsg:4326'})\n",
    "parks.head()"
   ]
  },
  {
   "cell_type": "code",
   "execution_count": 3,
   "metadata": {
    "collapsed": false
   },
   "outputs": [],
   "source": [
    "parks.drop([u'acres',    u'address',    u'borough', u'communityb',\n",
    "       u'councildis',   u'gispropnum', \n",
    "       u'nys_assemb', u'nys_senate',    u'typecatego',\n",
    "       u'us_congres', u'waterfront',    u'zipcode'], axis = 1, inplace = True)"
   ]
  },
  {
   "cell_type": "code",
   "execution_count": 4,
   "metadata": {
    "collapsed": false
   },
   "outputs": [
    {
     "data": {
      "text/html": [
       "<div>\n",
       "<table border=\"1\" class=\"dataframe\">\n",
       "  <thead>\n",
       "    <tr style=\"text-align: right;\">\n",
       "      <th></th>\n",
       "      <th>Station_id</th>\n",
       "      <th>Location</th>\n",
       "      <th>Latitude</th>\n",
       "      <th>Longitude</th>\n",
       "    </tr>\n",
       "  </thead>\n",
       "  <tbody>\n",
       "    <tr>\n",
       "      <th>0</th>\n",
       "      <td>72</td>\n",
       "      <td>W 52 St &amp; 11 Ave</td>\n",
       "      <td>40.767272</td>\n",
       "      <td>-73.993929</td>\n",
       "    </tr>\n",
       "    <tr>\n",
       "      <th>1</th>\n",
       "      <td>79</td>\n",
       "      <td>Franklin St &amp; W Broadway</td>\n",
       "      <td>40.719116</td>\n",
       "      <td>-74.006667</td>\n",
       "    </tr>\n",
       "    <tr>\n",
       "      <th>2</th>\n",
       "      <td>82</td>\n",
       "      <td>St James Pl &amp; Pearl St</td>\n",
       "      <td>40.711174</td>\n",
       "      <td>-74.000165</td>\n",
       "    </tr>\n",
       "    <tr>\n",
       "      <th>3</th>\n",
       "      <td>83</td>\n",
       "      <td>Atlantic Ave &amp; Fort Greene Pl</td>\n",
       "      <td>40.683826</td>\n",
       "      <td>-73.976323</td>\n",
       "    </tr>\n",
       "    <tr>\n",
       "      <th>4</th>\n",
       "      <td>116</td>\n",
       "      <td>W 17 St &amp; 8 Ave</td>\n",
       "      <td>40.741776</td>\n",
       "      <td>-74.001497</td>\n",
       "    </tr>\n",
       "  </tbody>\n",
       "</table>\n",
       "</div>"
      ],
      "text/plain": [
       "   Station_id                       Location   Latitude  Longitude\n",
       "0          72               W 52 St & 11 Ave  40.767272 -73.993929\n",
       "1          79       Franklin St & W Broadway  40.719116 -74.006667\n",
       "2          82         St James Pl & Pearl St  40.711174 -74.000165\n",
       "3          83  Atlantic Ave & Fort Greene Pl  40.683826 -73.976323\n",
       "4         116                W 17 St & 8 Ave  40.741776 -74.001497"
      ]
     },
     "execution_count": 4,
     "metadata": {},
     "output_type": "execute_result"
    }
   ],
   "source": [
    "# Importing CitiBike Data\n",
    "stations = pd.read_csv('../data/processed/stations.csv')\n",
    "stations = stations.dropna()\n",
    "stations.drop(['Station_Name'], axis= 1, inplace=True)\n",
    "stations.head()"
   ]
  },
  {
   "cell_type": "code",
   "execution_count": 5,
   "metadata": {
    "collapsed": false
   },
   "outputs": [
    {
     "data": {
      "text/html": [
       "<div>\n",
       "<table border=\"1\" class=\"dataframe\">\n",
       "  <thead>\n",
       "    <tr style=\"text-align: right;\">\n",
       "      <th></th>\n",
       "      <th>Station_id</th>\n",
       "      <th>Location</th>\n",
       "      <th>Latitude</th>\n",
       "      <th>Longitude</th>\n",
       "      <th>geometry</th>\n",
       "    </tr>\n",
       "  </thead>\n",
       "  <tbody>\n",
       "    <tr>\n",
       "      <th>0</th>\n",
       "      <td>72</td>\n",
       "      <td>W 52 St &amp; 11 Ave</td>\n",
       "      <td>40.767272</td>\n",
       "      <td>-73.993929</td>\n",
       "      <td>POLYGON ((-73.99342888 40.76727216, -73.993431...</td>\n",
       "    </tr>\n",
       "    <tr>\n",
       "      <th>1</th>\n",
       "      <td>79</td>\n",
       "      <td>Franklin St &amp; W Broadway</td>\n",
       "      <td>40.719116</td>\n",
       "      <td>-74.006667</td>\n",
       "      <td>POLYGON ((-74.00616660999999 40.71911552, -74....</td>\n",
       "    </tr>\n",
       "    <tr>\n",
       "      <th>2</th>\n",
       "      <td>82</td>\n",
       "      <td>St James Pl &amp; Pearl St</td>\n",
       "      <td>40.711174</td>\n",
       "      <td>-74.000165</td>\n",
       "      <td>POLYGON ((-73.99966544999999 40.71117416, -73....</td>\n",
       "    </tr>\n",
       "    <tr>\n",
       "      <th>3</th>\n",
       "      <td>83</td>\n",
       "      <td>Atlantic Ave &amp; Fort Greene Pl</td>\n",
       "      <td>40.683826</td>\n",
       "      <td>-73.976323</td>\n",
       "      <td>POLYGON ((-73.97582328 40.68382604, -73.975825...</td>\n",
       "    </tr>\n",
       "    <tr>\n",
       "      <th>4</th>\n",
       "      <td>116</td>\n",
       "      <td>W 17 St &amp; 8 Ave</td>\n",
       "      <td>40.741776</td>\n",
       "      <td>-74.001497</td>\n",
       "      <td>POLYGON ((-74.00099745999999 40.74177603, -74....</td>\n",
       "    </tr>\n",
       "  </tbody>\n",
       "</table>\n",
       "</div>"
      ],
      "text/plain": [
       "   Station_id                       Location   Latitude  Longitude  \\\n",
       "0          72               W 52 St & 11 Ave  40.767272 -73.993929   \n",
       "1          79       Franklin St & W Broadway  40.719116 -74.006667   \n",
       "2          82         St James Pl & Pearl St  40.711174 -74.000165   \n",
       "3          83  Atlantic Ave & Fort Greene Pl  40.683826 -73.976323   \n",
       "4         116                W 17 St & 8 Ave  40.741776 -74.001497   \n",
       "\n",
       "                                            geometry  \n",
       "0  POLYGON ((-73.99342888 40.76727216, -73.993431...  \n",
       "1  POLYGON ((-74.00616660999999 40.71911552, -74....  \n",
       "2  POLYGON ((-73.99966544999999 40.71117416, -73....  \n",
       "3  POLYGON ((-73.97582328 40.68382604, -73.975825...  \n",
       "4  POLYGON ((-74.00099745999999 40.74177603, -74....  "
      ]
     },
     "execution_count": 5,
     "metadata": {},
     "output_type": "execute_result"
    }
   ],
   "source": [
    "#Creating a buffer of 0.0005\n",
    "geometry = gp.GeoSeries([Point(xy) for xy in zip(stations.Longitude, stations.Latitude)])\n",
    "geometry = geometry.buffer(.0005)  # Using buffer of 0.0005\n",
    "geo_stations = gp.GeoDataFrame(stations, geometry=geometry)\n",
    "geo_stations.crs = {'init' :'epsg:4326'}\n",
    "geo_stations.to_file('../data/interim/geo_stations')\n",
    "geo_stations.head()"
   ]
  },
  {
   "cell_type": "code",
   "execution_count": 6,
   "metadata": {
    "collapsed": false
   },
   "outputs": [
    {
     "data": {
      "text/html": [
       "<div>\n",
       "<table border=\"1\" class=\"dataframe\">\n",
       "  <thead>\n",
       "    <tr style=\"text-align: right;\">\n",
       "      <th></th>\n",
       "      <th>Station_id</th>\n",
       "      <th>Location</th>\n",
       "      <th>Latitude</th>\n",
       "      <th>Longitude</th>\n",
       "      <th>geometry</th>\n",
       "      <th>index_right</th>\n",
       "      <th>location</th>\n",
       "      <th>signname</th>\n",
       "    </tr>\n",
       "  </thead>\n",
       "  <tbody>\n",
       "    <tr>\n",
       "      <th>0</th>\n",
       "      <td>72</td>\n",
       "      <td>W 52 St &amp; 11 Ave</td>\n",
       "      <td>40.767272</td>\n",
       "      <td>-73.993929</td>\n",
       "      <td>POLYGON ((-73.99342888 40.76727216, -73.993431...</td>\n",
       "      <td>197</td>\n",
       "      <td>W. 52 St. To W. 54 St., 11 Ave. To 12 Ave.</td>\n",
       "      <td>De Witt Clinton Park</td>\n",
       "    </tr>\n",
       "    <tr>\n",
       "      <th>2</th>\n",
       "      <td>82</td>\n",
       "      <td>St James Pl &amp; Pearl St</td>\n",
       "      <td>40.711174</td>\n",
       "      <td>-74.000165</td>\n",
       "      <td>POLYGON ((-73.99966544999999 40.71117416, -73....</td>\n",
       "      <td>1339</td>\n",
       "      <td>Pearl St., Madison St. and St James Pl.</td>\n",
       "      <td>James Madison Plaza</td>\n",
       "    </tr>\n",
       "    <tr>\n",
       "      <th>4</th>\n",
       "      <td>116</td>\n",
       "      <td>W 17 St &amp; 8 Ave</td>\n",
       "      <td>40.741776</td>\n",
       "      <td>-74.001497</td>\n",
       "      <td>POLYGON ((-74.00099745999999 40.74177603, -74....</td>\n",
       "      <td>131</td>\n",
       "      <td>W. 17 St., 8 Ave. To 9 Ave.</td>\n",
       "      <td>Dr. Gertrude B. Kelly Playground</td>\n",
       "    </tr>\n",
       "    <tr>\n",
       "      <th>655</th>\n",
       "      <td>3428</td>\n",
       "      <td>8 Ave &amp; W 16 St</td>\n",
       "      <td>40.740983</td>\n",
       "      <td>-74.001702</td>\n",
       "      <td>POLYGON ((-74.00120200000001 40.740983, -74.00...</td>\n",
       "      <td>131</td>\n",
       "      <td>W. 17 St., 8 Ave. To 9 Ave.</td>\n",
       "      <td>Dr. Gertrude B. Kelly Playground</td>\n",
       "    </tr>\n",
       "    <tr>\n",
       "      <th>5</th>\n",
       "      <td>119</td>\n",
       "      <td>Park Ave &amp; St Edwards St</td>\n",
       "      <td>40.696089</td>\n",
       "      <td>-73.978034</td>\n",
       "      <td>POLYGON ((-73.97753415 40.69608941, -73.977536...</td>\n",
       "      <td>53</td>\n",
       "      <td>Nassau St., Park Ave., bet. Navy St. and N. El...</td>\n",
       "      <td>Commodore Barry Park</td>\n",
       "    </tr>\n",
       "  </tbody>\n",
       "</table>\n",
       "</div>"
      ],
      "text/plain": [
       "     Station_id                  Location   Latitude  Longitude  \\\n",
       "0            72          W 52 St & 11 Ave  40.767272 -73.993929   \n",
       "2            82    St James Pl & Pearl St  40.711174 -74.000165   \n",
       "4           116           W 17 St & 8 Ave  40.741776 -74.001497   \n",
       "655        3428           8 Ave & W 16 St  40.740983 -74.001702   \n",
       "5           119  Park Ave & St Edwards St  40.696089 -73.978034   \n",
       "\n",
       "                                              geometry  index_right  \\\n",
       "0    POLYGON ((-73.99342888 40.76727216, -73.993431...          197   \n",
       "2    POLYGON ((-73.99966544999999 40.71117416, -73....         1339   \n",
       "4    POLYGON ((-74.00099745999999 40.74177603, -74....          131   \n",
       "655  POLYGON ((-74.00120200000001 40.740983, -74.00...          131   \n",
       "5    POLYGON ((-73.97753415 40.69608941, -73.977536...           53   \n",
       "\n",
       "                                              location  \\\n",
       "0           W. 52 St. To W. 54 St., 11 Ave. To 12 Ave.   \n",
       "2              Pearl St., Madison St. and St James Pl.   \n",
       "4                          W. 17 St., 8 Ave. To 9 Ave.   \n",
       "655                        W. 17 St., 8 Ave. To 9 Ave.   \n",
       "5    Nassau St., Park Ave., bet. Navy St. and N. El...   \n",
       "\n",
       "                             signname  \n",
       "0                De Witt Clinton Park  \n",
       "2                 James Madison Plaza  \n",
       "4    Dr. Gertrude B. Kelly Playground  \n",
       "655  Dr. Gertrude B. Kelly Playground  \n",
       "5                Commodore Barry Park  "
      ]
     },
     "execution_count": 6,
     "metadata": {},
     "output_type": "execute_result"
    }
   ],
   "source": [
    "#Merging datasets\n",
    "bike_park = gp.sjoin(geo_stations, parks, how = 'inner', op = 'intersects')\n",
    "bike_park.head()"
   ]
  },
  {
   "cell_type": "code",
   "execution_count": 7,
   "metadata": {
    "collapsed": false
   },
   "outputs": [
    {
     "data": {
      "text/html": [
       "<div>\n",
       "<table border=\"1\" class=\"dataframe\">\n",
       "  <thead>\n",
       "    <tr style=\"text-align: right;\">\n",
       "      <th></th>\n",
       "      <th></th>\n",
       "      <th></th>\n",
       "      <th></th>\n",
       "      <th>Latitude</th>\n",
       "      <th>Longitude</th>\n",
       "      <th>geometry</th>\n",
       "      <th>index_right</th>\n",
       "    </tr>\n",
       "    <tr>\n",
       "      <th>Station_id</th>\n",
       "      <th>Location</th>\n",
       "      <th>location</th>\n",
       "      <th>signname</th>\n",
       "      <th></th>\n",
       "      <th></th>\n",
       "      <th></th>\n",
       "      <th></th>\n",
       "    </tr>\n",
       "  </thead>\n",
       "  <tbody>\n",
       "    <tr>\n",
       "      <th>72</th>\n",
       "      <th>W 52 St &amp; 11 Ave</th>\n",
       "      <th>W. 52 St. To W. 54 St., 11 Ave. To 12 Ave.</th>\n",
       "      <th>De Witt Clinton Park</th>\n",
       "      <td>1</td>\n",
       "      <td>1</td>\n",
       "      <td>1</td>\n",
       "      <td>1</td>\n",
       "    </tr>\n",
       "    <tr>\n",
       "      <th>82</th>\n",
       "      <th>St James Pl &amp; Pearl St</th>\n",
       "      <th>Pearl St., Madison St. and St James Pl.</th>\n",
       "      <th>James Madison Plaza</th>\n",
       "      <td>1</td>\n",
       "      <td>1</td>\n",
       "      <td>1</td>\n",
       "      <td>1</td>\n",
       "    </tr>\n",
       "    <tr>\n",
       "      <th>116</th>\n",
       "      <th>W 17 St &amp; 8 Ave</th>\n",
       "      <th>W. 17 St., 8 Ave. To 9 Ave.</th>\n",
       "      <th>Dr. Gertrude B. Kelly Playground</th>\n",
       "      <td>1</td>\n",
       "      <td>1</td>\n",
       "      <td>1</td>\n",
       "      <td>1</td>\n",
       "    </tr>\n",
       "    <tr>\n",
       "      <th>119</th>\n",
       "      <th>Park Ave &amp; St Edwards St</th>\n",
       "      <th>Nassau St., Park Ave., bet. Navy St. and N. Elliot Pl.</th>\n",
       "      <th>Commodore Barry Park</th>\n",
       "      <td>1</td>\n",
       "      <td>1</td>\n",
       "      <td>1</td>\n",
       "      <td>1</td>\n",
       "    </tr>\n",
       "    <tr>\n",
       "      <th>128</th>\n",
       "      <th>MacDougal St &amp; Prince St</th>\n",
       "      <th>Ave. Of Americas bet. Prince St. and Spring St.</th>\n",
       "      <th>Father Fagan Park</th>\n",
       "      <td>1</td>\n",
       "      <td>1</td>\n",
       "      <td>1</td>\n",
       "      <td>1</td>\n",
       "    </tr>\n",
       "  </tbody>\n",
       "</table>\n",
       "</div>"
      ],
      "text/plain": [
       "                                                                                                                         Latitude  \\\n",
       "Station_id Location                 location                                           signname                                     \n",
       "72         W 52 St & 11 Ave         W. 52 St. To W. 54 St., 11 Ave. To 12 Ave.         De Witt Clinton Park                     1   \n",
       "82         St James Pl & Pearl St   Pearl St., Madison St. and St James Pl.            James Madison Plaza                      1   \n",
       "116        W 17 St & 8 Ave          W. 17 St., 8 Ave. To 9 Ave.                        Dr. Gertrude B. Kelly Playground         1   \n",
       "119        Park Ave & St Edwards St Nassau St., Park Ave., bet. Navy St. and N. Ell... Commodore Barry Park                     1   \n",
       "128        MacDougal St & Prince St Ave. Of Americas bet. Prince St. and Spring St.    Father Fagan Park                        1   \n",
       "\n",
       "                                                                                                                         Longitude  \\\n",
       "Station_id Location                 location                                           signname                                      \n",
       "72         W 52 St & 11 Ave         W. 52 St. To W. 54 St., 11 Ave. To 12 Ave.         De Witt Clinton Park                      1   \n",
       "82         St James Pl & Pearl St   Pearl St., Madison St. and St James Pl.            James Madison Plaza                       1   \n",
       "116        W 17 St & 8 Ave          W. 17 St., 8 Ave. To 9 Ave.                        Dr. Gertrude B. Kelly Playground          1   \n",
       "119        Park Ave & St Edwards St Nassau St., Park Ave., bet. Navy St. and N. Ell... Commodore Barry Park                      1   \n",
       "128        MacDougal St & Prince St Ave. Of Americas bet. Prince St. and Spring St.    Father Fagan Park                         1   \n",
       "\n",
       "                                                                                                                         geometry  \\\n",
       "Station_id Location                 location                                           signname                                     \n",
       "72         W 52 St & 11 Ave         W. 52 St. To W. 54 St., 11 Ave. To 12 Ave.         De Witt Clinton Park                     1   \n",
       "82         St James Pl & Pearl St   Pearl St., Madison St. and St James Pl.            James Madison Plaza                      1   \n",
       "116        W 17 St & 8 Ave          W. 17 St., 8 Ave. To 9 Ave.                        Dr. Gertrude B. Kelly Playground         1   \n",
       "119        Park Ave & St Edwards St Nassau St., Park Ave., bet. Navy St. and N. Ell... Commodore Barry Park                     1   \n",
       "128        MacDougal St & Prince St Ave. Of Americas bet. Prince St. and Spring St.    Father Fagan Park                        1   \n",
       "\n",
       "                                                                                                                         index_right  \n",
       "Station_id Location                 location                                           signname                                       \n",
       "72         W 52 St & 11 Ave         W. 52 St. To W. 54 St., 11 Ave. To 12 Ave.         De Witt Clinton Park                        1  \n",
       "82         St James Pl & Pearl St   Pearl St., Madison St. and St James Pl.            James Madison Plaza                         1  \n",
       "116        W 17 St & 8 Ave          W. 17 St., 8 Ave. To 9 Ave.                        Dr. Gertrude B. Kelly Playground            1  \n",
       "119        Park Ave & St Edwards St Nassau St., Park Ave., bet. Navy St. and N. Ell... Commodore Barry Park                        1  \n",
       "128        MacDougal St & Prince St Ave. Of Americas bet. Prince St. and Spring St.    Father Fagan Park                           1  "
      ]
     },
     "execution_count": 7,
     "metadata": {},
     "output_type": "execute_result"
    }
   ],
   "source": [
    "#Grouping data\n",
    "bike_park = bike_park.groupby(['Station_id' , 'Location', 'location', 'signname']).count()\n",
    "bike_park.head()"
   ]
  },
  {
   "cell_type": "code",
   "execution_count": 8,
   "metadata": {
    "collapsed": false
   },
   "outputs": [
    {
     "data": {
      "text/html": [
       "<div>\n",
       "<table border=\"1\" class=\"dataframe\">\n",
       "  <thead>\n",
       "    <tr style=\"text-align: right;\">\n",
       "      <th></th>\n",
       "      <th></th>\n",
       "      <th></th>\n",
       "      <th></th>\n",
       "    </tr>\n",
       "    <tr>\n",
       "      <th>Station_id</th>\n",
       "      <th>Location</th>\n",
       "      <th>location</th>\n",
       "      <th>signname</th>\n",
       "    </tr>\n",
       "  </thead>\n",
       "  <tbody>\n",
       "    <tr>\n",
       "      <th>72</th>\n",
       "      <th>W 52 St &amp; 11 Ave</th>\n",
       "      <th>W. 52 St. To W. 54 St., 11 Ave. To 12 Ave.</th>\n",
       "      <th>De Witt Clinton Park</th>\n",
       "    </tr>\n",
       "    <tr>\n",
       "      <th>82</th>\n",
       "      <th>St James Pl &amp; Pearl St</th>\n",
       "      <th>Pearl St., Madison St. and St James Pl.</th>\n",
       "      <th>James Madison Plaza</th>\n",
       "    </tr>\n",
       "    <tr>\n",
       "      <th>116</th>\n",
       "      <th>W 17 St &amp; 8 Ave</th>\n",
       "      <th>W. 17 St., 8 Ave. To 9 Ave.</th>\n",
       "      <th>Dr. Gertrude B. Kelly Playground</th>\n",
       "    </tr>\n",
       "    <tr>\n",
       "      <th>119</th>\n",
       "      <th>Park Ave &amp; St Edwards St</th>\n",
       "      <th>Nassau St., Park Ave., bet. Navy St. and N. Elliot Pl.</th>\n",
       "      <th>Commodore Barry Park</th>\n",
       "    </tr>\n",
       "    <tr>\n",
       "      <th>128</th>\n",
       "      <th>MacDougal St &amp; Prince St</th>\n",
       "      <th>Ave. Of Americas bet. Prince St. and Spring St.</th>\n",
       "      <th>Father Fagan Park</th>\n",
       "    </tr>\n",
       "  </tbody>\n",
       "</table>\n",
       "</div>"
      ],
      "text/plain": [
       "Empty DataFrame\n",
       "Columns: []\n",
       "Index: [(72, W 52 St & 11 Ave, W. 52 St. To W. 54 St., 11 Ave. To 12 Ave., De Witt Clinton Park), (82, St James Pl & Pearl St, Pearl St., Madison St. and St James Pl., James Madison Plaza), (116, W 17 St & 8 Ave, W. 17 St., 8 Ave. To 9 Ave., Dr. Gertrude B. Kelly Playground), (119, Park Ave & St Edwards St, Nassau St., Park Ave., bet. Navy St. and N. Elliot Pl., Commodore Barry Park), (128, MacDougal St & Prince St, Ave. Of Americas bet. Prince St. and Spring St., Father Fagan Park)]"
      ]
     },
     "execution_count": 8,
     "metadata": {},
     "output_type": "execute_result"
    }
   ],
   "source": [
    "bike_park.drop(['Latitude', 'Longitude', 'geometry', 'index_right'], axis = 1, inplace=True)\n",
    "bike_park.head()"
   ]
  },
  {
   "cell_type": "code",
   "execution_count": 9,
   "metadata": {
    "collapsed": false
   },
   "outputs": [
    {
     "data": {
      "text/html": [
       "<div>\n",
       "<table border=\"1\" class=\"dataframe\">\n",
       "  <thead>\n",
       "    <tr style=\"text-align: right;\">\n",
       "      <th></th>\n",
       "      <th>Station_id</th>\n",
       "      <th>citibike_location</th>\n",
       "      <th>park_location</th>\n",
       "      <th>signname</th>\n",
       "      <th>park</th>\n",
       "    </tr>\n",
       "  </thead>\n",
       "  <tbody>\n",
       "    <tr>\n",
       "      <th>0</th>\n",
       "      <td>72</td>\n",
       "      <td>W 52 St &amp; 11 Ave</td>\n",
       "      <td>W. 52 St. To W. 54 St., 11 Ave. To 12 Ave.</td>\n",
       "      <td>De Witt Clinton Park</td>\n",
       "      <td>1</td>\n",
       "    </tr>\n",
       "    <tr>\n",
       "      <th>1</th>\n",
       "      <td>82</td>\n",
       "      <td>St James Pl &amp; Pearl St</td>\n",
       "      <td>Pearl St., Madison St. and St James Pl.</td>\n",
       "      <td>James Madison Plaza</td>\n",
       "      <td>1</td>\n",
       "    </tr>\n",
       "    <tr>\n",
       "      <th>2</th>\n",
       "      <td>116</td>\n",
       "      <td>W 17 St &amp; 8 Ave</td>\n",
       "      <td>W. 17 St., 8 Ave. To 9 Ave.</td>\n",
       "      <td>Dr. Gertrude B. Kelly Playground</td>\n",
       "      <td>1</td>\n",
       "    </tr>\n",
       "    <tr>\n",
       "      <th>3</th>\n",
       "      <td>119</td>\n",
       "      <td>Park Ave &amp; St Edwards St</td>\n",
       "      <td>Nassau St., Park Ave., bet. Navy St. and N. El...</td>\n",
       "      <td>Commodore Barry Park</td>\n",
       "      <td>1</td>\n",
       "    </tr>\n",
       "    <tr>\n",
       "      <th>4</th>\n",
       "      <td>128</td>\n",
       "      <td>MacDougal St &amp; Prince St</td>\n",
       "      <td>Ave. Of Americas bet. Prince St. and Spring St.</td>\n",
       "      <td>Father Fagan Park</td>\n",
       "      <td>1</td>\n",
       "    </tr>\n",
       "  </tbody>\n",
       "</table>\n",
       "</div>"
      ],
      "text/plain": [
       "   Station_id         citibike_location  \\\n",
       "0          72          W 52 St & 11 Ave   \n",
       "1          82    St James Pl & Pearl St   \n",
       "2         116           W 17 St & 8 Ave   \n",
       "3         119  Park Ave & St Edwards St   \n",
       "4         128  MacDougal St & Prince St   \n",
       "\n",
       "                                       park_location  \\\n",
       "0         W. 52 St. To W. 54 St., 11 Ave. To 12 Ave.   \n",
       "1            Pearl St., Madison St. and St James Pl.   \n",
       "2                        W. 17 St., 8 Ave. To 9 Ave.   \n",
       "3  Nassau St., Park Ave., bet. Navy St. and N. El...   \n",
       "4    Ave. Of Americas bet. Prince St. and Spring St.   \n",
       "\n",
       "                           signname  park  \n",
       "0              De Witt Clinton Park     1  \n",
       "1               James Madison Plaza     1  \n",
       "2  Dr. Gertrude B. Kelly Playground     1  \n",
       "3              Commodore Barry Park     1  \n",
       "4                 Father Fagan Park     1  "
      ]
     },
     "execution_count": 9,
     "metadata": {},
     "output_type": "execute_result"
    }
   ],
   "source": [
    "# Creating index 1 for all CitiBike stations in proximity to subway entrances\n",
    "bike_park = bike_park.reset_index()\n",
    "bike_park.rename(columns={'Location' : 'citibike_location', 'location' : 'park_location'}, inplace=True)\n",
    "bike_park['park'] = 1\n",
    "bike_park.head()"
   ]
  },
  {
   "cell_type": "code",
   "execution_count": 11,
   "metadata": {
    "collapsed": true
   },
   "outputs": [],
   "source": [
    "# Save to CSV\n",
    "bike_park.to_csv('../data/processed/parks.csv')"
   ]
  },
  {
   "cell_type": "code",
   "execution_count": null,
   "metadata": {
    "collapsed": true
   },
   "outputs": [],
   "source": []
  },
  {
   "cell_type": "code",
   "execution_count": null,
   "metadata": {
    "collapsed": true
   },
   "outputs": [],
   "source": [
    "# exploratory analysis"
   ]
  },
  {
   "cell_type": "code",
   "execution_count": 10,
   "metadata": {
    "collapsed": false
   },
   "outputs": [
    {
     "data": {
      "text/plain": [
       "(231, 5)"
      ]
     },
     "execution_count": 10,
     "metadata": {},
     "output_type": "execute_result"
    }
   ],
   "source": [
    "bike_park.shape"
   ]
  },
  {
   "cell_type": "code",
   "execution_count": 11,
   "metadata": {
    "collapsed": false
   },
   "outputs": [
    {
     "data": {
      "text/html": [
       "<div>\n",
       "<table border=\"1\" class=\"dataframe\">\n",
       "  <thead>\n",
       "    <tr style=\"text-align: right;\">\n",
       "      <th></th>\n",
       "      <th>Station_id</th>\n",
       "      <th>Location</th>\n",
       "      <th>Latitude</th>\n",
       "      <th>Longitude</th>\n",
       "      <th>geometry</th>\n",
       "      <th>index_right</th>\n",
       "      <th>location</th>\n",
       "      <th>signname</th>\n",
       "    </tr>\n",
       "  </thead>\n",
       "  <tbody>\n",
       "    <tr>\n",
       "      <th>0</th>\n",
       "      <td>72</td>\n",
       "      <td>W 52 St &amp; 11 Ave</td>\n",
       "      <td>40.767272</td>\n",
       "      <td>-73.993929</td>\n",
       "      <td>POLYGON ((-73.99342888 40.76727216, -73.993431...</td>\n",
       "      <td>197.0</td>\n",
       "      <td>W. 52 St. To W. 54 St., 11 Ave. To 12 Ave.</td>\n",
       "      <td>De Witt Clinton Park</td>\n",
       "    </tr>\n",
       "    <tr>\n",
       "      <th>1</th>\n",
       "      <td>79</td>\n",
       "      <td>Franklin St &amp; W Broadway</td>\n",
       "      <td>40.719116</td>\n",
       "      <td>-74.006667</td>\n",
       "      <td>POLYGON ((-74.00616660999999 40.71911552, -74....</td>\n",
       "      <td>NaN</td>\n",
       "      <td>NaN</td>\n",
       "      <td>NaN</td>\n",
       "    </tr>\n",
       "    <tr>\n",
       "      <th>2</th>\n",
       "      <td>82</td>\n",
       "      <td>St James Pl &amp; Pearl St</td>\n",
       "      <td>40.711174</td>\n",
       "      <td>-74.000165</td>\n",
       "      <td>POLYGON ((-73.99966544999999 40.71117416, -73....</td>\n",
       "      <td>1339.0</td>\n",
       "      <td>Pearl St., Madison St. and St James Pl.</td>\n",
       "      <td>James Madison Plaza</td>\n",
       "    </tr>\n",
       "    <tr>\n",
       "      <th>3</th>\n",
       "      <td>83</td>\n",
       "      <td>Atlantic Ave &amp; Fort Greene Pl</td>\n",
       "      <td>40.683826</td>\n",
       "      <td>-73.976323</td>\n",
       "      <td>POLYGON ((-73.97582328 40.68382604, -73.975825...</td>\n",
       "      <td>NaN</td>\n",
       "      <td>NaN</td>\n",
       "      <td>NaN</td>\n",
       "    </tr>\n",
       "    <tr>\n",
       "      <th>4</th>\n",
       "      <td>116</td>\n",
       "      <td>W 17 St &amp; 8 Ave</td>\n",
       "      <td>40.741776</td>\n",
       "      <td>-74.001497</td>\n",
       "      <td>POLYGON ((-74.00099745999999 40.74177603, -74....</td>\n",
       "      <td>131.0</td>\n",
       "      <td>W. 17 St., 8 Ave. To 9 Ave.</td>\n",
       "      <td>Dr. Gertrude B. Kelly Playground</td>\n",
       "    </tr>\n",
       "  </tbody>\n",
       "</table>\n",
       "</div>"
      ],
      "text/plain": [
       "   Station_id                       Location   Latitude  Longitude  \\\n",
       "0          72               W 52 St & 11 Ave  40.767272 -73.993929   \n",
       "1          79       Franklin St & W Broadway  40.719116 -74.006667   \n",
       "2          82         St James Pl & Pearl St  40.711174 -74.000165   \n",
       "3          83  Atlantic Ave & Fort Greene Pl  40.683826 -73.976323   \n",
       "4         116                W 17 St & 8 Ave  40.741776 -74.001497   \n",
       "\n",
       "                                            geometry  index_right  \\\n",
       "0  POLYGON ((-73.99342888 40.76727216, -73.993431...        197.0   \n",
       "1  POLYGON ((-74.00616660999999 40.71911552, -74....          NaN   \n",
       "2  POLYGON ((-73.99966544999999 40.71117416, -73....       1339.0   \n",
       "3  POLYGON ((-73.97582328 40.68382604, -73.975825...          NaN   \n",
       "4  POLYGON ((-74.00099745999999 40.74177603, -74....        131.0   \n",
       "\n",
       "                                     location  \\\n",
       "0  W. 52 St. To W. 54 St., 11 Ave. To 12 Ave.   \n",
       "1                                         NaN   \n",
       "2     Pearl St., Madison St. and St James Pl.   \n",
       "3                                         NaN   \n",
       "4                 W. 17 St., 8 Ave. To 9 Ave.   \n",
       "\n",
       "                           signname  \n",
       "0              De Witt Clinton Park  \n",
       "1                               NaN  \n",
       "2               James Madison Plaza  \n",
       "3                               NaN  \n",
       "4  Dr. Gertrude B. Kelly Playground  "
      ]
     },
     "execution_count": 11,
     "metadata": {},
     "output_type": "execute_result"
    }
   ],
   "source": [
    "#Merging datasets, keeping all the stations\n",
    "bike0_park = gp.sjoin(geo_stations, parks, how = 'left', op = 'intersects')\n",
    "bike0_park.head()"
   ]
  },
  {
   "cell_type": "code",
   "execution_count": 19,
   "metadata": {
    "collapsed": false
   },
   "outputs": [
    {
     "data": {
      "text/plain": [
       "(701, 8)"
      ]
     },
     "execution_count": 19,
     "metadata": {},
     "output_type": "execute_result"
    }
   ],
   "source": [
    "bike0_park.shape"
   ]
  },
  {
   "cell_type": "code",
   "execution_count": 26,
   "metadata": {
    "collapsed": false
   },
   "outputs": [],
   "source": [
    "#bike0_park.crs = {'init' :'epsg:4326'}\n",
    "#bike0_park.crs= {'init': 'epsg:26918'}"
   ]
  },
  {
   "cell_type": "code",
   "execution_count": 33,
   "metadata": {
    "collapsed": false
   },
   "outputs": [],
   "source": []
  },
  {
   "cell_type": "code",
   "execution_count": 14,
   "metadata": {
    "collapsed": false
   },
   "outputs": [
    {
     "data": {
      "text/plain": [
       "Station_id\n",
       "72     1\n",
       "79     0\n",
       "82     1\n",
       "83     0\n",
       "116    1\n",
       "Name: signname, dtype: int64"
      ]
     },
     "execution_count": 14,
     "metadata": {},
     "output_type": "execute_result"
    }
   ],
   "source": [
    "#Grouping data\n",
    "bike0_park_count = bike0_park['signname'].groupby(bike0_park['Station_id']).count()\n",
    "bike0_park_count[:5]"
   ]
  },
  {
   "cell_type": "code",
   "execution_count": 34,
   "metadata": {
    "collapsed": false
   },
   "outputs": [
    {
     "data": {
      "text/plain": [
       "<matplotlib.axes._subplots.AxesSubplot at 0x12eaf5990>"
      ]
     },
     "execution_count": 34,
     "metadata": {},
     "output_type": "execute_result"
    },
    {
     "data": {
      "image/png": "[encoded data removed]",
      "text/plain": [
       "<matplotlib.figure.Figure at 0x128453590>"
      ]
     },
     "metadata": {},
     "output_type": "display_data"
    }
   ],
   "source": [
    "fig = plt.figure(figsize=(18,30))\n",
    "fig.add_subplot(711)\n",
    "\n",
    "plt.subplot(711)\n",
    "bike0_park_count[:100].plot(kind=\"bar\", alpha=0.5)\n",
    "plt.subplot(712)\n",
    "bike0_park_count[100:200].plot(kind=\"bar\", alpha=0.5)\n",
    "plt.subplot(713)\n",
    "bike0_park_count[200:300].plot(kind=\"bar\", alpha=0.5)\n",
    "plt.subplot(714)\n",
    "bike0_park_count[300:400].plot(kind=\"bar\", alpha=0.5)\n",
    "plt.subplot(715)\n",
    "bike0_park_count[400:500].plot(kind=\"bar\", alpha=0.5)\n",
    "plt.subplot(716)\n",
    "bike0_park_count[500:600].plot(kind=\"bar\", alpha=0.5)\n",
    "plt.subplot(717)\n",
    "bike0_park_count[600:].plot(kind=\"bar\", alpha=0.5)"
   ]
  },
  {
   "cell_type": "code",
   "execution_count": null,
   "metadata": {
    "collapsed": true
   },
   "outputs": [],
   "source": [
    "bike0_park_count == 1 "
   ]
  },
  {
   "cell_type": "code",
   "execution_count": null,
   "metadata": {
    "collapsed": true
   },
   "outputs": [],
   "source": [
    "fig2 = plt.figure(figsize=(12,6))\n",
    "\n",
    "# not a good idea-- id are categorical\n",
    "\n",
    "#bike0_park['Station_id'].plot.hist(by='Station_id', bins=20)"
   ]
  }
 ],
 "metadata": {
  "anaconda-cloud": {},
  "kernelspec": {
   "display_name": "Python [Root]",
   "language": "python",
   "name": "Python [Root]"
  },
  "language_info": {
   "codemirror_mode": {
    "name": "ipython",
    "version": 2
   },
   "file_extension": ".py",
   "mimetype": "text/x-python",
   "name": "python",
   "nbconvert_exporter": "python",
   "pygments_lexer": "ipython2",
   "version": "2.7.12"
  }
 },
 "nbformat": 4,
 "nbformat_minor": 0
}
