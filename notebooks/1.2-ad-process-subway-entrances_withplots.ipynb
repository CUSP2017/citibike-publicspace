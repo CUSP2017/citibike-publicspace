{
 "cells": [
  {
   "cell_type": "markdown",
   "metadata": {},
   "source": [
    "# Merging CitiBike Data with Subway Entrance Data"
   ]
  },
  {
   "cell_type": "code",
   "execution_count": 9,
   "metadata": {
    "collapsed": true
   },
   "outputs": [],
   "source": [
    "import numpy as np\n",
    "import pandas as pd\n",
    "import geopandas as gp\n",
    "import os\n",
    "from shapely.geometry import Point\n",
    "\n",
    "import matplotlib.pyplot as plt\n",
    "%matplotlib inline"
   ]
  },
  {
   "cell_type": "code",
   "execution_count": 2,
   "metadata": {
    "collapsed": false
   },
   "outputs": [
    {
     "data": {
      "text/html": [
       "<div>\n",
       "<table border=\"1\" class=\"dataframe\">\n",
       "  <thead>\n",
       "    <tr style=\"text-align: right;\">\n",
       "      <th></th>\n",
       "      <th>Station_id</th>\n",
       "      <th>Station_Name</th>\n",
       "      <th>Location</th>\n",
       "      <th>Latitude</th>\n",
       "      <th>Longitude</th>\n",
       "      <th>geometry</th>\n",
       "    </tr>\n",
       "  </thead>\n",
       "  <tbody>\n",
       "    <tr>\n",
       "      <th>0</th>\n",
       "      <td>72</td>\n",
       "      <td>W 52 St &amp; 11 Ave</td>\n",
       "      <td>W 52 St &amp; 11 Ave</td>\n",
       "      <td>40.767272</td>\n",
       "      <td>-73.993929</td>\n",
       "      <td>POLYGON ((-73.99342888 40.76727216, -73.993431...</td>\n",
       "    </tr>\n",
       "    <tr>\n",
       "      <th>1</th>\n",
       "      <td>79</td>\n",
       "      <td>Franklin St &amp; W Broadway</td>\n",
       "      <td>Franklin St &amp; W Broadway</td>\n",
       "      <td>40.719116</td>\n",
       "      <td>-74.006667</td>\n",
       "      <td>POLYGON ((-74.00616660999999 40.71911552, -74....</td>\n",
       "    </tr>\n",
       "    <tr>\n",
       "      <th>2</th>\n",
       "      <td>82</td>\n",
       "      <td>St James Pl &amp; Pearl St</td>\n",
       "      <td>St James Pl &amp; Pearl St</td>\n",
       "      <td>40.711174</td>\n",
       "      <td>-74.000165</td>\n",
       "      <td>POLYGON ((-73.99966544999999 40.71117416, -73....</td>\n",
       "    </tr>\n",
       "    <tr>\n",
       "      <th>3</th>\n",
       "      <td>83</td>\n",
       "      <td>Atlantic Ave &amp; Fort Greene Pl</td>\n",
       "      <td>Atlantic Ave &amp; Fort Greene Pl</td>\n",
       "      <td>40.683826</td>\n",
       "      <td>-73.976323</td>\n",
       "      <td>POLYGON ((-73.97582328 40.68382604, -73.975825...</td>\n",
       "    </tr>\n",
       "    <tr>\n",
       "      <th>4</th>\n",
       "      <td>116</td>\n",
       "      <td>W 17 St &amp; 8 Ave</td>\n",
       "      <td>W 17 St &amp; 8 Ave</td>\n",
       "      <td>40.741776</td>\n",
       "      <td>-74.001497</td>\n",
       "      <td>POLYGON ((-74.00099745999999 40.74177603, -74....</td>\n",
       "    </tr>\n",
       "  </tbody>\n",
       "</table>\n",
       "</div>"
      ],
      "text/plain": [
       "   Station_id                   Station_Name                       Location  \\\n",
       "0          72               W 52 St & 11 Ave               W 52 St & 11 Ave   \n",
       "1          79       Franklin St & W Broadway       Franklin St & W Broadway   \n",
       "2          82         St James Pl & Pearl St         St James Pl & Pearl St   \n",
       "3          83  Atlantic Ave & Fort Greene Pl  Atlantic Ave & Fort Greene Pl   \n",
       "4         116                W 17 St & 8 Ave                W 17 St & 8 Ave   \n",
       "\n",
       "    Latitude  Longitude                                           geometry  \n",
       "0  40.767272 -73.993929  POLYGON ((-73.99342888 40.76727216, -73.993431...  \n",
       "1  40.719116 -74.006667  POLYGON ((-74.00616660999999 40.71911552, -74....  \n",
       "2  40.711174 -74.000165  POLYGON ((-73.99966544999999 40.71117416, -73....  \n",
       "3  40.683826 -73.976323  POLYGON ((-73.97582328 40.68382604, -73.975825...  \n",
       "4  40.741776 -74.001497  POLYGON ((-74.00099745999999 40.74177603, -74....  "
      ]
     },
     "execution_count": 2,
     "metadata": {},
     "output_type": "execute_result"
    }
   ],
   "source": [
    "# Importing CitiBike Data\n",
    "stations = pd.read_csv('../data/processed/stations.csv')\n",
    "stations = stations.dropna()\n",
    "geometry = gp.GeoSeries([Point(xy) for xy in zip(stations.Longitude, stations.Latitude)])\n",
    "geometry = geometry.buffer(.0005)  # Using buffer of 0.0005\n",
    "geo_stations = gp.GeoDataFrame(stations, geometry=geometry)\n",
    "geo_stations.crs = {'init' :'epsg:4326'}\n",
    "geo_stations.to_file('../data/interim/geo_stations')\n",
    "geo_stations.head()"
   ]
  },
  {
   "cell_type": "code",
   "execution_count": 3,
   "metadata": {
    "collapsed": false
   },
   "outputs": [
    {
     "data": {
      "text/html": [
       "<div>\n",
       "<table border=\"1\" class=\"dataframe\">\n",
       "  <thead>\n",
       "    <tr style=\"text-align: right;\">\n",
       "      <th></th>\n",
       "      <th>geometry</th>\n",
       "      <th>line</th>\n",
       "      <th>name</th>\n",
       "    </tr>\n",
       "  </thead>\n",
       "  <tbody>\n",
       "    <tr>\n",
       "      <th>0</th>\n",
       "      <td>POINT (-73.99027199929638 40.68672833129772)</td>\n",
       "      <td>F-G</td>\n",
       "      <td>Smith St &amp; Bergen St At Ne Corner (To Manhatta...</td>\n",
       "    </tr>\n",
       "    <tr>\n",
       "      <th>1</th>\n",
       "      <td>POINT (-73.9906780008789 40.69372533216928)</td>\n",
       "      <td>2-3-4-5-N-R</td>\n",
       "      <td>Court St &amp; Montague St At Sw Corner</td>\n",
       "    </tr>\n",
       "    <tr>\n",
       "      <th>2</th>\n",
       "      <td>POINT (-73.99059199905471 40.69364233162101)</td>\n",
       "      <td>2-3-4-5-N-R</td>\n",
       "      <td>Court St &amp; Montague St At Sw Corner</td>\n",
       "    </tr>\n",
       "    <tr>\n",
       "      <th>3</th>\n",
       "      <td>POINT (-73.99253735666481 40.69439311951264)</td>\n",
       "      <td>2-3-4-5-N-R</td>\n",
       "      <td>Clinton St &amp; Montague St At Nw Corner</td>\n",
       "    </tr>\n",
       "    <tr>\n",
       "      <th>4</th>\n",
       "      <td>POINT (-73.96224891505983 40.66272735822238)</td>\n",
       "      <td>B-Q-S</td>\n",
       "      <td>Flatbush Ave &amp; Empire Blvd At Sw Corner</td>\n",
       "    </tr>\n",
       "  </tbody>\n",
       "</table>\n",
       "</div>"
      ],
      "text/plain": [
       "                                       geometry         line  \\\n",
       "0  POINT (-73.99027199929638 40.68672833129772)          F-G   \n",
       "1   POINT (-73.9906780008789 40.69372533216928)  2-3-4-5-N-R   \n",
       "2  POINT (-73.99059199905471 40.69364233162101)  2-3-4-5-N-R   \n",
       "3  POINT (-73.99253735666481 40.69439311951264)  2-3-4-5-N-R   \n",
       "4  POINT (-73.96224891505983 40.66272735822238)        B-Q-S   \n",
       "\n",
       "                                                name  \n",
       "0  Smith St & Bergen St At Ne Corner (To Manhatta...  \n",
       "1                Court St & Montague St At Sw Corner  \n",
       "2                Court St & Montague St At Sw Corner  \n",
       "3              Clinton St & Montague St At Nw Corner  \n",
       "4            Flatbush Ave & Empire Blvd At Sw Corner  "
      ]
     },
     "execution_count": 3,
     "metadata": {},
     "output_type": "execute_result"
    }
   ],
   "source": [
    "# Importing Subway Entrance Data\n",
    "# Imported geojson file from https://data.cityofnewyork.us/api/geospatial/drex-xx56?method=export&format=GeoJSON\n",
    "subway_data = gp.read_file('../data/external/subway-entrances.geojson')\n",
    "subway_data = subway_data[['geometry', 'line', 'name']]\n",
    "subway_data = subway_data.dropna()\n",
    "subway_data = subway_data.to_crs({'init' :'epsg:4326'})\n",
    "subway_data.head()"
   ]
  },
  {
   "cell_type": "code",
   "execution_count": 4,
   "metadata": {
    "collapsed": false
   },
   "outputs": [
    {
     "data": {
      "text/html": [
       "<div>\n",
       "<table border=\"1\" class=\"dataframe\">\n",
       "  <thead>\n",
       "    <tr style=\"text-align: right;\">\n",
       "      <th></th>\n",
       "      <th>Station_id</th>\n",
       "      <th>Station_Name</th>\n",
       "      <th>Location</th>\n",
       "      <th>Latitude</th>\n",
       "      <th>Longitude</th>\n",
       "      <th>geometry</th>\n",
       "      <th>index_right</th>\n",
       "      <th>line</th>\n",
       "      <th>name</th>\n",
       "    </tr>\n",
       "  </thead>\n",
       "  <tbody>\n",
       "    <tr>\n",
       "      <th>1</th>\n",
       "      <td>79</td>\n",
       "      <td>Franklin St &amp; W Broadway</td>\n",
       "      <td>Franklin St &amp; W Broadway</td>\n",
       "      <td>40.719116</td>\n",
       "      <td>-74.006667</td>\n",
       "      <td>POLYGON ((-74.00616660999999 40.71911552, -74....</td>\n",
       "      <td>251</td>\n",
       "      <td>1</td>\n",
       "      <td>Varick St &amp; Franklin St At Sw Corner (Downtown...</td>\n",
       "    </tr>\n",
       "    <tr>\n",
       "      <th>1</th>\n",
       "      <td>79</td>\n",
       "      <td>Franklin St &amp; W Broadway</td>\n",
       "      <td>Franklin St &amp; W Broadway</td>\n",
       "      <td>40.719116</td>\n",
       "      <td>-74.006667</td>\n",
       "      <td>POLYGON ((-74.00616660999999 40.71911552, -74....</td>\n",
       "      <td>252</td>\n",
       "      <td>1</td>\n",
       "      <td>West Broadway &amp; Franklin St At Sw Corner (Upto...</td>\n",
       "    </tr>\n",
       "    <tr>\n",
       "      <th>1</th>\n",
       "      <td>79</td>\n",
       "      <td>Franklin St &amp; W Broadway</td>\n",
       "      <td>Franklin St &amp; W Broadway</td>\n",
       "      <td>40.719116</td>\n",
       "      <td>-74.006667</td>\n",
       "      <td>POLYGON ((-74.00616660999999 40.71911552, -74....</td>\n",
       "      <td>1890</td>\n",
       "      <td>1</td>\n",
       "      <td>Varick St &amp; Franklin St At Nw Corner (Downtown...</td>\n",
       "    </tr>\n",
       "    <tr>\n",
       "      <th>15</th>\n",
       "      <td>151</td>\n",
       "      <td>Cleveland Pl &amp; Spring St</td>\n",
       "      <td>Cleveland Pl &amp; Spring St</td>\n",
       "      <td>40.722104</td>\n",
       "      <td>-73.997249</td>\n",
       "      <td>POLYGON ((-73.99674900719999 40.7221037867, -7...</td>\n",
       "      <td>1351</td>\n",
       "      <td>4-6-6 Express</td>\n",
       "      <td>Lafayette St &amp; Spring St At Sw Corner (Downtow...</td>\n",
       "    </tr>\n",
       "    <tr>\n",
       "      <th>15</th>\n",
       "      <td>151</td>\n",
       "      <td>Cleveland Pl &amp; Spring St</td>\n",
       "      <td>Cleveland Pl &amp; Spring St</td>\n",
       "      <td>40.722104</td>\n",
       "      <td>-73.997249</td>\n",
       "      <td>POLYGON ((-73.99674900719999 40.7221037867, -7...</td>\n",
       "      <td>330</td>\n",
       "      <td>4-6-6 Express</td>\n",
       "      <td>27 Cleveland Place (Uptown Only)</td>\n",
       "    </tr>\n",
       "  </tbody>\n",
       "</table>\n",
       "</div>"
      ],
      "text/plain": [
       "    Station_id              Station_Name                  Location   Latitude  \\\n",
       "1           79  Franklin St & W Broadway  Franklin St & W Broadway  40.719116   \n",
       "1           79  Franklin St & W Broadway  Franklin St & W Broadway  40.719116   \n",
       "1           79  Franklin St & W Broadway  Franklin St & W Broadway  40.719116   \n",
       "15         151  Cleveland Pl & Spring St  Cleveland Pl & Spring St  40.722104   \n",
       "15         151  Cleveland Pl & Spring St  Cleveland Pl & Spring St  40.722104   \n",
       "\n",
       "    Longitude                                           geometry  index_right  \\\n",
       "1  -74.006667  POLYGON ((-74.00616660999999 40.71911552, -74....          251   \n",
       "1  -74.006667  POLYGON ((-74.00616660999999 40.71911552, -74....          252   \n",
       "1  -74.006667  POLYGON ((-74.00616660999999 40.71911552, -74....         1890   \n",
       "15 -73.997249  POLYGON ((-73.99674900719999 40.7221037867, -7...         1351   \n",
       "15 -73.997249  POLYGON ((-73.99674900719999 40.7221037867, -7...          330   \n",
       "\n",
       "             line                                               name  \n",
       "1               1  Varick St & Franklin St At Sw Corner (Downtown...  \n",
       "1               1  West Broadway & Franklin St At Sw Corner (Upto...  \n",
       "1               1  Varick St & Franklin St At Nw Corner (Downtown...  \n",
       "15  4-6-6 Express  Lafayette St & Spring St At Sw Corner (Downtow...  \n",
       "15  4-6-6 Express                   27 Cleveland Place (Uptown Only)  "
      ]
     },
     "execution_count": 4,
     "metadata": {},
     "output_type": "execute_result"
    }
   ],
   "source": [
    "# Creating an inner join between CitiBike data and subway entrance data\n",
    "aaron = gp.sjoin(geo_stations, subway_data, how = 'inner', op = 'intersects')\n",
    "aaron.head()"
   ]
  },
  {
   "cell_type": "code",
   "execution_count": 5,
   "metadata": {
    "collapsed": false
   },
   "outputs": [
    {
     "data": {
      "text/html": [
       "<div>\n",
       "<table border=\"1\" class=\"dataframe\">\n",
       "  <thead>\n",
       "    <tr style=\"text-align: right;\">\n",
       "      <th></th>\n",
       "      <th></th>\n",
       "      <th></th>\n",
       "      <th>Station_Name</th>\n",
       "      <th>Latitude</th>\n",
       "      <th>Longitude</th>\n",
       "      <th>geometry</th>\n",
       "      <th>index_right</th>\n",
       "      <th>name</th>\n",
       "    </tr>\n",
       "    <tr>\n",
       "      <th>Station_id</th>\n",
       "      <th>Location</th>\n",
       "      <th>line</th>\n",
       "      <th></th>\n",
       "      <th></th>\n",
       "      <th></th>\n",
       "      <th></th>\n",
       "      <th></th>\n",
       "      <th></th>\n",
       "    </tr>\n",
       "  </thead>\n",
       "  <tbody>\n",
       "    <tr>\n",
       "      <th>79</th>\n",
       "      <th>Franklin St &amp; W Broadway</th>\n",
       "      <th>1</th>\n",
       "      <td>3</td>\n",
       "      <td>3</td>\n",
       "      <td>3</td>\n",
       "      <td>3</td>\n",
       "      <td>3</td>\n",
       "      <td>3</td>\n",
       "    </tr>\n",
       "    <tr>\n",
       "      <th>151</th>\n",
       "      <th>Cleveland Pl &amp; Spring St</th>\n",
       "      <th>4-6-6 Express</th>\n",
       "      <td>4</td>\n",
       "      <td>4</td>\n",
       "      <td>4</td>\n",
       "      <td>4</td>\n",
       "      <td>4</td>\n",
       "      <td>4</td>\n",
       "    </tr>\n",
       "    <tr>\n",
       "      <th>223</th>\n",
       "      <th>W 13 St &amp; 7 Ave</th>\n",
       "      <th>1-2-3-L-F-M</th>\n",
       "      <td>2</td>\n",
       "      <td>2</td>\n",
       "      <td>2</td>\n",
       "      <td>2</td>\n",
       "      <td>2</td>\n",
       "      <td>2</td>\n",
       "    </tr>\n",
       "    <tr>\n",
       "      <th>257</th>\n",
       "      <th>Lispenard St &amp; Broadway</th>\n",
       "      <th>4-6-6 Express-J-Z-N-Q-R</th>\n",
       "      <td>2</td>\n",
       "      <td>2</td>\n",
       "      <td>2</td>\n",
       "      <td>2</td>\n",
       "      <td>2</td>\n",
       "      <td>2</td>\n",
       "    </tr>\n",
       "    <tr>\n",
       "      <th>267</th>\n",
       "      <th>Broadway &amp; W 36 St</th>\n",
       "      <th>B-D-F-M-N-Q-R</th>\n",
       "      <td>3</td>\n",
       "      <td>3</td>\n",
       "      <td>3</td>\n",
       "      <td>3</td>\n",
       "      <td>3</td>\n",
       "      <td>3</td>\n",
       "    </tr>\n",
       "  </tbody>\n",
       "</table>\n",
       "</div>"
      ],
      "text/plain": [
       "                                                             Station_Name  \\\n",
       "Station_id Location                 line                                    \n",
       "79         Franklin St & W Broadway 1                                   3   \n",
       "151        Cleveland Pl & Spring St 4-6-6 Express                       4   \n",
       "223        W 13 St & 7 Ave          1-2-3-L-F-M                         2   \n",
       "257        Lispenard St & Broadway  4-6-6 Express-J-Z-N-Q-R             2   \n",
       "267        Broadway & W 36 St       B-D-F-M-N-Q-R                       3   \n",
       "\n",
       "                                                             Latitude  \\\n",
       "Station_id Location                 line                                \n",
       "79         Franklin St & W Broadway 1                               3   \n",
       "151        Cleveland Pl & Spring St 4-6-6 Express                   4   \n",
       "223        W 13 St & 7 Ave          1-2-3-L-F-M                     2   \n",
       "257        Lispenard St & Broadway  4-6-6 Express-J-Z-N-Q-R         2   \n",
       "267        Broadway & W 36 St       B-D-F-M-N-Q-R                   3   \n",
       "\n",
       "                                                             Longitude  \\\n",
       "Station_id Location                 line                                 \n",
       "79         Franklin St & W Broadway 1                                3   \n",
       "151        Cleveland Pl & Spring St 4-6-6 Express                    4   \n",
       "223        W 13 St & 7 Ave          1-2-3-L-F-M                      2   \n",
       "257        Lispenard St & Broadway  4-6-6 Express-J-Z-N-Q-R          2   \n",
       "267        Broadway & W 36 St       B-D-F-M-N-Q-R                    3   \n",
       "\n",
       "                                                             geometry  \\\n",
       "Station_id Location                 line                                \n",
       "79         Franklin St & W Broadway 1                               3   \n",
       "151        Cleveland Pl & Spring St 4-6-6 Express                   4   \n",
       "223        W 13 St & 7 Ave          1-2-3-L-F-M                     2   \n",
       "257        Lispenard St & Broadway  4-6-6 Express-J-Z-N-Q-R         2   \n",
       "267        Broadway & W 36 St       B-D-F-M-N-Q-R                   3   \n",
       "\n",
       "                                                             index_right  name  \n",
       "Station_id Location                 line                                        \n",
       "79         Franklin St & W Broadway 1                                  3     3  \n",
       "151        Cleveland Pl & Spring St 4-6-6 Express                      4     4  \n",
       "223        W 13 St & 7 Ave          1-2-3-L-F-M                        2     2  \n",
       "257        Lispenard St & Broadway  4-6-6 Express-J-Z-N-Q-R            2     2  \n",
       "267        Broadway & W 36 St       B-D-F-M-N-Q-R                      3     3  "
      ]
     },
     "execution_count": 5,
     "metadata": {},
     "output_type": "execute_result"
    }
   ],
   "source": [
    "# Grouping the important columns viz. CitiBike station id, Street Location and the subway line in proximity\n",
    "a = aaron.groupby(['Station_id' , 'Location', 'line']).count()\n",
    "a.head()"
   ]
  },
  {
   "cell_type": "code",
   "execution_count": 6,
   "metadata": {
    "collapsed": false
   },
   "outputs": [
    {
     "data": {
      "text/html": [
       "<div>\n",
       "<table border=\"1\" class=\"dataframe\">\n",
       "  <thead>\n",
       "    <tr style=\"text-align: right;\">\n",
       "      <th></th>\n",
       "      <th></th>\n",
       "      <th></th>\n",
       "    </tr>\n",
       "    <tr>\n",
       "      <th>Station_id</th>\n",
       "      <th>Location</th>\n",
       "      <th>line</th>\n",
       "    </tr>\n",
       "  </thead>\n",
       "  <tbody>\n",
       "    <tr>\n",
       "      <th>79</th>\n",
       "      <th>Franklin St &amp; W Broadway</th>\n",
       "      <th>1</th>\n",
       "    </tr>\n",
       "    <tr>\n",
       "      <th>151</th>\n",
       "      <th>Cleveland Pl &amp; Spring St</th>\n",
       "      <th>4-6-6 Express</th>\n",
       "    </tr>\n",
       "    <tr>\n",
       "      <th>223</th>\n",
       "      <th>W 13 St &amp; 7 Ave</th>\n",
       "      <th>1-2-3-L-F-M</th>\n",
       "    </tr>\n",
       "    <tr>\n",
       "      <th>257</th>\n",
       "      <th>Lispenard St &amp; Broadway</th>\n",
       "      <th>4-6-6 Express-J-Z-N-Q-R</th>\n",
       "    </tr>\n",
       "    <tr>\n",
       "      <th>267</th>\n",
       "      <th>Broadway &amp; W 36 St</th>\n",
       "      <th>B-D-F-M-N-Q-R</th>\n",
       "    </tr>\n",
       "  </tbody>\n",
       "</table>\n",
       "</div>"
      ],
      "text/plain": [
       "Empty DataFrame\n",
       "Columns: []\n",
       "Index: [(79, Franklin St & W Broadway, 1), (151, Cleveland Pl & Spring St, 4-6-6 Express), (223, W 13 St & 7 Ave, 1-2-3-L-F-M), (257, Lispenard St & Broadway, 4-6-6 Express-J-Z-N-Q-R), (267, Broadway & W 36 St, B-D-F-M-N-Q-R)]"
      ]
     },
     "execution_count": 6,
     "metadata": {},
     "output_type": "execute_result"
    }
   ],
   "source": [
    "# Droping extraneous columns\n",
    "a.drop(['Station_Name', 'Latitude', 'Longitude', 'geometry', 'index_right', 'name'], axis =1, inplace = True)\n",
    "a.head()"
   ]
  },
  {
   "cell_type": "code",
   "execution_count": 13,
   "metadata": {
    "collapsed": false,
    "scrolled": true
   },
   "outputs": [
    {
     "data": {
      "text/html": [
       "<div>\n",
       "<table border=\"1\" class=\"dataframe\">\n",
       "  <thead>\n",
       "    <tr style=\"text-align: right;\">\n",
       "      <th></th>\n",
       "      <th>Station_id</th>\n",
       "      <th>Location</th>\n",
       "      <th>line</th>\n",
       "      <th>subway_entrance</th>\n",
       "    </tr>\n",
       "  </thead>\n",
       "  <tbody>\n",
       "    <tr>\n",
       "      <th>0</th>\n",
       "      <td>79</td>\n",
       "      <td>Franklin St &amp; W Broadway</td>\n",
       "      <td>1</td>\n",
       "      <td>1</td>\n",
       "    </tr>\n",
       "    <tr>\n",
       "      <th>1</th>\n",
       "      <td>151</td>\n",
       "      <td>Cleveland Pl &amp; Spring St</td>\n",
       "      <td>4-6-6 Express</td>\n",
       "      <td>1</td>\n",
       "    </tr>\n",
       "    <tr>\n",
       "      <th>2</th>\n",
       "      <td>223</td>\n",
       "      <td>W 13 St &amp; 7 Ave</td>\n",
       "      <td>1-2-3-L-F-M</td>\n",
       "      <td>1</td>\n",
       "    </tr>\n",
       "    <tr>\n",
       "      <th>3</th>\n",
       "      <td>257</td>\n",
       "      <td>Lispenard St &amp; Broadway</td>\n",
       "      <td>4-6-6 Express-J-Z-N-Q-R</td>\n",
       "      <td>1</td>\n",
       "    </tr>\n",
       "    <tr>\n",
       "      <th>4</th>\n",
       "      <td>267</td>\n",
       "      <td>Broadway &amp; W 36 St</td>\n",
       "      <td>B-D-F-M-N-Q-R</td>\n",
       "      <td>1</td>\n",
       "    </tr>\n",
       "  </tbody>\n",
       "</table>\n",
       "</div>"
      ],
      "text/plain": [
       "   Station_id                  Location                     line  \\\n",
       "0          79  Franklin St & W Broadway                        1   \n",
       "1         151  Cleveland Pl & Spring St            4-6-6 Express   \n",
       "2         223           W 13 St & 7 Ave              1-2-3-L-F-M   \n",
       "3         257   Lispenard St & Broadway  4-6-6 Express-J-Z-N-Q-R   \n",
       "4         267        Broadway & W 36 St            B-D-F-M-N-Q-R   \n",
       "\n",
       "   subway_entrance  \n",
       "0                1  \n",
       "1                1  \n",
       "2                1  \n",
       "3                1  \n",
       "4                1  "
      ]
     },
     "execution_count": 13,
     "metadata": {},
     "output_type": "execute_result"
    }
   ],
   "source": [
    "# Creating index 1 for all CitiBike stations in proximity to subway entrances\n",
    "a = a.reset_index()\n",
    "a['subway_entrance'] = 1\n",
    "a.head()"
   ]
  },
  {
   "cell_type": "code",
   "execution_count": 8,
   "metadata": {
    "collapsed": true
   },
   "outputs": [],
   "source": [
    "# Save to CSV\n",
    "a.to_csv('../data/processed/subway-entrances.csv')"
   ]
  },
  {
   "cell_type": "code",
   "execution_count": null,
   "metadata": {
    "collapsed": true
   },
   "outputs": [],
   "source": []
  },
  {
   "cell_type": "code",
   "execution_count": 7,
   "metadata": {
    "collapsed": false
   },
   "outputs": [
    {
     "data": {
      "text/plain": [
       "73"
      ]
     },
     "execution_count": 7,
     "metadata": {},
     "output_type": "execute_result"
    }
   ],
   "source": [
    "len(a)"
   ]
  },
  {
   "cell_type": "code",
   "execution_count": null,
   "metadata": {
    "collapsed": true
   },
   "outputs": [],
   "source": [
    "# Count number of lines----  ??"
   ]
  },
  {
   "cell_type": "code",
   "execution_count": 14,
   "metadata": {
    "collapsed": false
   },
   "outputs": [],
   "source": [
    "a_count = a['line'].groupby(a['Station_id']).count()"
   ]
  },
  {
   "cell_type": "code",
   "execution_count": 16,
   "metadata": {
    "collapsed": false
   },
   "outputs": [
    {
     "data": {
      "text/plain": [
       "72"
      ]
     },
     "execution_count": 16,
     "metadata": {},
     "output_type": "execute_result"
    }
   ],
   "source": [
    "len(a_count)"
   ]
  },
  {
   "cell_type": "code",
   "execution_count": 17,
   "metadata": {
    "collapsed": false
   },
   "outputs": [
    {
     "data": {
      "text/plain": [
       "<matplotlib.axes._subplots.AxesSubplot at 0x119e595d0>"
      ]
     },
     "execution_count": 17,
     "metadata": {},
     "output_type": "execute_result"
    },
    {
     "data": {
      "image/png": "[encoded data removed]",
      "text/plain": [
       "<matplotlib.figure.Figure at 0x119e593d0>"
      ]
     },
     "metadata": {},
     "output_type": "display_data"
    }
   ],
   "source": [
    "fig = plt.figure(figsize=(18,6))\n",
    "#fig.add_subplot(711)\n",
    "\n",
    "#plt.subplot(711)\n",
    "a_count.plot(kind=\"bar\", alpha=0.5)"
   ]
  },
  {
   "cell_type": "code",
   "execution_count": null,
   "metadata": {
    "collapsed": true
   },
   "outputs": [],
   "source": []
  }
 ],
 "metadata": {
  "anaconda-cloud": {},
  "kernelspec": {
   "display_name": "Python [Root]",
   "language": "python",
   "name": "Python [Root]"
  },
  "language_info": {
   "codemirror_mode": {
    "name": "ipython",
    "version": 2
   },
   "file_extension": ".py",
   "mimetype": "text/x-python",
   "name": "python",
   "nbconvert_exporter": "python",
   "pygments_lexer": "ipython2",
   "version": "2.7.12"
  }
 },
 "nbformat": 4,
 "nbformat_minor": 0
}
