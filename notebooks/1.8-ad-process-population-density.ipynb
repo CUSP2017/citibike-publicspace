{
 "cells": [
  {
   "cell_type": "markdown",
   "metadata": {},
   "source": [
    "#### Note: I did not make changes to the Pull data file"
   ]
  },
  {
   "cell_type": "code",
   "execution_count": 1,
   "metadata": {
    "collapsed": true
   },
   "outputs": [],
   "source": [
    "import geopandas as gp\n",
    "import pandas as pd\n",
    "import numpy as np\n",
    "import os\n",
    "from shapely.geometry import Point"
   ]
  },
  {
   "cell_type": "markdown",
   "metadata": {
    "collapsed": false
   },
   "source": [
    "Borough Code:\n",
    "\n",
    "1 - Manhattan\n",
    "\n",
    "2 - Bronx\n",
    "\n",
    "3 - Brooklyn\n",
    "\n",
    "4 - Queens\n",
    "\n",
    "5 - Staten Island"
   ]
  },
  {
   "cell_type": "code",
   "execution_count": 3,
   "metadata": {
    "collapsed": false
   },
   "outputs": [
    {
     "data": {
      "text/html": [
       "<div>\n",
       "<table border=\"1\" class=\"dataframe\">\n",
       "  <thead>\n",
       "    <tr style=\"text-align: right;\">\n",
       "      <th></th>\n",
       "      <th>boro_code</th>\n",
       "      <th>boro_ct_2010</th>\n",
       "      <th>boro_name</th>\n",
       "      <th>cdeligibil</th>\n",
       "      <th>ct_2010</th>\n",
       "      <th>ctlabel</th>\n",
       "      <th>geometry</th>\n",
       "      <th>ntacode</th>\n",
       "      <th>ntaname</th>\n",
       "      <th>puma</th>\n",
       "      <th>shape_area</th>\n",
       "      <th>shape_leng</th>\n",
       "    </tr>\n",
       "  </thead>\n",
       "  <tbody>\n",
       "    <tr>\n",
       "      <th>0</th>\n",
       "      <td>5</td>\n",
       "      <td>5000900</td>\n",
       "      <td>Staten Island</td>\n",
       "      <td>I</td>\n",
       "      <td>000900</td>\n",
       "      <td>9</td>\n",
       "      <td>(POLYGON ((-74.07920577013245 40.6434307837456...</td>\n",
       "      <td>SI22</td>\n",
       "      <td>West New Brighton-New Brighton-St. George</td>\n",
       "      <td>3903</td>\n",
       "      <td>2497009.69813</td>\n",
       "      <td>7729.01679376</td>\n",
       "    </tr>\n",
       "    <tr>\n",
       "      <th>1</th>\n",
       "      <td>5</td>\n",
       "      <td>5007400</td>\n",
       "      <td>Staten Island</td>\n",
       "      <td>I</td>\n",
       "      <td>007400</td>\n",
       "      <td>74</td>\n",
       "      <td>(POLYGON ((-74.05974734759452 40.5938486115672...</td>\n",
       "      <td>SI14</td>\n",
       "      <td>Grasmere-Arrochar-Ft. Wadsworth</td>\n",
       "      <td>3902</td>\n",
       "      <td>5788237.79601</td>\n",
       "      <td>9902.94847281</td>\n",
       "    </tr>\n",
       "    <tr>\n",
       "      <th>2</th>\n",
       "      <td>1</td>\n",
       "      <td>1003200</td>\n",
       "      <td>Manhattan</td>\n",
       "      <td>I</td>\n",
       "      <td>003200</td>\n",
       "      <td>32</td>\n",
       "      <td>(POLYGON ((-73.97990650235904 40.7268657730023...</td>\n",
       "      <td>MN22</td>\n",
       "      <td>East Village</td>\n",
       "      <td>3809</td>\n",
       "      <td>2334190.23228</td>\n",
       "      <td>6358.38668446</td>\n",
       "    </tr>\n",
       "    <tr>\n",
       "      <th>3</th>\n",
       "      <td>1</td>\n",
       "      <td>1009800</td>\n",
       "      <td>Manhattan</td>\n",
       "      <td>I</td>\n",
       "      <td>009800</td>\n",
       "      <td>98</td>\n",
       "      <td>(POLYGON ((-73.96432543478758 40.7563815309909...</td>\n",
       "      <td>MN19</td>\n",
       "      <td>Turtle Bay-East Midtown</td>\n",
       "      <td>3808</td>\n",
       "      <td>1906016.35002</td>\n",
       "      <td>5534.19981063</td>\n",
       "    </tr>\n",
       "    <tr>\n",
       "      <th>4</th>\n",
       "      <td>1</td>\n",
       "      <td>1010000</td>\n",
       "      <td>Manhattan</td>\n",
       "      <td>I</td>\n",
       "      <td>010000</td>\n",
       "      <td>100</td>\n",
       "      <td>(POLYGON ((-73.96802436915851 40.7595781400528...</td>\n",
       "      <td>MN19</td>\n",
       "      <td>Turtle Bay-East Midtown</td>\n",
       "      <td>3808</td>\n",
       "      <td>1860938.37721</td>\n",
       "      <td>5692.16873705</td>\n",
       "    </tr>\n",
       "  </tbody>\n",
       "</table>\n",
       "</div>"
      ],
      "text/plain": [
       "  boro_code boro_ct_2010      boro_name cdeligibil ct_2010 ctlabel  \\\n",
       "0         5      5000900  Staten Island          I  000900       9   \n",
       "1         5      5007400  Staten Island          I  007400      74   \n",
       "2         1      1003200      Manhattan          I  003200      32   \n",
       "3         1      1009800      Manhattan          I  009800      98   \n",
       "4         1      1010000      Manhattan          I  010000     100   \n",
       "\n",
       "                                            geometry ntacode  \\\n",
       "0  (POLYGON ((-74.07920577013245 40.6434307837456...    SI22   \n",
       "1  (POLYGON ((-74.05974734759452 40.5938486115672...    SI14   \n",
       "2  (POLYGON ((-73.97990650235904 40.7268657730023...    MN22   \n",
       "3  (POLYGON ((-73.96432543478758 40.7563815309909...    MN19   \n",
       "4  (POLYGON ((-73.96802436915851 40.7595781400528...    MN19   \n",
       "\n",
       "                                     ntaname  puma     shape_area  \\\n",
       "0  West New Brighton-New Brighton-St. George  3903  2497009.69813   \n",
       "1            Grasmere-Arrochar-Ft. Wadsworth  3902  5788237.79601   \n",
       "2                               East Village  3809  2334190.23228   \n",
       "3                    Turtle Bay-East Midtown  3808  1906016.35002   \n",
       "4                    Turtle Bay-East Midtown  3808  1860938.37721   \n",
       "\n",
       "      shape_leng  \n",
       "0  7729.01679376  \n",
       "1  9902.94847281  \n",
       "2  6358.38668446  \n",
       "3  5534.19981063  \n",
       "4  5692.16873705  "
      ]
     },
     "execution_count": 3,
     "metadata": {},
     "output_type": "execute_result"
    }
   ],
   "source": [
    "#Downloading census data with geo_location\n",
    "#https://data.cityofnewyork.us/api/geospatial/fxpq-c8ku?method=export&format=GeoJSON\n",
    "census = gp.read_file('../data/external/census-tracts.geojson')\n",
    "census.head()"
   ]
  },
  {
   "cell_type": "code",
   "execution_count": 4,
   "metadata": {
    "collapsed": false
   },
   "outputs": [],
   "source": [
    "#Converting census tract data into a numeric value\n",
    "census['census_tract'] = pd.to_numeric(census['ct_2010'])\n",
    "census['boro_code'] = pd.to_numeric(census.boro_code)"
   ]
  },
  {
   "cell_type": "code",
   "execution_count": 5,
   "metadata": {
    "collapsed": false
   },
   "outputs": [
    {
     "data": {
      "text/plain": [
       "Index(['boro_code', 'boro_ct_2010', 'boro_name', 'cdeligibil', 'ct_2010',\n",
       "       'ctlabel', 'geometry', 'ntacode', 'ntaname', 'puma', 'shape_area',\n",
       "       'shape_leng', 'census_tract'],\n",
       "      dtype='object')"
      ]
     },
     "execution_count": 5,
     "metadata": {},
     "output_type": "execute_result"
    }
   ],
   "source": [
    "census.columns"
   ]
  },
  {
   "cell_type": "code",
   "execution_count": 6,
   "metadata": {
    "collapsed": false
   },
   "outputs": [
    {
     "data": {
      "text/html": [
       "<div>\n",
       "<table border=\"1\" class=\"dataframe\">\n",
       "  <thead>\n",
       "    <tr style=\"text-align: right;\">\n",
       "      <th></th>\n",
       "      <th>boro_code</th>\n",
       "      <th>geometry</th>\n",
       "      <th>shape_area</th>\n",
       "      <th>shape_leng</th>\n",
       "      <th>census_tract</th>\n",
       "    </tr>\n",
       "  </thead>\n",
       "  <tbody>\n",
       "    <tr>\n",
       "      <th>0</th>\n",
       "      <td>5</td>\n",
       "      <td>(POLYGON ((-74.07920577013245 40.6434307837456...</td>\n",
       "      <td>2497009.69813</td>\n",
       "      <td>7729.01679376</td>\n",
       "      <td>900</td>\n",
       "    </tr>\n",
       "    <tr>\n",
       "      <th>1</th>\n",
       "      <td>5</td>\n",
       "      <td>(POLYGON ((-74.05974734759452 40.5938486115672...</td>\n",
       "      <td>5788237.79601</td>\n",
       "      <td>9902.94847281</td>\n",
       "      <td>7400</td>\n",
       "    </tr>\n",
       "    <tr>\n",
       "      <th>2</th>\n",
       "      <td>1</td>\n",
       "      <td>(POLYGON ((-73.97990650235904 40.7268657730023...</td>\n",
       "      <td>2334190.23228</td>\n",
       "      <td>6358.38668446</td>\n",
       "      <td>3200</td>\n",
       "    </tr>\n",
       "    <tr>\n",
       "      <th>3</th>\n",
       "      <td>1</td>\n",
       "      <td>(POLYGON ((-73.96432543478758 40.7563815309909...</td>\n",
       "      <td>1906016.35002</td>\n",
       "      <td>5534.19981063</td>\n",
       "      <td>9800</td>\n",
       "    </tr>\n",
       "    <tr>\n",
       "      <th>4</th>\n",
       "      <td>1</td>\n",
       "      <td>(POLYGON ((-73.96802436915851 40.7595781400528...</td>\n",
       "      <td>1860938.37721</td>\n",
       "      <td>5692.16873705</td>\n",
       "      <td>10000</td>\n",
       "    </tr>\n",
       "  </tbody>\n",
       "</table>\n",
       "</div>"
      ],
      "text/plain": [
       "   boro_code                                           geometry  \\\n",
       "0          5  (POLYGON ((-74.07920577013245 40.6434307837456...   \n",
       "1          5  (POLYGON ((-74.05974734759452 40.5938486115672...   \n",
       "2          1  (POLYGON ((-73.97990650235904 40.7268657730023...   \n",
       "3          1  (POLYGON ((-73.96432543478758 40.7563815309909...   \n",
       "4          1  (POLYGON ((-73.96802436915851 40.7595781400528...   \n",
       "\n",
       "      shape_area     shape_leng  census_tract  \n",
       "0  2497009.69813  7729.01679376           900  \n",
       "1  5788237.79601  9902.94847281          7400  \n",
       "2  2334190.23228  6358.38668446          3200  \n",
       "3  1906016.35002  5534.19981063          9800  \n",
       "4  1860938.37721  5692.16873705         10000  "
      ]
     },
     "execution_count": 6,
     "metadata": {},
     "output_type": "execute_result"
    }
   ],
   "source": [
    "#Dropping extraneous data\n",
    "census.drop([u'boro_ct_2010',    u'boro_name',   u'cdeligibil',\n",
    "            u'ct_2010',      u'ctlabel', u'ntacode',    u'ntaname',         u'puma'], inplace = True, axis = 1)\n",
    "census.head()"
   ]
  },
  {
   "cell_type": "code",
   "execution_count": 7,
   "metadata": {
    "collapsed": false
   },
   "outputs": [
    {
     "data": {
      "text/plain": [
       "(2166, 5)"
      ]
     },
     "execution_count": 7,
     "metadata": {},
     "output_type": "execute_result"
    }
   ],
   "source": [
    "#Checking size\n",
    "census.shape"
   ]
  },
  {
   "cell_type": "code",
   "execution_count": 9,
   "metadata": {
    "collapsed": false
   },
   "outputs": [
    {
     "data": {
      "text/html": [
       "<div>\n",
       "<table border=\"1\" class=\"dataframe\">\n",
       "  <thead>\n",
       "    <tr style=\"text-align: right;\">\n",
       "      <th></th>\n",
       "      <th>Borough</th>\n",
       "      <th>Year</th>\n",
       "      <th>FIPS County Code</th>\n",
       "      <th>DCP Borough Code</th>\n",
       "      <th>Census Tract</th>\n",
       "      <th>Population</th>\n",
       "    </tr>\n",
       "  </thead>\n",
       "  <tbody>\n",
       "    <tr>\n",
       "      <th>0</th>\n",
       "      <td>Bronx</td>\n",
       "      <td>2000</td>\n",
       "      <td>5</td>\n",
       "      <td>2</td>\n",
       "      <td>100</td>\n",
       "      <td>12780</td>\n",
       "    </tr>\n",
       "    <tr>\n",
       "      <th>1</th>\n",
       "      <td>Bronx</td>\n",
       "      <td>2000</td>\n",
       "      <td>5</td>\n",
       "      <td>2</td>\n",
       "      <td>200</td>\n",
       "      <td>3545</td>\n",
       "    </tr>\n",
       "    <tr>\n",
       "      <th>2</th>\n",
       "      <td>Bronx</td>\n",
       "      <td>2000</td>\n",
       "      <td>5</td>\n",
       "      <td>2</td>\n",
       "      <td>400</td>\n",
       "      <td>3314</td>\n",
       "    </tr>\n",
       "    <tr>\n",
       "      <th>3</th>\n",
       "      <td>Bronx</td>\n",
       "      <td>2000</td>\n",
       "      <td>5</td>\n",
       "      <td>2</td>\n",
       "      <td>1600</td>\n",
       "      <td>5237</td>\n",
       "    </tr>\n",
       "    <tr>\n",
       "      <th>4</th>\n",
       "      <td>Bronx</td>\n",
       "      <td>2000</td>\n",
       "      <td>5</td>\n",
       "      <td>2</td>\n",
       "      <td>1900</td>\n",
       "      <td>1584</td>\n",
       "    </tr>\n",
       "  </tbody>\n",
       "</table>\n",
       "</div>"
      ],
      "text/plain": [
       "  Borough  Year  FIPS County Code  DCP Borough Code  Census Tract  Population\n",
       "0   Bronx  2000                 5                 2           100       12780\n",
       "1   Bronx  2000                 5                 2           200        3545\n",
       "2   Bronx  2000                 5                 2           400        3314\n",
       "3   Bronx  2000                 5                 2          1600        5237\n",
       "4   Bronx  2000                 5                 2          1900        1584"
      ]
     },
     "execution_count": 9,
     "metadata": {},
     "output_type": "execute_result"
    }
   ],
   "source": [
    "#Downloading census tract data with population\n",
    "pop_by_census = pd.read_csv('../data/external/nyc-population-census.csv')\n",
    "pop_by_census.head()"
   ]
  },
  {
   "cell_type": "code",
   "execution_count": 10,
   "metadata": {
    "collapsed": false
   },
   "outputs": [
    {
     "data": {
      "text/html": [
       "<div>\n",
       "<table border=\"1\" class=\"dataframe\">\n",
       "  <thead>\n",
       "    <tr style=\"text-align: right;\">\n",
       "      <th></th>\n",
       "      <th>Borough</th>\n",
       "      <th>Year</th>\n",
       "      <th>FIPS County Code</th>\n",
       "      <th>DCP Borough Code</th>\n",
       "      <th>Census Tract</th>\n",
       "      <th>Population</th>\n",
       "      <th>density</th>\n",
       "    </tr>\n",
       "  </thead>\n",
       "  <tbody>\n",
       "    <tr>\n",
       "      <th>2168</th>\n",
       "      <td>Bronx</td>\n",
       "      <td>2010</td>\n",
       "      <td>5</td>\n",
       "      <td>2</td>\n",
       "      <td>100</td>\n",
       "      <td>11091</td>\n",
       "      <td>0.001357</td>\n",
       "    </tr>\n",
       "    <tr>\n",
       "      <th>2169</th>\n",
       "      <td>Bronx</td>\n",
       "      <td>2010</td>\n",
       "      <td>5</td>\n",
       "      <td>2</td>\n",
       "      <td>200</td>\n",
       "      <td>4334</td>\n",
       "      <td>0.000530</td>\n",
       "    </tr>\n",
       "    <tr>\n",
       "      <th>2170</th>\n",
       "      <td>Bronx</td>\n",
       "      <td>2010</td>\n",
       "      <td>5</td>\n",
       "      <td>2</td>\n",
       "      <td>400</td>\n",
       "      <td>5503</td>\n",
       "      <td>0.000673</td>\n",
       "    </tr>\n",
       "    <tr>\n",
       "      <th>2171</th>\n",
       "      <td>Bronx</td>\n",
       "      <td>2010</td>\n",
       "      <td>5</td>\n",
       "      <td>2</td>\n",
       "      <td>1600</td>\n",
       "      <td>5643</td>\n",
       "      <td>0.000690</td>\n",
       "    </tr>\n",
       "    <tr>\n",
       "      <th>2172</th>\n",
       "      <td>Bronx</td>\n",
       "      <td>2010</td>\n",
       "      <td>5</td>\n",
       "      <td>2</td>\n",
       "      <td>1900</td>\n",
       "      <td>1917</td>\n",
       "      <td>0.000234</td>\n",
       "    </tr>\n",
       "  </tbody>\n",
       "</table>\n",
       "</div>"
      ],
      "text/plain": [
       "     Borough  Year  FIPS County Code  DCP Borough Code  Census Tract  \\\n",
       "2168   Bronx  2010                 5                 2           100   \n",
       "2169   Bronx  2010                 5                 2           200   \n",
       "2170   Bronx  2010                 5                 2           400   \n",
       "2171   Bronx  2010                 5                 2          1600   \n",
       "2172   Bronx  2010                 5                 2          1900   \n",
       "\n",
       "      Population   density  \n",
       "2168       11091  0.001357  \n",
       "2169        4334  0.000530  \n",
       "2170        5503  0.000673  \n",
       "2171        5643  0.000690  \n",
       "2172        1917  0.000234  "
      ]
     },
     "execution_count": 10,
     "metadata": {},
     "output_type": "execute_result"
    }
   ],
   "source": [
    "#Taking census by 2010 population\n",
    "pop_by_census = pop_by_census[pop_by_census.Year == 2010]\n",
    "total_pop = pop_by_census['Population'].sum()\n",
    "pop_by_census['density'] = pop_by_census['Population']/total_pop\n",
    "pop_by_census.head()"
   ]
  },
  {
   "cell_type": "code",
   "execution_count": 11,
   "metadata": {
    "collapsed": false
   },
   "outputs": [
    {
     "data": {
      "text/html": [
       "<div>\n",
       "<table border=\"1\" class=\"dataframe\">\n",
       "  <thead>\n",
       "    <tr style=\"text-align: right;\">\n",
       "      <th></th>\n",
       "      <th>DCP Borough Code</th>\n",
       "      <th>Census Tract</th>\n",
       "      <th>Population</th>\n",
       "      <th>density</th>\n",
       "    </tr>\n",
       "  </thead>\n",
       "  <tbody>\n",
       "    <tr>\n",
       "      <th>2168</th>\n",
       "      <td>2</td>\n",
       "      <td>100</td>\n",
       "      <td>11091</td>\n",
       "      <td>0.001357</td>\n",
       "    </tr>\n",
       "    <tr>\n",
       "      <th>2169</th>\n",
       "      <td>2</td>\n",
       "      <td>200</td>\n",
       "      <td>4334</td>\n",
       "      <td>0.000530</td>\n",
       "    </tr>\n",
       "    <tr>\n",
       "      <th>2170</th>\n",
       "      <td>2</td>\n",
       "      <td>400</td>\n",
       "      <td>5503</td>\n",
       "      <td>0.000673</td>\n",
       "    </tr>\n",
       "    <tr>\n",
       "      <th>2171</th>\n",
       "      <td>2</td>\n",
       "      <td>1600</td>\n",
       "      <td>5643</td>\n",
       "      <td>0.000690</td>\n",
       "    </tr>\n",
       "    <tr>\n",
       "      <th>2172</th>\n",
       "      <td>2</td>\n",
       "      <td>1900</td>\n",
       "      <td>1917</td>\n",
       "      <td>0.000234</td>\n",
       "    </tr>\n",
       "  </tbody>\n",
       "</table>\n",
       "</div>"
      ],
      "text/plain": [
       "      DCP Borough Code  Census Tract  Population   density\n",
       "2168                 2           100       11091  0.001357\n",
       "2169                 2           200        4334  0.000530\n",
       "2170                 2           400        5503  0.000673\n",
       "2171                 2          1600        5643  0.000690\n",
       "2172                 2          1900        1917  0.000234"
      ]
     },
     "execution_count": 11,
     "metadata": {},
     "output_type": "execute_result"
    }
   ],
   "source": [
    "pop_by_census.drop([u'Borough', u'Year', u'FIPS County Code'], axis = 1, inplace = True)\n",
    "pop_by_census.head()"
   ]
  },
  {
   "cell_type": "code",
   "execution_count": 12,
   "metadata": {
    "collapsed": false
   },
   "outputs": [
    {
     "data": {
      "text/plain": [
       "(2168, 4)"
      ]
     },
     "execution_count": 12,
     "metadata": {},
     "output_type": "execute_result"
    }
   ],
   "source": [
    "#Renaming columns\n",
    "pop_by_census.rename(columns = { 'DCP Borough Code' : 'boro_code', 'Census Tract': 'census_tract' }, inplace= True)\n",
    "# pop_by_census.head()\n",
    "pop_by_census.shape"
   ]
  },
  {
   "cell_type": "code",
   "execution_count": 13,
   "metadata": {
    "collapsed": false
   },
   "outputs": [
    {
     "data": {
      "text/html": [
       "<div>\n",
       "<table border=\"1\" class=\"dataframe\">\n",
       "  <thead>\n",
       "    <tr style=\"text-align: right;\">\n",
       "      <th></th>\n",
       "      <th>boro_code</th>\n",
       "      <th>census_tract</th>\n",
       "      <th>Population</th>\n",
       "      <th>density</th>\n",
       "      <th>geometry</th>\n",
       "      <th>shape_area</th>\n",
       "      <th>shape_leng</th>\n",
       "    </tr>\n",
       "  </thead>\n",
       "  <tbody>\n",
       "    <tr>\n",
       "      <th>0</th>\n",
       "      <td>2</td>\n",
       "      <td>100</td>\n",
       "      <td>11091</td>\n",
       "      <td>0.001357</td>\n",
       "      <td>(POLYGON ((-73.87287195903875 40.7859750278047...</td>\n",
       "      <td>18154596.0081</td>\n",
       "      <td>18903.3467294</td>\n",
       "    </tr>\n",
       "    <tr>\n",
       "      <th>1</th>\n",
       "      <td>2</td>\n",
       "      <td>200</td>\n",
       "      <td>4334</td>\n",
       "      <td>0.000530</td>\n",
       "      <td>(POLYGON ((-73.85651604030653 40.8052412204751...</td>\n",
       "      <td>5004821.2311</td>\n",
       "      <td>15591.2827425</td>\n",
       "    </tr>\n",
       "    <tr>\n",
       "      <th>2</th>\n",
       "      <td>2</td>\n",
       "      <td>400</td>\n",
       "      <td>5503</td>\n",
       "      <td>0.000673</td>\n",
       "      <td>(POLYGON ((-73.84610660457847 40.8130999892054...</td>\n",
       "      <td>8562150.11049</td>\n",
       "      <td>24707.0790039</td>\n",
       "    </tr>\n",
       "    <tr>\n",
       "      <th>3</th>\n",
       "      <td>2</td>\n",
       "      <td>1600</td>\n",
       "      <td>5643</td>\n",
       "      <td>0.000690</td>\n",
       "      <td>(POLYGON ((-73.85513639815333 40.8224361893100...</td>\n",
       "      <td>5221330.06703</td>\n",
       "      <td>9671.30620489</td>\n",
       "    </tr>\n",
       "    <tr>\n",
       "      <th>4</th>\n",
       "      <td>2</td>\n",
       "      <td>1900</td>\n",
       "      <td>1917</td>\n",
       "      <td>0.000234</td>\n",
       "      <td>(POLYGON ((-73.89680883223774 40.7958084451597...</td>\n",
       "      <td>17964481.0319</td>\n",
       "      <td>29989.8448165</td>\n",
       "    </tr>\n",
       "  </tbody>\n",
       "</table>\n",
       "</div>"
      ],
      "text/plain": [
       "   boro_code  census_tract  Population   density  \\\n",
       "0          2           100       11091  0.001357   \n",
       "1          2           200        4334  0.000530   \n",
       "2          2           400        5503  0.000673   \n",
       "3          2          1600        5643  0.000690   \n",
       "4          2          1900        1917  0.000234   \n",
       "\n",
       "                                            geometry     shape_area  \\\n",
       "0  (POLYGON ((-73.87287195903875 40.7859750278047...  18154596.0081   \n",
       "1  (POLYGON ((-73.85651604030653 40.8052412204751...   5004821.2311   \n",
       "2  (POLYGON ((-73.84610660457847 40.8130999892054...  8562150.11049   \n",
       "3  (POLYGON ((-73.85513639815333 40.8224361893100...  5221330.06703   \n",
       "4  (POLYGON ((-73.89680883223774 40.7958084451597...  17964481.0319   \n",
       "\n",
       "      shape_leng  \n",
       "0  18903.3467294  \n",
       "1  15591.2827425  \n",
       "2  24707.0790039  \n",
       "3  9671.30620489  \n",
       "4  29989.8448165  "
      ]
     },
     "execution_count": 13,
     "metadata": {},
     "output_type": "execute_result"
    }
   ],
   "source": [
    "#Merging population with geo_file\n",
    "census_pop = pd.merge(pop_by_census, census, on = ['census_tract', 'boro_code'], how = 'inner')\n",
    "census_pop.crs = {'init' :'epsg:4326'}\n",
    "census_pop.head()"
   ]
  },
  {
   "cell_type": "code",
   "execution_count": 16,
   "metadata": {
    "collapsed": false,
    "scrolled": false
   },
   "outputs": [
    {
     "data": {
      "text/html": [
       "<div>\n",
       "<table border=\"1\" class=\"dataframe\">\n",
       "  <thead>\n",
       "    <tr style=\"text-align: right;\">\n",
       "      <th></th>\n",
       "      <th>Station_id</th>\n",
       "      <th>Station_Name</th>\n",
       "      <th>Location</th>\n",
       "      <th>Latitude</th>\n",
       "      <th>Longitude</th>\n",
       "      <th>Zip</th>\n",
       "    </tr>\n",
       "  </thead>\n",
       "  <tbody>\n",
       "    <tr>\n",
       "      <th>0</th>\n",
       "      <td>72</td>\n",
       "      <td>W 52 St &amp; 11 Ave</td>\n",
       "      <td>W 52 St &amp; 11 Ave</td>\n",
       "      <td>40.767272</td>\n",
       "      <td>-73.993929</td>\n",
       "      <td>10019</td>\n",
       "    </tr>\n",
       "    <tr>\n",
       "      <th>1</th>\n",
       "      <td>79</td>\n",
       "      <td>Franklin St &amp; W Broadway</td>\n",
       "      <td>Franklin St &amp; W Broadway</td>\n",
       "      <td>40.719116</td>\n",
       "      <td>-74.006667</td>\n",
       "      <td>10013</td>\n",
       "    </tr>\n",
       "    <tr>\n",
       "      <th>2</th>\n",
       "      <td>82</td>\n",
       "      <td>St James Pl &amp; Pearl St</td>\n",
       "      <td>St James Pl &amp; Pearl St</td>\n",
       "      <td>40.711174</td>\n",
       "      <td>-74.000165</td>\n",
       "      <td>10038</td>\n",
       "    </tr>\n",
       "    <tr>\n",
       "      <th>3</th>\n",
       "      <td>83</td>\n",
       "      <td>Atlantic Ave &amp; Fort Greene Pl</td>\n",
       "      <td>Atlantic Ave &amp; Fort Greene Pl</td>\n",
       "      <td>40.683826</td>\n",
       "      <td>-73.976323</td>\n",
       "      <td>11217</td>\n",
       "    </tr>\n",
       "    <tr>\n",
       "      <th>4</th>\n",
       "      <td>116</td>\n",
       "      <td>W 17 St &amp; 8 Ave</td>\n",
       "      <td>W 17 St &amp; 8 Ave</td>\n",
       "      <td>40.741776</td>\n",
       "      <td>-74.001497</td>\n",
       "      <td>10011</td>\n",
       "    </tr>\n",
       "  </tbody>\n",
       "</table>\n",
       "</div>"
      ],
      "text/plain": [
       "   Station_id                   Station_Name                       Location  \\\n",
       "0          72               W 52 St & 11 Ave               W 52 St & 11 Ave   \n",
       "1          79       Franklin St & W Broadway       Franklin St & W Broadway   \n",
       "2          82         St James Pl & Pearl St         St James Pl & Pearl St   \n",
       "3          83  Atlantic Ave & Fort Greene Pl  Atlantic Ave & Fort Greene Pl   \n",
       "4         116                W 17 St & 8 Ave                W 17 St & 8 Ave   \n",
       "\n",
       "    Latitude  Longitude    Zip  \n",
       "0  40.767272 -73.993929  10019  \n",
       "1  40.719116 -74.006667  10013  \n",
       "2  40.711174 -74.000165  10038  \n",
       "3  40.683826 -73.976323  11217  \n",
       "4  40.741776 -74.001497  10011  "
      ]
     },
     "execution_count": 16,
     "metadata": {},
     "output_type": "execute_result"
    }
   ],
   "source": [
    "# Importing CitiBike Data\n",
    "stations = pd.read_csv('../data/processed/stations.csv')\n",
    "stations.head()"
   ]
  },
  {
   "cell_type": "code",
   "execution_count": null,
   "metadata": {
    "collapsed": false
   },
   "outputs": [],
   "source": [
    "# ### Point sjoin\n",
    "# geometry = gp.GeoSeries([Point(xy) for xy in zip(stations.Longitude, stations.Latitude)])\n",
    "# point_stations = gp.GeoDataFrame(stations, geometry=geometry)\n",
    "# point_stations.crs = {'init' :'epsg:4326'}\n",
    "# point_stations.to_file('geo_stations')\n",
    "# point_citibike_popdensity = gp.sjoin(point_stations, census_pop, how = 'inner', op = 'intersects')\n",
    "# point_citibike_popdensity.head()"
   ]
  },
  {
   "cell_type": "code",
   "execution_count": 17,
   "metadata": {
    "collapsed": false
   },
   "outputs": [
    {
     "data": {
      "text/html": [
       "<div>\n",
       "<table border=\"1\" class=\"dataframe\">\n",
       "  <thead>\n",
       "    <tr style=\"text-align: right;\">\n",
       "      <th></th>\n",
       "      <th>Station_id</th>\n",
       "      <th>Station_Name</th>\n",
       "      <th>Location</th>\n",
       "      <th>Latitude</th>\n",
       "      <th>Longitude</th>\n",
       "      <th>Zip</th>\n",
       "      <th>geometry</th>\n",
       "    </tr>\n",
       "  </thead>\n",
       "  <tbody>\n",
       "    <tr>\n",
       "      <th>0</th>\n",
       "      <td>72</td>\n",
       "      <td>W 52 St &amp; 11 Ave</td>\n",
       "      <td>W 52 St &amp; 11 Ave</td>\n",
       "      <td>40.767272</td>\n",
       "      <td>-73.993929</td>\n",
       "      <td>10019</td>\n",
       "      <td>POLYGON ((-73.99342888 40.76727216, -73.993431...</td>\n",
       "    </tr>\n",
       "    <tr>\n",
       "      <th>1</th>\n",
       "      <td>79</td>\n",
       "      <td>Franklin St &amp; W Broadway</td>\n",
       "      <td>Franklin St &amp; W Broadway</td>\n",
       "      <td>40.719116</td>\n",
       "      <td>-74.006667</td>\n",
       "      <td>10013</td>\n",
       "      <td>POLYGON ((-74.00616660999999 40.71911552, -74....</td>\n",
       "    </tr>\n",
       "    <tr>\n",
       "      <th>2</th>\n",
       "      <td>82</td>\n",
       "      <td>St James Pl &amp; Pearl St</td>\n",
       "      <td>St James Pl &amp; Pearl St</td>\n",
       "      <td>40.711174</td>\n",
       "      <td>-74.000165</td>\n",
       "      <td>10038</td>\n",
       "      <td>POLYGON ((-73.99966544999999 40.71117416, -73....</td>\n",
       "    </tr>\n",
       "    <tr>\n",
       "      <th>3</th>\n",
       "      <td>83</td>\n",
       "      <td>Atlantic Ave &amp; Fort Greene Pl</td>\n",
       "      <td>Atlantic Ave &amp; Fort Greene Pl</td>\n",
       "      <td>40.683826</td>\n",
       "      <td>-73.976323</td>\n",
       "      <td>11217</td>\n",
       "      <td>POLYGON ((-73.97582328 40.68382604, -73.975825...</td>\n",
       "    </tr>\n",
       "    <tr>\n",
       "      <th>4</th>\n",
       "      <td>116</td>\n",
       "      <td>W 17 St &amp; 8 Ave</td>\n",
       "      <td>W 17 St &amp; 8 Ave</td>\n",
       "      <td>40.741776</td>\n",
       "      <td>-74.001497</td>\n",
       "      <td>10011</td>\n",
       "      <td>POLYGON ((-74.00099745999999 40.74177603, -74....</td>\n",
       "    </tr>\n",
       "  </tbody>\n",
       "</table>\n",
       "</div>"
      ],
      "text/plain": [
       "   Station_id                   Station_Name                       Location  \\\n",
       "0          72               W 52 St & 11 Ave               W 52 St & 11 Ave   \n",
       "1          79       Franklin St & W Broadway       Franklin St & W Broadway   \n",
       "2          82         St James Pl & Pearl St         St James Pl & Pearl St   \n",
       "3          83  Atlantic Ave & Fort Greene Pl  Atlantic Ave & Fort Greene Pl   \n",
       "4         116                W 17 St & 8 Ave                W 17 St & 8 Ave   \n",
       "\n",
       "    Latitude  Longitude    Zip  \\\n",
       "0  40.767272 -73.993929  10019   \n",
       "1  40.719116 -74.006667  10013   \n",
       "2  40.711174 -74.000165  10038   \n",
       "3  40.683826 -73.976323  11217   \n",
       "4  40.741776 -74.001497  10011   \n",
       "\n",
       "                                            geometry  \n",
       "0  POLYGON ((-73.99342888 40.76727216, -73.993431...  \n",
       "1  POLYGON ((-74.00616660999999 40.71911552, -74....  \n",
       "2  POLYGON ((-73.99966544999999 40.71117416, -73....  \n",
       "3  POLYGON ((-73.97582328 40.68382604, -73.975825...  \n",
       "4  POLYGON ((-74.00099745999999 40.74177603, -74....  "
      ]
     },
     "execution_count": 17,
     "metadata": {},
     "output_type": "execute_result"
    }
   ],
   "source": [
    "#Creating Buffer\n",
    "geometry = gp.GeoSeries([Point(xy) for xy in zip(stations.Longitude, stations.Latitude)])\n",
    "geometry = geometry.buffer(.0005)  # Using buffer of 0.0005\n",
    "geo_stations = gp.GeoDataFrame(stations, geometry=geometry)\n",
    "geo_stations.crs = {'init' :'epsg:4326'}\n",
    "geo_stations.head()"
   ]
  },
  {
   "cell_type": "code",
   "execution_count": 18,
   "metadata": {
    "collapsed": false
   },
   "outputs": [
    {
     "data": {
      "text/html": [
       "<div>\n",
       "<table border=\"1\" class=\"dataframe\">\n",
       "  <thead>\n",
       "    <tr style=\"text-align: right;\">\n",
       "      <th></th>\n",
       "      <th>Station_id</th>\n",
       "      <th>Station_Name</th>\n",
       "      <th>Location</th>\n",
       "      <th>Latitude</th>\n",
       "      <th>Longitude</th>\n",
       "      <th>Zip</th>\n",
       "      <th>geometry</th>\n",
       "      <th>index_right</th>\n",
       "      <th>boro_code</th>\n",
       "      <th>census_tract</th>\n",
       "      <th>Population</th>\n",
       "      <th>density</th>\n",
       "      <th>shape_area</th>\n",
       "      <th>shape_leng</th>\n",
       "    </tr>\n",
       "  </thead>\n",
       "  <tbody>\n",
       "    <tr>\n",
       "      <th>0</th>\n",
       "      <td>72</td>\n",
       "      <td>W 52 St &amp; 11 Ave</td>\n",
       "      <td>W 52 St &amp; 11 Ave</td>\n",
       "      <td>40.767272</td>\n",
       "      <td>-73.993929</td>\n",
       "      <td>10019</td>\n",
       "      <td>POLYGON ((-73.99342888 40.76727216, -73.993431...</td>\n",
       "      <td>1234</td>\n",
       "      <td>1</td>\n",
       "      <td>13500</td>\n",
       "      <td>6596</td>\n",
       "      <td>0.000807</td>\n",
       "      <td>4513475.18656</td>\n",
       "      <td>15450.2036171</td>\n",
       "    </tr>\n",
       "    <tr>\n",
       "      <th>237</th>\n",
       "      <td>480</td>\n",
       "      <td>W 53 St &amp; 10 Ave</td>\n",
       "      <td>W 53 St &amp; 10 Ave</td>\n",
       "      <td>40.766697</td>\n",
       "      <td>-73.990617</td>\n",
       "      <td>10019</td>\n",
       "      <td>POLYGON ((-73.99011727999999 40.76669671, -73....</td>\n",
       "      <td>1234</td>\n",
       "      <td>1</td>\n",
       "      <td>13500</td>\n",
       "      <td>6596</td>\n",
       "      <td>0.000807</td>\n",
       "      <td>4513475.18656</td>\n",
       "      <td>15450.2036171</td>\n",
       "    </tr>\n",
       "    <tr>\n",
       "      <th>267</th>\n",
       "      <td>513</td>\n",
       "      <td>W 56 St &amp; 10 Ave</td>\n",
       "      <td>W 56 St &amp; 10 Ave</td>\n",
       "      <td>40.768254</td>\n",
       "      <td>-73.988639</td>\n",
       "      <td>10019</td>\n",
       "      <td>POLYGON ((-73.988139 40.768254, -73.9881414076...</td>\n",
       "      <td>1234</td>\n",
       "      <td>1</td>\n",
       "      <td>13500</td>\n",
       "      <td>6596</td>\n",
       "      <td>0.000807</td>\n",
       "      <td>4513475.18656</td>\n",
       "      <td>15450.2036171</td>\n",
       "    </tr>\n",
       "    <tr>\n",
       "      <th>1</th>\n",
       "      <td>79</td>\n",
       "      <td>Franklin St &amp; W Broadway</td>\n",
       "      <td>Franklin St &amp; W Broadway</td>\n",
       "      <td>40.719116</td>\n",
       "      <td>-74.006667</td>\n",
       "      <td>10013</td>\n",
       "      <td>POLYGON ((-74.00616660999999 40.71911552, -74....</td>\n",
       "      <td>1132</td>\n",
       "      <td>1</td>\n",
       "      <td>3300</td>\n",
       "      <td>5156</td>\n",
       "      <td>0.000631</td>\n",
       "      <td>3677727.6405</td>\n",
       "      <td>8170.75614772</td>\n",
       "    </tr>\n",
       "    <tr>\n",
       "      <th>12</th>\n",
       "      <td>146</td>\n",
       "      <td>Hudson St &amp; Reade St</td>\n",
       "      <td>Hudson St &amp; Reade St</td>\n",
       "      <td>40.716250</td>\n",
       "      <td>-74.009106</td>\n",
       "      <td>10013</td>\n",
       "      <td>POLYGON ((-74.00860589999999 40.71625008, -74....</td>\n",
       "      <td>1132</td>\n",
       "      <td>1</td>\n",
       "      <td>3300</td>\n",
       "      <td>5156</td>\n",
       "      <td>0.000631</td>\n",
       "      <td>3677727.6405</td>\n",
       "      <td>8170.75614772</td>\n",
       "    </tr>\n",
       "  </tbody>\n",
       "</table>\n",
       "</div>"
      ],
      "text/plain": [
       "     Station_id              Station_Name                  Location  \\\n",
       "0            72          W 52 St & 11 Ave          W 52 St & 11 Ave   \n",
       "237         480          W 53 St & 10 Ave          W 53 St & 10 Ave   \n",
       "267         513          W 56 St & 10 Ave          W 56 St & 10 Ave   \n",
       "1            79  Franklin St & W Broadway  Franklin St & W Broadway   \n",
       "12          146      Hudson St & Reade St      Hudson St & Reade St   \n",
       "\n",
       "      Latitude  Longitude    Zip  \\\n",
       "0    40.767272 -73.993929  10019   \n",
       "237  40.766697 -73.990617  10019   \n",
       "267  40.768254 -73.988639  10019   \n",
       "1    40.719116 -74.006667  10013   \n",
       "12   40.716250 -74.009106  10013   \n",
       "\n",
       "                                              geometry  index_right  \\\n",
       "0    POLYGON ((-73.99342888 40.76727216, -73.993431...         1234   \n",
       "237  POLYGON ((-73.99011727999999 40.76669671, -73....         1234   \n",
       "267  POLYGON ((-73.988139 40.768254, -73.9881414076...         1234   \n",
       "1    POLYGON ((-74.00616660999999 40.71911552, -74....         1132   \n",
       "12   POLYGON ((-74.00860589999999 40.71625008, -74....         1132   \n",
       "\n",
       "     boro_code  census_tract  Population   density     shape_area  \\\n",
       "0            1         13500        6596  0.000807  4513475.18656   \n",
       "237          1         13500        6596  0.000807  4513475.18656   \n",
       "267          1         13500        6596  0.000807  4513475.18656   \n",
       "1            1          3300        5156  0.000631   3677727.6405   \n",
       "12           1          3300        5156  0.000631   3677727.6405   \n",
       "\n",
       "        shape_leng  \n",
       "0    15450.2036171  \n",
       "237  15450.2036171  \n",
       "267  15450.2036171  \n",
       "1    8170.75614772  \n",
       "12   8170.75614772  "
      ]
     },
     "execution_count": 18,
     "metadata": {},
     "output_type": "execute_result"
    }
   ],
   "source": [
    "citibike_popdensity = gp.sjoin(geo_stations, census_pop, how = 'inner', op = 'intersects')\n",
    "citibike_popdensity.head()"
   ]
  },
  {
   "cell_type": "code",
   "execution_count": 19,
   "metadata": {
    "collapsed": false
   },
   "outputs": [
    {
     "data": {
      "text/plain": [
       "array([1, 3, 4])"
      ]
     },
     "execution_count": 19,
     "metadata": {},
     "output_type": "execute_result"
    }
   ],
   "source": [
    "#Checking Boroughs where citibike stands are placed\n",
    "citibike_popdensity.boro_code.unique()"
   ]
  },
  {
   "cell_type": "code",
   "execution_count": 20,
   "metadata": {
    "collapsed": false
   },
   "outputs": [
    {
     "data": {
      "text/plain": [
       "Index(['Station_id', 'Station_Name', 'Location', 'Latitude', 'Longitude',\n",
       "       'Zip', 'geometry', 'index_right', 'boro_code', 'census_tract',\n",
       "       'Population', 'density', 'shape_area', 'shape_leng'],\n",
       "      dtype='object')"
      ]
     },
     "execution_count": 20,
     "metadata": {},
     "output_type": "execute_result"
    }
   ],
   "source": [
    "citibike_popdensity.columns"
   ]
  },
  {
   "cell_type": "code",
   "execution_count": 21,
   "metadata": {
    "collapsed": false
   },
   "outputs": [
    {
     "data": {
      "text/html": [
       "<div>\n",
       "<table border=\"1\" class=\"dataframe\">\n",
       "  <thead>\n",
       "    <tr style=\"text-align: right;\">\n",
       "      <th></th>\n",
       "      <th>Station_id</th>\n",
       "      <th>Station_Name</th>\n",
       "      <th>Zip</th>\n",
       "      <th>geometry</th>\n",
       "      <th>boro_code</th>\n",
       "      <th>census_tract</th>\n",
       "      <th>Population</th>\n",
       "      <th>density</th>\n",
       "      <th>shape_area</th>\n",
       "      <th>shape_leng</th>\n",
       "    </tr>\n",
       "  </thead>\n",
       "  <tbody>\n",
       "    <tr>\n",
       "      <th>0</th>\n",
       "      <td>72</td>\n",
       "      <td>W 52 St &amp; 11 Ave</td>\n",
       "      <td>10019</td>\n",
       "      <td>POLYGON ((-73.99342888 40.76727216, -73.993431...</td>\n",
       "      <td>1</td>\n",
       "      <td>13500</td>\n",
       "      <td>6596</td>\n",
       "      <td>0.000807</td>\n",
       "      <td>4513475.18656</td>\n",
       "      <td>15450.2036171</td>\n",
       "    </tr>\n",
       "    <tr>\n",
       "      <th>237</th>\n",
       "      <td>480</td>\n",
       "      <td>W 53 St &amp; 10 Ave</td>\n",
       "      <td>10019</td>\n",
       "      <td>POLYGON ((-73.99011727999999 40.76669671, -73....</td>\n",
       "      <td>1</td>\n",
       "      <td>13500</td>\n",
       "      <td>6596</td>\n",
       "      <td>0.000807</td>\n",
       "      <td>4513475.18656</td>\n",
       "      <td>15450.2036171</td>\n",
       "    </tr>\n",
       "    <tr>\n",
       "      <th>267</th>\n",
       "      <td>513</td>\n",
       "      <td>W 56 St &amp; 10 Ave</td>\n",
       "      <td>10019</td>\n",
       "      <td>POLYGON ((-73.988139 40.768254, -73.9881414076...</td>\n",
       "      <td>1</td>\n",
       "      <td>13500</td>\n",
       "      <td>6596</td>\n",
       "      <td>0.000807</td>\n",
       "      <td>4513475.18656</td>\n",
       "      <td>15450.2036171</td>\n",
       "    </tr>\n",
       "    <tr>\n",
       "      <th>1</th>\n",
       "      <td>79</td>\n",
       "      <td>Franklin St &amp; W Broadway</td>\n",
       "      <td>10013</td>\n",
       "      <td>POLYGON ((-74.00616660999999 40.71911552, -74....</td>\n",
       "      <td>1</td>\n",
       "      <td>3300</td>\n",
       "      <td>5156</td>\n",
       "      <td>0.000631</td>\n",
       "      <td>3677727.6405</td>\n",
       "      <td>8170.75614772</td>\n",
       "    </tr>\n",
       "    <tr>\n",
       "      <th>12</th>\n",
       "      <td>146</td>\n",
       "      <td>Hudson St &amp; Reade St</td>\n",
       "      <td>10013</td>\n",
       "      <td>POLYGON ((-74.00860589999999 40.71625008, -74....</td>\n",
       "      <td>1</td>\n",
       "      <td>3300</td>\n",
       "      <td>5156</td>\n",
       "      <td>0.000631</td>\n",
       "      <td>3677727.6405</td>\n",
       "      <td>8170.75614772</td>\n",
       "    </tr>\n",
       "  </tbody>\n",
       "</table>\n",
       "</div>"
      ],
      "text/plain": [
       "     Station_id              Station_Name    Zip  \\\n",
       "0            72          W 52 St & 11 Ave  10019   \n",
       "237         480          W 53 St & 10 Ave  10019   \n",
       "267         513          W 56 St & 10 Ave  10019   \n",
       "1            79  Franklin St & W Broadway  10013   \n",
       "12          146      Hudson St & Reade St  10013   \n",
       "\n",
       "                                              geometry  boro_code  \\\n",
       "0    POLYGON ((-73.99342888 40.76727216, -73.993431...          1   \n",
       "237  POLYGON ((-73.99011727999999 40.76669671, -73....          1   \n",
       "267  POLYGON ((-73.988139 40.768254, -73.9881414076...          1   \n",
       "1    POLYGON ((-74.00616660999999 40.71911552, -74....          1   \n",
       "12   POLYGON ((-74.00860589999999 40.71625008, -74....          1   \n",
       "\n",
       "     census_tract  Population   density     shape_area     shape_leng  \n",
       "0           13500        6596  0.000807  4513475.18656  15450.2036171  \n",
       "237         13500        6596  0.000807  4513475.18656  15450.2036171  \n",
       "267         13500        6596  0.000807  4513475.18656  15450.2036171  \n",
       "1            3300        5156  0.000631   3677727.6405  8170.75614772  \n",
       "12           3300        5156  0.000631   3677727.6405  8170.75614772  "
      ]
     },
     "execution_count": 21,
     "metadata": {},
     "output_type": "execute_result"
    }
   ],
   "source": [
    "#Dropping data\n",
    "citibike_popdensity.drop([u'Location',     u'Latitude',    u'Longitude', u'index_right' ], axis=1, inplace=True)\n",
    "citibike_popdensity.head()"
   ]
  },
  {
   "cell_type": "code",
   "execution_count": 22,
   "metadata": {
    "collapsed": false
   },
   "outputs": [
    {
     "data": {
      "text/plain": [
       "(1099, 10)"
      ]
     },
     "execution_count": 22,
     "metadata": {},
     "output_type": "execute_result"
    }
   ],
   "source": [
    "citibike_popdensity.shape"
   ]
  },
  {
   "cell_type": "code",
   "execution_count": 23,
   "metadata": {
    "collapsed": false
   },
   "outputs": [
    {
     "data": {
      "text/html": [
       "<div>\n",
       "<table border=\"1\" class=\"dataframe\">\n",
       "  <thead>\n",
       "    <tr style=\"text-align: right;\">\n",
       "      <th></th>\n",
       "      <th>density</th>\n",
       "    </tr>\n",
       "    <tr>\n",
       "      <th>Station_id</th>\n",
       "      <th></th>\n",
       "    </tr>\n",
       "  </thead>\n",
       "  <tbody>\n",
       "    <tr>\n",
       "      <th>72</th>\n",
       "      <td>1</td>\n",
       "    </tr>\n",
       "    <tr>\n",
       "      <th>79</th>\n",
       "      <td>1</td>\n",
       "    </tr>\n",
       "    <tr>\n",
       "      <th>82</th>\n",
       "      <td>3</td>\n",
       "    </tr>\n",
       "    <tr>\n",
       "      <th>83</th>\n",
       "      <td>3</td>\n",
       "    </tr>\n",
       "    <tr>\n",
       "      <th>116</th>\n",
       "      <td>2</td>\n",
       "    </tr>\n",
       "    <tr>\n",
       "      <th>119</th>\n",
       "      <td>2</td>\n",
       "    </tr>\n",
       "    <tr>\n",
       "      <th>120</th>\n",
       "      <td>3</td>\n",
       "    </tr>\n",
       "    <tr>\n",
       "      <th>127</th>\n",
       "      <td>3</td>\n",
       "    </tr>\n",
       "    <tr>\n",
       "      <th>128</th>\n",
       "      <td>2</td>\n",
       "    </tr>\n",
       "    <tr>\n",
       "      <th>137</th>\n",
       "      <td>2</td>\n",
       "    </tr>\n",
       "  </tbody>\n",
       "</table>\n",
       "</div>"
      ],
      "text/plain": [
       "            density\n",
       "Station_id         \n",
       "72                1\n",
       "79                1\n",
       "82                3\n",
       "83                3\n",
       "116               2\n",
       "119               2\n",
       "120               3\n",
       "127               3\n",
       "128               2\n",
       "137               2"
      ]
     },
     "execution_count": 23,
     "metadata": {},
     "output_type": "execute_result"
    }
   ],
   "source": [
    "# Count of citibike stations \n",
    "(citibike_popdensity.groupby(['Station_id'])[['density']].count()).head(10)"
   ]
  },
  {
   "cell_type": "code",
   "execution_count": 24,
   "metadata": {
    "collapsed": false
   },
   "outputs": [
    {
     "data": {
      "text/html": [
       "<div>\n",
       "<table border=\"1\" class=\"dataframe\">\n",
       "  <thead>\n",
       "    <tr style=\"text-align: right;\">\n",
       "      <th></th>\n",
       "      <th>Station_id</th>\n",
       "      <th>boro_code</th>\n",
       "      <th>density</th>\n",
       "    </tr>\n",
       "  </thead>\n",
       "  <tbody>\n",
       "    <tr>\n",
       "      <th>0</th>\n",
       "      <td>72</td>\n",
       "      <td>1</td>\n",
       "      <td>0.000807</td>\n",
       "    </tr>\n",
       "    <tr>\n",
       "      <th>1</th>\n",
       "      <td>79</td>\n",
       "      <td>1</td>\n",
       "      <td>0.000631</td>\n",
       "    </tr>\n",
       "    <tr>\n",
       "      <th>2</th>\n",
       "      <td>82</td>\n",
       "      <td>1</td>\n",
       "      <td>0.000511</td>\n",
       "    </tr>\n",
       "    <tr>\n",
       "      <th>3</th>\n",
       "      <td>83</td>\n",
       "      <td>3</td>\n",
       "      <td>0.000231</td>\n",
       "    </tr>\n",
       "    <tr>\n",
       "      <th>4</th>\n",
       "      <td>116</td>\n",
       "      <td>1</td>\n",
       "      <td>0.000742</td>\n",
       "    </tr>\n",
       "  </tbody>\n",
       "</table>\n",
       "</div>"
      ],
      "text/plain": [
       "   Station_id  boro_code   density\n",
       "0          72          1  0.000807\n",
       "1          79          1  0.000631\n",
       "2          82          1  0.000511\n",
       "3          83          3  0.000231\n",
       "4         116          1  0.000742"
      ]
     },
     "execution_count": 24,
     "metadata": {},
     "output_type": "execute_result"
    }
   ],
   "source": [
    "#Calculating population density around a citibike stand by grouing the data\n",
    "#Using mean to calculate the average of citibike stops intersecting 3 buffers\n",
    "grouped_data = citibike_popdensity.groupby(['Station_id', 'boro_code'])[['density']].mean()\n",
    "grouped_data.reset_index(inplace=True)\n",
    "grouped_data.head()"
   ]
  },
  {
   "cell_type": "code",
   "execution_count": 25,
   "metadata": {
    "collapsed": true
   },
   "outputs": [],
   "source": [
    "grouped_data.to_csv('../data/processed/pop-density.csv')"
   ]
  },
  {
   "cell_type": "code",
   "execution_count": null,
   "metadata": {
    "collapsed": true
   },
   "outputs": [],
   "source": [
    "# #Merging with census tract data (0.0005 Buffer)\n",
    "# merged_citibike_avgdensity = pd.merge(grouped_data, point_citibike_popdensity, on = 'Station_id', how = 'inner' )\n",
    "# merged_citibike_avgdensity.head()"
   ]
  },
  {
   "cell_type": "code",
   "execution_count": null,
   "metadata": {
    "collapsed": false
   },
   "outputs": [],
   "source": [
    "# #Merging with census tract data (Point)\n",
    "# merged_citibike_avgdensity = pd.merge(grouped_data, citibike_popdensity, on = 'Station_id', how = 'inner' )\n",
    "# merged_citibike_avgdensity.head()"
   ]
  },
  {
   "cell_type": "code",
   "execution_count": null,
   "metadata": {
    "collapsed": false
   },
   "outputs": [],
   "source": [
    "# merged_citibike_avgdensity.columns"
   ]
  },
  {
   "cell_type": "code",
   "execution_count": null,
   "metadata": {
    "collapsed": false
   },
   "outputs": [],
   "source": [
    "# # For buffer = 0.0005\n",
    "# merged_citibike_avgdensity.drop([ u'Station_Name', u'geometry',  u'boro_code_y',    u'Population', \\\n",
    "#             u'density',   u'shape_area',   u'shape_leng', 'census_tract'], axis = 1, inplace  = True)"
   ]
  },
  {
   "cell_type": "code",
   "execution_count": null,
   "metadata": {
    "collapsed": false
   },
   "outputs": [],
   "source": [
    "#Dropping unnecessary data\n",
    "# # For point buffer\n",
    "# merged_citibike_avgdensity.drop([ u'Station_Name', u'geometry',  u'boro_code_y', u'Population', \\\n",
    "#             u'density',   u'shape_area',   u'shape_leng', u'Latitude',    u'Longitude', \\\n",
    "#                             u'index_right',  u'Location', 'census_tract'], axis = 1, inplace = True)"
   ]
  },
  {
   "cell_type": "code",
   "execution_count": null,
   "metadata": {
    "collapsed": false
   },
   "outputs": [],
   "source": [
    "# merged_citibike_avgdensity.head()"
   ]
  },
  {
   "cell_type": "code",
   "execution_count": null,
   "metadata": {
    "collapsed": false
   },
   "outputs": [],
   "source": [
    "# #Average population density per citibike stand \n",
    "# merged_citibike_avgdensity.rename(columns={'boro_code_x' : 'Borough_code'}, inplace = True)\n",
    "# merged_citibike_avgdensity.head()"
   ]
  },
  {
   "cell_type": "code",
   "execution_count": null,
   "metadata": {
    "collapsed": false
   },
   "outputs": [],
   "source": [
    "# merged_citibike_avgdensity = merged_citibike_avgdensity.groupby(['Station_id']).mean()\n",
    "# merged_citibike_avgdensity.reset_index(inplace=True)"
   ]
  },
  {
   "cell_type": "code",
   "execution_count": null,
   "metadata": {
    "collapsed": false
   },
   "outputs": [],
   "source": [
    "# merged_citibike_avgdensity.head()"
   ]
  },
  {
   "cell_type": "markdown",
   "metadata": {},
   "source": [
    "### Questions:\n",
    "1. Is census tract data a good reference dataset to calculate population density around a citibike station? Do we need a larger or smaller dataset?\n",
    "2. Should we capture the census tract information from where the population density is calculated?\n",
    "3. Is the population density calculated by the formula density = pop_tract/total_population a good indicator of population density?"
   ]
  }
 ],
 "metadata": {
  "kernelspec": {
   "display_name": "Python [Root]",
   "language": "python",
   "name": "Python [Root]"
  },
  "language_info": {
   "codemirror_mode": {
    "name": "ipython",
    "version": 3
   },
   "file_extension": ".py",
   "mimetype": "text/x-python",
   "name": "python",
   "nbconvert_exporter": "python",
   "pygments_lexer": "ipython3",
   "version": "3.5.1"
  }
 },
 "nbformat": 4,
 "nbformat_minor": 0
}
