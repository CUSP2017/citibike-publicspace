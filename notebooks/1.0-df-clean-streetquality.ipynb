{
 "cells": [
  {
   "cell_type": "markdown",
   "metadata": {
    "focus": false,
    "id": "1e1cc20a-942c-40d9-9206-7bd9a3b70eb7"
   },
   "source": [
    "# Clean Street Quality Data for Merge"
   ]
  },
  {
   "cell_type": "code",
   "execution_count": 11,
   "metadata": {
    "collapsed": false,
    "focus": true,
    "id": "c14c5567-682d-49f2-aab9-23cff2207088"
   },
   "outputs": [
    {
     "data": {
      "text/html": [
       "<div>\n",
       "<table border=\"1\" class=\"dataframe\">\n",
       "  <thead>\n",
       "    <tr style=\"text-align: right;\">\n",
       "      <th></th>\n",
       "      <th>Length</th>\n",
       "      <th>RatingDate</th>\n",
       "      <th>RatingFY_S</th>\n",
       "      <th>RatingWord</th>\n",
       "      <th>Rating_B</th>\n",
       "      <th>SegmentID</th>\n",
       "      <th>Shape_len</th>\n",
       "      <th>UsageClass</th>\n",
       "      <th>Width</th>\n",
       "      <th>geometry</th>\n",
       "    </tr>\n",
       "  </thead>\n",
       "  <tbody>\n",
       "    <tr>\n",
       "      <th>0</th>\n",
       "      <td>114.0</td>\n",
       "      <td>None</td>\n",
       "      <td>0</td>\n",
       "      <td>NR</td>\n",
       "      <td>0</td>\n",
       "      <td>9</td>\n",
       "      <td>114.017543</td>\n",
       "      <td>None</td>\n",
       "      <td>30.0</td>\n",
       "      <td>LINESTRING (913631 122388, 913541 122318)</td>\n",
       "    </tr>\n",
       "    <tr>\n",
       "      <th>1</th>\n",
       "      <td>123.0</td>\n",
       "      <td>None</td>\n",
       "      <td>0</td>\n",
       "      <td>NR</td>\n",
       "      <td>0</td>\n",
       "      <td>10</td>\n",
       "      <td>123.490890</td>\n",
       "      <td>None</td>\n",
       "      <td>30.0</td>\n",
       "      <td>LINESTRING (913754 122399, 913631 122388)</td>\n",
       "    </tr>\n",
       "    <tr>\n",
       "      <th>2</th>\n",
       "      <td>999.0</td>\n",
       "      <td>None</td>\n",
       "      <td>0</td>\n",
       "      <td>NR</td>\n",
       "      <td>0</td>\n",
       "      <td>11</td>\n",
       "      <td>970.481324</td>\n",
       "      <td>None</td>\n",
       "      <td>30.0</td>\n",
       "      <td>LINESTRING (913754 122399, 914299 121596)</td>\n",
       "    </tr>\n",
       "    <tr>\n",
       "      <th>3</th>\n",
       "      <td>221.0</td>\n",
       "      <td>None</td>\n",
       "      <td>0</td>\n",
       "      <td>NR</td>\n",
       "      <td>0</td>\n",
       "      <td>12</td>\n",
       "      <td>221.289403</td>\n",
       "      <td>None</td>\n",
       "      <td>30.0</td>\n",
       "      <td>LINESTRING (913967 122459, 913754 122399)</td>\n",
       "    </tr>\n",
       "    <tr>\n",
       "      <th>4</th>\n",
       "      <td>933.0</td>\n",
       "      <td>None</td>\n",
       "      <td>0</td>\n",
       "      <td>NR</td>\n",
       "      <td>0</td>\n",
       "      <td>13</td>\n",
       "      <td>932.401737</td>\n",
       "      <td>None</td>\n",
       "      <td>30.0</td>\n",
       "      <td>LINESTRING (913967 122459, 914525 121712)</td>\n",
       "    </tr>\n",
       "  </tbody>\n",
       "</table>\n",
       "</div>"
      ],
      "text/plain": [
       "   Length RatingDate  RatingFY_S RatingWord  Rating_B  SegmentID   Shape_len  \\\n",
       "0   114.0       None           0         NR         0          9  114.017543   \n",
       "1   123.0       None           0         NR         0         10  123.490890   \n",
       "2   999.0       None           0         NR         0         11  970.481324   \n",
       "3   221.0       None           0         NR         0         12  221.289403   \n",
       "4   933.0       None           0         NR         0         13  932.401737   \n",
       "\n",
       "  UsageClass  Width                                   geometry  \n",
       "0       None   30.0  LINESTRING (913631 122388, 913541 122318)  \n",
       "1       None   30.0  LINESTRING (913754 122399, 913631 122388)  \n",
       "2       None   30.0  LINESTRING (913754 122399, 914299 121596)  \n",
       "3       None   30.0  LINESTRING (913967 122459, 913754 122399)  \n",
       "4       None   30.0  LINESTRING (913967 122459, 914525 121712)  "
      ]
     },
     "execution_count": 11,
     "metadata": {},
     "output_type": "execute_result"
    }
   ],
   "source": [
    "# Import geojson file into geopandas dataframe\n",
    "import geopandas as gpd\n",
    "%matplotlib inline\n",
    "gdf = gpd.read_file('../data/external/street-assessment-rating.geojson')\n",
    "#gdf1= gdf[gdf['RatingWord' != 'NR']]\n",
    "gdf.head()"
   ]
  },
  {
   "cell_type": "code",
   "execution_count": null,
   "metadata": {
    "collapsed": true,
    "focus": false,
    "id": "cf87e9cd-0ae6-4d09-ab0e-9b23101827f5"
   },
   "outputs": [],
   "source": []
  }
 ],
 "metadata": {
  "kernelspec": {
   "display_name": "Python 3",
   "language": "python",
   "name": "python3"
  },
  "language_info": {
   "codemirror_mode": {
    "name": "ipython",
    "version": 3
   },
   "file_extension": ".py",
   "mimetype": "text/x-python",
   "name": "python",
   "nbconvert_exporter": "python",
   "pygments_lexer": "ipython3",
   "version": "3.5.2"
  }
 },
 "nbformat": 4,
 "nbformat_minor": 0
}
