{
 "cells": [
  {
   "cell_type": "markdown",
   "metadata": {
    "focus": false,
    "id": "1e1cc20a-942c-40d9-9206-7bd9a3b70eb7"
   },
   "source": [
    "# Clean Street Quality Data for Merge"
   ]
  },
  {
   "cell_type": "code",
   "execution_count": 24,
   "metadata": {
    "collapsed": false,
    "focus": true,
    "id": "c14c5567-682d-49f2-aab9-23cff2207088"
   },
   "outputs": [
    {
     "data": {
      "text/html": [
       "<div>\n",
       "<table border=\"1\" class=\"dataframe\">\n",
       "  <thead>\n",
       "    <tr style=\"text-align: right;\">\n",
       "      <th></th>\n",
       "      <th>SegmentID</th>\n",
       "      <th>Rating_B</th>\n",
       "      <th>geometry</th>\n",
       "    </tr>\n",
       "  </thead>\n",
       "  <tbody>\n",
       "    <tr>\n",
       "      <th>5</th>\n",
       "      <td>15</td>\n",
       "      <td>8</td>\n",
       "      <td>LINESTRING (-74.25505718173595 40.505211202870...</td>\n",
       "    </tr>\n",
       "    <tr>\n",
       "      <th>6</th>\n",
       "      <td>16</td>\n",
       "      <td>8</td>\n",
       "      <td>LINESTRING (-74.25422295126857 40.506165510159...</td>\n",
       "    </tr>\n",
       "    <tr>\n",
       "      <th>7</th>\n",
       "      <td>17</td>\n",
       "      <td>8</td>\n",
       "      <td>LINESTRING (-74.25317481600673 40.504767963667...</td>\n",
       "    </tr>\n",
       "    <tr>\n",
       "      <th>8</th>\n",
       "      <td>20</td>\n",
       "      <td>7</td>\n",
       "      <td>LINESTRING (-74.2530943012904 40.5062970118639...</td>\n",
       "    </tr>\n",
       "    <tr>\n",
       "      <th>9</th>\n",
       "      <td>25</td>\n",
       "      <td>6</td>\n",
       "      <td>LINESTRING (-74.25493722035228 40.507701030695...</td>\n",
       "    </tr>\n",
       "  </tbody>\n",
       "</table>\n",
       "</div>"
      ],
      "text/plain": [
       "   SegmentID  Rating_B                                           geometry\n",
       "5         15         8  LINESTRING (-74.25505718173595 40.505211202870...\n",
       "6         16         8  LINESTRING (-74.25422295126857 40.506165510159...\n",
       "7         17         8  LINESTRING (-74.25317481600673 40.504767963667...\n",
       "8         20         7  LINESTRING (-74.2530943012904 40.5062970118639...\n",
       "9         25         6  LINESTRING (-74.25493722035228 40.507701030695..."
      ]
     },
     "execution_count": 24,
     "metadata": {},
     "output_type": "execute_result"
    }
   ],
   "source": [
    "# Import geojson file into geopandas dataframe and remove streets with no rating\n",
    "import geopandas as gpd\n",
    "import pandas as pd\n",
    "import matplotlib.pyplot as plt\n",
    "%matplotlib inline\n",
    "\n",
    "st_quality = gpd.read_file('../data/external/StreetAssessmentRating/StreetAssessmentRating.shp')\n",
    "st_quality = st_quality[['SegmentID', 'Rating_B', 'geometry']]\n",
    "st_quality = st_quality[st_quality.Rating_B != 0 ]\n",
    "st_quality = st_quality.to_crs({'init' :'epsg:4326'})\n",
    "st_quality.head()"
   ]
  },
  {
   "cell_type": "code",
   "execution_count": 25,
   "metadata": {
    "collapsed": false,
    "focus": false,
    "id": "cf87e9cd-0ae6-4d09-ab0e-9b23101827f5"
   },
   "outputs": [],
   "source": [
    "# Import citibike station csv into geopandas dataframe\n",
    "from shapely.geometry import Point\n",
    "from geopandas import GeoDataFrame\n",
    "from geopandas import GeoSeries\n",
    "\n",
    "stations = pd.read_csv('../data/external/citibike_station_info.csv')\n",
    "\n",
    "geometry = GeoSeries([Point(xy) for xy in zip(stations.Longitude, stations.Latitude)])\n",
    "geometry = geometry.buffer(.0005)\n",
    "geo_stations = GeoDataFrame(stations, geometry=geometry)\n",
    "geo_stations.crs = {'init' :'epsg:4326'}\n",
    "geo_stations.head()\n",
    "geo_stations.to_file('geo_stations')"
   ]
  },
  {
   "cell_type": "code",
   "execution_count": 26,
   "metadata": {
    "collapsed": false
   },
   "outputs": [
    {
     "data": {
      "text/html": [
       "<div>\n",
       "<table border=\"1\" class=\"dataframe\">\n",
       "  <thead>\n",
       "    <tr style=\"text-align: right;\">\n",
       "      <th></th>\n",
       "      <th>Station_id</th>\n",
       "      <th>Station_Name</th>\n",
       "      <th>Location</th>\n",
       "      <th>Latitude</th>\n",
       "      <th>Longitude</th>\n",
       "      <th>geometry</th>\n",
       "      <th>index_right</th>\n",
       "      <th>SegmentID</th>\n",
       "      <th>Rating_B</th>\n",
       "    </tr>\n",
       "  </thead>\n",
       "  <tbody>\n",
       "    <tr>\n",
       "      <th>0</th>\n",
       "      <td>72</td>\n",
       "      <td>W 52 St &amp; 11 Ave</td>\n",
       "      <td>W 52 St &amp; 11 Ave</td>\n",
       "      <td>40.767272</td>\n",
       "      <td>-73.993929</td>\n",
       "      <td>POLYGON ((-73.99342888 40.76727216, -73.993431...</td>\n",
       "      <td>26239</td>\n",
       "      <td>33779</td>\n",
       "      <td>8</td>\n",
       "    </tr>\n",
       "    <tr>\n",
       "      <th>0</th>\n",
       "      <td>72</td>\n",
       "      <td>W 52 St &amp; 11 Ave</td>\n",
       "      <td>W 52 St &amp; 11 Ave</td>\n",
       "      <td>40.767272</td>\n",
       "      <td>-73.993929</td>\n",
       "      <td>POLYGON ((-73.99342888 40.76727216, -73.993431...</td>\n",
       "      <td>26241</td>\n",
       "      <td>33781</td>\n",
       "      <td>8</td>\n",
       "    </tr>\n",
       "    <tr>\n",
       "      <th>0</th>\n",
       "      <td>72</td>\n",
       "      <td>W 52 St &amp; 11 Ave</td>\n",
       "      <td>W 52 St &amp; 11 Ave</td>\n",
       "      <td>40.767272</td>\n",
       "      <td>-73.993929</td>\n",
       "      <td>POLYGON ((-73.99342888 40.76727216, -73.993431...</td>\n",
       "      <td>26240</td>\n",
       "      <td>33780</td>\n",
       "      <td>8</td>\n",
       "    </tr>\n",
       "    <tr>\n",
       "      <th>1</th>\n",
       "      <td>79</td>\n",
       "      <td>Franklin St &amp; W Broadway</td>\n",
       "      <td>Franklin St &amp; W Broadway</td>\n",
       "      <td>40.719116</td>\n",
       "      <td>-74.006667</td>\n",
       "      <td>POLYGON ((-74.00616660999999 40.71911552, -74....</td>\n",
       "      <td>24501</td>\n",
       "      <td>31767</td>\n",
       "      <td>9</td>\n",
       "    </tr>\n",
       "    <tr>\n",
       "      <th>1</th>\n",
       "      <td>79</td>\n",
       "      <td>Franklin St &amp; W Broadway</td>\n",
       "      <td>Franklin St &amp; W Broadway</td>\n",
       "      <td>40.719116</td>\n",
       "      <td>-74.006667</td>\n",
       "      <td>POLYGON ((-74.00616660999999 40.71911552, -74....</td>\n",
       "      <td>24511</td>\n",
       "      <td>31777</td>\n",
       "      <td>8</td>\n",
       "    </tr>\n",
       "  </tbody>\n",
       "</table>\n",
       "</div>"
      ],
      "text/plain": [
       "   Station_id              Station_Name                  Location   Latitude  \\\n",
       "0          72          W 52 St & 11 Ave          W 52 St & 11 Ave  40.767272   \n",
       "0          72          W 52 St & 11 Ave          W 52 St & 11 Ave  40.767272   \n",
       "0          72          W 52 St & 11 Ave          W 52 St & 11 Ave  40.767272   \n",
       "1          79  Franklin St & W Broadway  Franklin St & W Broadway  40.719116   \n",
       "1          79  Franklin St & W Broadway  Franklin St & W Broadway  40.719116   \n",
       "\n",
       "   Longitude                                           geometry  index_right  \\\n",
       "0 -73.993929  POLYGON ((-73.99342888 40.76727216, -73.993431...        26239   \n",
       "0 -73.993929  POLYGON ((-73.99342888 40.76727216, -73.993431...        26241   \n",
       "0 -73.993929  POLYGON ((-73.99342888 40.76727216, -73.993431...        26240   \n",
       "1 -74.006667  POLYGON ((-74.00616660999999 40.71911552, -74....        24501   \n",
       "1 -74.006667  POLYGON ((-74.00616660999999 40.71911552, -74....        24511   \n",
       "\n",
       "   SegmentID  Rating_B  \n",
       "0      33779         8  \n",
       "0      33781         8  \n",
       "0      33780         8  \n",
       "1      31767         9  \n",
       "1      31777         8  "
      ]
     },
     "execution_count": 26,
     "metadata": {},
     "output_type": "execute_result"
    }
   ],
   "source": [
    "# Merge street quality data with citibike stations using Geopandas Spatial Merge\n",
    "stations_st_quality = gpd.sjoin(geo_stations, st_quality, how=\"inner\", op='intersects')\n",
    "stations_st_quality.head()"
   ]
  },
  {
   "cell_type": "code",
   "execution_count": null,
   "metadata": {
    "collapsed": true
   },
   "outputs": [],
   "source": []
  }
 ],
 "metadata": {
  "kernelspec": {
   "display_name": "Python 3",
   "language": "python",
   "name": "python3"
  },
  "language_info": {
   "codemirror_mode": {
    "name": "ipython",
    "version": 3
   },
   "file_extension": ".py",
   "mimetype": "text/x-python",
   "name": "python",
   "nbconvert_exporter": "python",
   "pygments_lexer": "ipython3",
   "version": "3.5.2"
  }
 },
 "nbformat": 4,
 "nbformat_minor": 0
}
