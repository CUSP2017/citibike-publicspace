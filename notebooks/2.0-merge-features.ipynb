{
 "cells": [
  {
   "cell_type": "code",
   "execution_count": 1,
   "metadata": {
    "collapsed": true
   },
   "outputs": [],
   "source": [
    "import pandas as pd\n",
    "import numpy as np"
   ]
  },
  {
   "cell_type": "code",
   "execution_count": 7,
   "metadata": {
    "collapsed": true
   },
   "outputs": [],
   "source": [
    "bike_lanes = pd.read_csv(\"../data/processed/bike-lane-quality.csv\", index_col=0)"
   ]
  },
  {
   "cell_type": "code",
   "execution_count": 8,
   "metadata": {
    "collapsed": false
   },
   "outputs": [
    {
     "data": {
      "text/html": [
       "<div>\n",
       "<table border=\"1\" class=\"dataframe\">\n",
       "  <thead>\n",
       "    <tr style=\"text-align: right;\">\n",
       "      <th></th>\n",
       "      <th>Station_id</th>\n",
       "      <th>metric</th>\n",
       "    </tr>\n",
       "  </thead>\n",
       "  <tbody>\n",
       "    <tr>\n",
       "      <th>0</th>\n",
       "      <td>79</td>\n",
       "      <td>3.0</td>\n",
       "    </tr>\n",
       "    <tr>\n",
       "      <th>1</th>\n",
       "      <td>116</td>\n",
       "      <td>4.0</td>\n",
       "    </tr>\n",
       "    <tr>\n",
       "      <th>2</th>\n",
       "      <td>119</td>\n",
       "      <td>4.0</td>\n",
       "    </tr>\n",
       "    <tr>\n",
       "      <th>3</th>\n",
       "      <td>120</td>\n",
       "      <td>4.0</td>\n",
       "    </tr>\n",
       "    <tr>\n",
       "      <th>4</th>\n",
       "      <td>127</td>\n",
       "      <td>4.0</td>\n",
       "    </tr>\n",
       "  </tbody>\n",
       "</table>\n",
       "</div>"
      ],
      "text/plain": [
       "   Station_id  metric\n",
       "0          79     3.0\n",
       "1         116     4.0\n",
       "2         119     4.0\n",
       "3         120     4.0\n",
       "4         127     4.0"
      ]
     },
     "execution_count": 8,
     "metadata": {},
     "output_type": "execute_result"
    }
   ],
   "source": [
    "bike_lanes.head()"
   ]
  },
  {
   "cell_type": "code",
   "execution_count": 9,
   "metadata": {
    "collapsed": true
   },
   "outputs": [],
   "source": [
    "parks = pd.read_csv(\"../data/processed/parks.csv\", index_col=0)"
   ]
  },
  {
   "cell_type": "code",
   "execution_count": 10,
   "metadata": {
    "collapsed": false
   },
   "outputs": [
    {
     "data": {
      "text/html": [
       "<div>\n",
       "<table border=\"1\" class=\"dataframe\">\n",
       "  <thead>\n",
       "    <tr style=\"text-align: right;\">\n",
       "      <th></th>\n",
       "      <th>Station_id</th>\n",
       "      <th>citibike_location</th>\n",
       "      <th>park_location</th>\n",
       "      <th>signname</th>\n",
       "      <th>park</th>\n",
       "    </tr>\n",
       "  </thead>\n",
       "  <tbody>\n",
       "    <tr>\n",
       "      <th>0</th>\n",
       "      <td>72</td>\n",
       "      <td>W 52 St &amp; 11 Ave</td>\n",
       "      <td>W. 52 St. To W. 54 St., 11 Ave. To 12 Ave.</td>\n",
       "      <td>De Witt Clinton Park</td>\n",
       "      <td>1</td>\n",
       "    </tr>\n",
       "    <tr>\n",
       "      <th>1</th>\n",
       "      <td>82</td>\n",
       "      <td>St James Pl &amp; Pearl St</td>\n",
       "      <td>Pearl St., Madison St. and St James Pl.</td>\n",
       "      <td>James Madison Plaza</td>\n",
       "      <td>1</td>\n",
       "    </tr>\n",
       "    <tr>\n",
       "      <th>2</th>\n",
       "      <td>116</td>\n",
       "      <td>W 17 St &amp; 8 Ave</td>\n",
       "      <td>W. 17 St., 8 Ave. To 9 Ave.</td>\n",
       "      <td>Dr. Gertrude B. Kelly Playground</td>\n",
       "      <td>1</td>\n",
       "    </tr>\n",
       "    <tr>\n",
       "      <th>3</th>\n",
       "      <td>119</td>\n",
       "      <td>Park Ave &amp; St Edwards St</td>\n",
       "      <td>Nassau St., Park Ave., bet. Navy St. and N. El...</td>\n",
       "      <td>Commodore Barry Park</td>\n",
       "      <td>1</td>\n",
       "    </tr>\n",
       "    <tr>\n",
       "      <th>4</th>\n",
       "      <td>128</td>\n",
       "      <td>MacDougal St &amp; Prince St</td>\n",
       "      <td>Ave. Of Americas bet. Prince St. and Spring St.</td>\n",
       "      <td>Father Fagan Park</td>\n",
       "      <td>1</td>\n",
       "    </tr>\n",
       "  </tbody>\n",
       "</table>\n",
       "</div>"
      ],
      "text/plain": [
       "   Station_id         citibike_location  \\\n",
       "0          72          W 52 St & 11 Ave   \n",
       "1          82    St James Pl & Pearl St   \n",
       "2         116           W 17 St & 8 Ave   \n",
       "3         119  Park Ave & St Edwards St   \n",
       "4         128  MacDougal St & Prince St   \n",
       "\n",
       "                                       park_location  \\\n",
       "0         W. 52 St. To W. 54 St., 11 Ave. To 12 Ave.   \n",
       "1            Pearl St., Madison St. and St James Pl.   \n",
       "2                        W. 17 St., 8 Ave. To 9 Ave.   \n",
       "3  Nassau St., Park Ave., bet. Navy St. and N. El...   \n",
       "4    Ave. Of Americas bet. Prince St. and Spring St.   \n",
       "\n",
       "                           signname  park  \n",
       "0              De Witt Clinton Park     1  \n",
       "1               James Madison Plaza     1  \n",
       "2  Dr. Gertrude B. Kelly Playground     1  \n",
       "3              Commodore Barry Park     1  \n",
       "4                 Father Fagan Park     1  "
      ]
     },
     "execution_count": 10,
     "metadata": {},
     "output_type": "execute_result"
    }
   ],
   "source": [
    "parks.head()"
   ]
  },
  {
   "cell_type": "code",
   "execution_count": 11,
   "metadata": {
    "collapsed": true
   },
   "outputs": [],
   "source": [
    "ridership = pd.read_csv(\"../data/processed/ridership.csv\", index_col=0)"
   ]
  },
  {
   "cell_type": "code",
   "execution_count": 12,
   "metadata": {
    "collapsed": false
   },
   "outputs": [
    {
     "data": {
      "text/html": [
       "<div>\n",
       "<table border=\"1\" class=\"dataframe\">\n",
       "  <thead>\n",
       "    <tr style=\"text-align: right;\">\n",
       "      <th></th>\n",
       "      <th>Station_id</th>\n",
       "      <th>count of rides 201501</th>\n",
       "      <th>count of rides 201502</th>\n",
       "      <th>count of rides 201503</th>\n",
       "      <th>count of rides 201504</th>\n",
       "      <th>count of rides 201505</th>\n",
       "      <th>count of rides 201506</th>\n",
       "      <th>count of rides 201507</th>\n",
       "      <th>count of rides 201508</th>\n",
       "      <th>count of rides 201509</th>\n",
       "      <th>count of rides 201510</th>\n",
       "      <th>count of rides 201511</th>\n",
       "      <th>count of rides 201512</th>\n",
       "      <th>average station ridership 2015</th>\n",
       "    </tr>\n",
       "  </thead>\n",
       "  <tbody>\n",
       "    <tr>\n",
       "      <th>0</th>\n",
       "      <td>72</td>\n",
       "      <td>638.0</td>\n",
       "      <td>480.0</td>\n",
       "      <td>1026.0</td>\n",
       "      <td>1948.0</td>\n",
       "      <td>2943.0</td>\n",
       "      <td>2767.0</td>\n",
       "      <td>3149.0</td>\n",
       "      <td>3504.0</td>\n",
       "      <td>3667.0</td>\n",
       "      <td>3546.0</td>\n",
       "      <td>2323.0</td>\n",
       "      <td>1648.0</td>\n",
       "      <td>2131.615385</td>\n",
       "    </tr>\n",
       "    <tr>\n",
       "      <th>1</th>\n",
       "      <td>79</td>\n",
       "      <td>566.0</td>\n",
       "      <td>335.0</td>\n",
       "      <td>725.0</td>\n",
       "      <td>1728.0</td>\n",
       "      <td>2368.0</td>\n",
       "      <td>2424.0</td>\n",
       "      <td>2626.0</td>\n",
       "      <td>2726.0</td>\n",
       "      <td>3011.0</td>\n",
       "      <td>2646.0</td>\n",
       "      <td>2074.0</td>\n",
       "      <td>1579.0</td>\n",
       "      <td>1760.538462</td>\n",
       "    </tr>\n",
       "    <tr>\n",
       "      <th>2</th>\n",
       "      <td>82</td>\n",
       "      <td>310.0</td>\n",
       "      <td>276.0</td>\n",
       "      <td>406.0</td>\n",
       "      <td>788.0</td>\n",
       "      <td>1068.0</td>\n",
       "      <td>946.0</td>\n",
       "      <td>1193.0</td>\n",
       "      <td>1145.0</td>\n",
       "      <td>1166.0</td>\n",
       "      <td>1053.0</td>\n",
       "      <td>819.0</td>\n",
       "      <td>713.0</td>\n",
       "      <td>766.538462</td>\n",
       "    </tr>\n",
       "    <tr>\n",
       "      <th>3</th>\n",
       "      <td>83</td>\n",
       "      <td>258.0</td>\n",
       "      <td>162.0</td>\n",
       "      <td>281.0</td>\n",
       "      <td>749.0</td>\n",
       "      <td>1101.0</td>\n",
       "      <td>994.0</td>\n",
       "      <td>1659.0</td>\n",
       "      <td>1724.0</td>\n",
       "      <td>1505.0</td>\n",
       "      <td>1104.0</td>\n",
       "      <td>886.0</td>\n",
       "      <td>717.0</td>\n",
       "      <td>863.307692</td>\n",
       "    </tr>\n",
       "    <tr>\n",
       "      <th>4</th>\n",
       "      <td>116</td>\n",
       "      <td>1696.0</td>\n",
       "      <td>1193.0</td>\n",
       "      <td>2105.0</td>\n",
       "      <td>1933.0</td>\n",
       "      <td>2281.0</td>\n",
       "      <td>4800.0</td>\n",
       "      <td>5674.0</td>\n",
       "      <td>6175.0</td>\n",
       "      <td>6558.0</td>\n",
       "      <td>5825.0</td>\n",
       "      <td>4455.0</td>\n",
       "      <td>3686.0</td>\n",
       "      <td>3576.692308</td>\n",
       "    </tr>\n",
       "  </tbody>\n",
       "</table>\n",
       "</div>"
      ],
      "text/plain": [
       "   Station_id  count of rides 201501  count of rides 201502  \\\n",
       "0          72                  638.0                  480.0   \n",
       "1          79                  566.0                  335.0   \n",
       "2          82                  310.0                  276.0   \n",
       "3          83                  258.0                  162.0   \n",
       "4         116                 1696.0                 1193.0   \n",
       "\n",
       "   count of rides 201503  count of rides 201504  count of rides 201505  \\\n",
       "0                 1026.0                 1948.0                 2943.0   \n",
       "1                  725.0                 1728.0                 2368.0   \n",
       "2                  406.0                  788.0                 1068.0   \n",
       "3                  281.0                  749.0                 1101.0   \n",
       "4                 2105.0                 1933.0                 2281.0   \n",
       "\n",
       "   count of rides 201506  count of rides 201507  count of rides 201508  \\\n",
       "0                 2767.0                 3149.0                 3504.0   \n",
       "1                 2424.0                 2626.0                 2726.0   \n",
       "2                  946.0                 1193.0                 1145.0   \n",
       "3                  994.0                 1659.0                 1724.0   \n",
       "4                 4800.0                 5674.0                 6175.0   \n",
       "\n",
       "   count of rides 201509  count of rides 201510  count of rides 201511  \\\n",
       "0                 3667.0                 3546.0                 2323.0   \n",
       "1                 3011.0                 2646.0                 2074.0   \n",
       "2                 1166.0                 1053.0                  819.0   \n",
       "3                 1505.0                 1104.0                  886.0   \n",
       "4                 6558.0                 5825.0                 4455.0   \n",
       "\n",
       "   count of rides 201512  average station ridership 2015  \n",
       "0                 1648.0                     2131.615385  \n",
       "1                 1579.0                     1760.538462  \n",
       "2                  713.0                      766.538462  \n",
       "3                  717.0                      863.307692  \n",
       "4                 3686.0                     3576.692308  "
      ]
     },
     "execution_count": 12,
     "metadata": {},
     "output_type": "execute_result"
    }
   ],
   "source": [
    "ridership.head()"
   ]
  },
  {
   "cell_type": "code",
   "execution_count": 17,
   "metadata": {
    "collapsed": true
   },
   "outputs": [],
   "source": [
    "streets = pd.read_csv(\"../data/processed/street-assessment.csv\", index_col=0)"
   ]
  },
  {
   "cell_type": "code",
   "execution_count": 18,
   "metadata": {
    "collapsed": false
   },
   "outputs": [
    {
     "data": {
      "text/html": [
       "<div>\n",
       "<table border=\"1\" class=\"dataframe\">\n",
       "  <thead>\n",
       "    <tr style=\"text-align: right;\">\n",
       "      <th></th>\n",
       "      <th>Station_id</th>\n",
       "      <th>Station_Name</th>\n",
       "      <th>Location</th>\n",
       "      <th>Latitude</th>\n",
       "      <th>Longitude</th>\n",
       "      <th>Rating_B</th>\n",
       "    </tr>\n",
       "  </thead>\n",
       "  <tbody>\n",
       "    <tr>\n",
       "      <th>0</th>\n",
       "      <td>72</td>\n",
       "      <td>W 52 St &amp; 11 Ave</td>\n",
       "      <td>W 52 St &amp; 11 Ave</td>\n",
       "      <td>40.767272</td>\n",
       "      <td>-73.993929</td>\n",
       "      <td>8.000000</td>\n",
       "    </tr>\n",
       "    <tr>\n",
       "      <th>1</th>\n",
       "      <td>79</td>\n",
       "      <td>Franklin St &amp; W Broadway</td>\n",
       "      <td>Franklin St &amp; W Broadway</td>\n",
       "      <td>40.719116</td>\n",
       "      <td>-74.006667</td>\n",
       "      <td>8.571429</td>\n",
       "    </tr>\n",
       "    <tr>\n",
       "      <th>2</th>\n",
       "      <td>82</td>\n",
       "      <td>St James Pl &amp; Pearl St</td>\n",
       "      <td>St James Pl &amp; Pearl St</td>\n",
       "      <td>40.711174</td>\n",
       "      <td>-74.000165</td>\n",
       "      <td>7.333333</td>\n",
       "    </tr>\n",
       "    <tr>\n",
       "      <th>3</th>\n",
       "      <td>83</td>\n",
       "      <td>Atlantic Ave &amp; Fort Greene Pl</td>\n",
       "      <td>Atlantic Ave &amp; Fort Greene Pl</td>\n",
       "      <td>40.683826</td>\n",
       "      <td>-73.976323</td>\n",
       "      <td>7.500000</td>\n",
       "    </tr>\n",
       "    <tr>\n",
       "      <th>4</th>\n",
       "      <td>116</td>\n",
       "      <td>W 17 St &amp; 8 Ave</td>\n",
       "      <td>W 17 St &amp; 8 Ave</td>\n",
       "      <td>40.741776</td>\n",
       "      <td>-74.001497</td>\n",
       "      <td>8.500000</td>\n",
       "    </tr>\n",
       "  </tbody>\n",
       "</table>\n",
       "</div>"
      ],
      "text/plain": [
       "   Station_id                   Station_Name                       Location  \\\n",
       "0          72               W 52 St & 11 Ave               W 52 St & 11 Ave   \n",
       "1          79       Franklin St & W Broadway       Franklin St & W Broadway   \n",
       "2          82         St James Pl & Pearl St         St James Pl & Pearl St   \n",
       "3          83  Atlantic Ave & Fort Greene Pl  Atlantic Ave & Fort Greene Pl   \n",
       "4         116                W 17 St & 8 Ave                W 17 St & 8 Ave   \n",
       "\n",
       "    Latitude  Longitude  Rating_B  \n",
       "0  40.767272 -73.993929  8.000000  \n",
       "1  40.719116 -74.006667  8.571429  \n",
       "2  40.711174 -74.000165  7.333333  \n",
       "3  40.683826 -73.976323  7.500000  \n",
       "4  40.741776 -74.001497  8.500000  "
      ]
     },
     "execution_count": 18,
     "metadata": {},
     "output_type": "execute_result"
    }
   ],
   "source": [
    "streets.head()"
   ]
  },
  {
   "cell_type": "code",
   "execution_count": 19,
   "metadata": {
    "collapsed": true
   },
   "outputs": [],
   "source": [
    "entrances = pd.read_csv(\"../data/processed/subway-entrances.csv\", index_col=0)"
   ]
  },
  {
   "cell_type": "code",
   "execution_count": 20,
   "metadata": {
    "collapsed": false
   },
   "outputs": [
    {
     "data": {
      "text/html": [
       "<div>\n",
       "<table border=\"1\" class=\"dataframe\">\n",
       "  <thead>\n",
       "    <tr style=\"text-align: right;\">\n",
       "      <th></th>\n",
       "      <th>Station_id</th>\n",
       "      <th>Location</th>\n",
       "      <th>line</th>\n",
       "      <th>subway_entrance</th>\n",
       "    </tr>\n",
       "  </thead>\n",
       "  <tbody>\n",
       "    <tr>\n",
       "      <th>0</th>\n",
       "      <td>79</td>\n",
       "      <td>Franklin St &amp; W Broadway</td>\n",
       "      <td>1</td>\n",
       "      <td>1</td>\n",
       "    </tr>\n",
       "    <tr>\n",
       "      <th>1</th>\n",
       "      <td>151</td>\n",
       "      <td>Cleveland Pl &amp; Spring St</td>\n",
       "      <td>4-6-6 Express</td>\n",
       "      <td>1</td>\n",
       "    </tr>\n",
       "    <tr>\n",
       "      <th>2</th>\n",
       "      <td>223</td>\n",
       "      <td>W 13 St &amp; 7 Ave</td>\n",
       "      <td>1-2-3-L-F-M</td>\n",
       "      <td>1</td>\n",
       "    </tr>\n",
       "    <tr>\n",
       "      <th>3</th>\n",
       "      <td>257</td>\n",
       "      <td>Lispenard St &amp; Broadway</td>\n",
       "      <td>4-6-6 Express-J-Z-N-Q-R</td>\n",
       "      <td>1</td>\n",
       "    </tr>\n",
       "    <tr>\n",
       "      <th>4</th>\n",
       "      <td>267</td>\n",
       "      <td>Broadway &amp; W 36 St</td>\n",
       "      <td>B-D-F-M-N-Q-R</td>\n",
       "      <td>1</td>\n",
       "    </tr>\n",
       "  </tbody>\n",
       "</table>\n",
       "</div>"
      ],
      "text/plain": [
       "   Station_id                  Location                     line  \\\n",
       "0          79  Franklin St & W Broadway                        1   \n",
       "1         151  Cleveland Pl & Spring St            4-6-6 Express   \n",
       "2         223           W 13 St & 7 Ave              1-2-3-L-F-M   \n",
       "3         257   Lispenard St & Broadway  4-6-6 Express-J-Z-N-Q-R   \n",
       "4         267        Broadway & W 36 St            B-D-F-M-N-Q-R   \n",
       "\n",
       "   subway_entrance  \n",
       "0                1  \n",
       "1                1  \n",
       "2                1  \n",
       "3                1  \n",
       "4                1  "
      ]
     },
     "execution_count": 20,
     "metadata": {},
     "output_type": "execute_result"
    }
   ],
   "source": [
    "entrances.head()"
   ]
  },
  {
   "cell_type": "code",
   "execution_count": 21,
   "metadata": {
    "collapsed": true
   },
   "outputs": [],
   "source": [
    "trees = pd.read_csv(\"../data/processed/tree-canopy.csv\", index_col=0)"
   ]
  },
  {
   "cell_type": "code",
   "execution_count": 22,
   "metadata": {
    "collapsed": false
   },
   "outputs": [
    {
     "data": {
      "text/html": [
       "<div>\n",
       "<table border=\"1\" class=\"dataframe\">\n",
       "  <thead>\n",
       "    <tr style=\"text-align: right;\">\n",
       "      <th></th>\n",
       "      <th>score</th>\n",
       "      <th>score_mean</th>\n",
       "      <th>tree_count</th>\n",
       "      <th>station_id</th>\n",
       "    </tr>\n",
       "    <tr>\n",
       "      <th>Station_id</th>\n",
       "      <th></th>\n",
       "      <th></th>\n",
       "      <th></th>\n",
       "      <th></th>\n",
       "    </tr>\n",
       "  </thead>\n",
       "  <tbody>\n",
       "    <tr>\n",
       "      <th>72</th>\n",
       "      <td>17.364799</td>\n",
       "      <td>2.480686</td>\n",
       "      <td>7</td>\n",
       "      <td>72</td>\n",
       "    </tr>\n",
       "    <tr>\n",
       "      <th>79</th>\n",
       "      <td>9.573955</td>\n",
       "      <td>3.191318</td>\n",
       "      <td>3</td>\n",
       "      <td>79</td>\n",
       "    </tr>\n",
       "    <tr>\n",
       "      <th>82</th>\n",
       "      <td>35.070325</td>\n",
       "      <td>3.188211</td>\n",
       "      <td>11</td>\n",
       "      <td>82</td>\n",
       "    </tr>\n",
       "    <tr>\n",
       "      <th>83</th>\n",
       "      <td>0.000000</td>\n",
       "      <td>0.000000</td>\n",
       "      <td>0</td>\n",
       "      <td>83</td>\n",
       "    </tr>\n",
       "    <tr>\n",
       "      <th>116</th>\n",
       "      <td>47.824344</td>\n",
       "      <td>3.188290</td>\n",
       "      <td>15</td>\n",
       "      <td>116</td>\n",
       "    </tr>\n",
       "  </tbody>\n",
       "</table>\n",
       "</div>"
      ],
      "text/plain": [
       "                score  score_mean  tree_count  station_id\n",
       "Station_id                                               \n",
       "72          17.364799    2.480686           7          72\n",
       "79           9.573955    3.191318           3          79\n",
       "82          35.070325    3.188211          11          82\n",
       "83           0.000000    0.000000           0          83\n",
       "116         47.824344    3.188290          15         116"
      ]
     },
     "execution_count": 22,
     "metadata": {},
     "output_type": "execute_result"
    }
   ],
   "source": [
    "trees.head()"
   ]
  }
 ],
 "metadata": {
  "anaconda-cloud": {},
  "kernelspec": {
   "display_name": "Python [Root]",
   "language": "python",
   "name": "Python [Root]"
  },
  "language_info": {
   "codemirror_mode": {
    "name": "ipython",
    "version": 3
   },
   "file_extension": ".py",
   "mimetype": "text/x-python",
   "name": "python",
   "nbconvert_exporter": "python",
   "pygments_lexer": "ipython3",
   "version": "3.5.1"
  }
 },
 "nbformat": 4,
 "nbformat_minor": 0
}
