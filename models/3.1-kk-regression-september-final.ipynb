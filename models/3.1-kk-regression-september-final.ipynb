{
 "cells": [
  {
   "cell_type": "code",
   "execution_count": 58,
   "metadata": {
    "collapsed": false
   },
   "outputs": [
    {
     "name": "stdout",
     "output_type": "stream",
     "text": [
      "Populating the interactive namespace from numpy and matplotlib\n"
     ]
    }
   ],
   "source": [
    "import pandas as pd\n",
    "import matplotlib\n",
    "import pylab as pl\n",
    "import statsmodels.api as sm\n",
    "import statsmodels.formula.api as smf\n",
    "from sklearn.model_selection import train_test_split\n",
    "from sklearn.linear_model import LinearRegression\n",
    "%pylab inline"
   ]
  },
  {
   "cell_type": "markdown",
   "metadata": {},
   "source": [
    "### Train merged data on first 300 rows of September rows and predict ridership of the remainder in September"
   ]
  },
  {
   "cell_type": "markdown",
   "metadata": {},
   "source": [
    "### Merged dataset\n",
    "#### Calculate the regression in September\n",
    "* Did not remove any stations \n",
    "* Selected 300 stations for train"
   ]
  },
  {
   "cell_type": "code",
   "execution_count": 59,
   "metadata": {
    "collapsed": false
   },
   "outputs": [],
   "source": [
    "merged = pd.read_csv('../data/processed/master.csv')\n",
    "merged_norm = pd.read_csv('../data/processed/master_norm.csv')"
   ]
  },
  {
   "cell_type": "code",
   "execution_count": 60,
   "metadata": {
    "collapsed": true
   },
   "outputs": [],
   "source": [
    "#dropping all months except September\n",
    "merged = merged.drop(['ridership_0115', 'ridership_0215', 'ridership_0315', 'ridership_0415', 'ridership_0515', 'ridership_0615', 'ridership_0715', 'ridership_0815', 'ridership_1015', 'ridership_1115', 'ridership_1215'], axis=1)"
   ]
  },
  {
   "cell_type": "code",
   "execution_count": 61,
   "metadata": {
    "collapsed": false
   },
   "outputs": [
    {
     "data": {
      "text/html": [
       "<div>\n",
       "<table border=\"1\" class=\"dataframe\">\n",
       "  <thead>\n",
       "    <tr style=\"text-align: right;\">\n",
       "      <th></th>\n",
       "      <th>station_id</th>\n",
       "      <th>ridership_0915</th>\n",
       "      <th>avg_ridership_2015</th>\n",
       "      <th>bike_lane_score</th>\n",
       "      <th>park</th>\n",
       "      <th>street_quality_score</th>\n",
       "      <th>subway_entrance</th>\n",
       "      <th>tree_score</th>\n",
       "      <th>traffic_volume</th>\n",
       "      <th>median_hh_income</th>\n",
       "      <th>pop_density</th>\n",
       "    </tr>\n",
       "  </thead>\n",
       "  <tbody>\n",
       "    <tr>\n",
       "      <th>0</th>\n",
       "      <td>72</td>\n",
       "      <td>3667.0</td>\n",
       "      <td>2131.615385</td>\n",
       "      <td>0.0</td>\n",
       "      <td>1.0</td>\n",
       "      <td>8.000000</td>\n",
       "      <td>0.0</td>\n",
       "      <td>17.364799</td>\n",
       "      <td>14870.500000</td>\n",
       "      <td>90174.000000</td>\n",
       "      <td>0.000807</td>\n",
       "    </tr>\n",
       "    <tr>\n",
       "      <th>1</th>\n",
       "      <td>79</td>\n",
       "      <td>3011.0</td>\n",
       "      <td>1760.538462</td>\n",
       "      <td>3.0</td>\n",
       "      <td>0.0</td>\n",
       "      <td>8.571429</td>\n",
       "      <td>1.0</td>\n",
       "      <td>9.573955</td>\n",
       "      <td>9484.666667</td>\n",
       "      <td>86523.139535</td>\n",
       "      <td>0.000631</td>\n",
       "    </tr>\n",
       "    <tr>\n",
       "      <th>2</th>\n",
       "      <td>82</td>\n",
       "      <td>1166.0</td>\n",
       "      <td>766.538462</td>\n",
       "      <td>0.0</td>\n",
       "      <td>1.0</td>\n",
       "      <td>7.333333</td>\n",
       "      <td>0.0</td>\n",
       "      <td>35.070325</td>\n",
       "      <td>16812.500000</td>\n",
       "      <td>73988.000000</td>\n",
       "      <td>0.000511</td>\n",
       "    </tr>\n",
       "    <tr>\n",
       "      <th>3</th>\n",
       "      <td>83</td>\n",
       "      <td>1505.0</td>\n",
       "      <td>863.307692</td>\n",
       "      <td>0.0</td>\n",
       "      <td>0.0</td>\n",
       "      <td>7.500000</td>\n",
       "      <td>0.0</td>\n",
       "      <td>0.000000</td>\n",
       "      <td>41976.000000</td>\n",
       "      <td>85199.000000</td>\n",
       "      <td>0.000231</td>\n",
       "    </tr>\n",
       "    <tr>\n",
       "      <th>4</th>\n",
       "      <td>116</td>\n",
       "      <td>6558.0</td>\n",
       "      <td>3576.692308</td>\n",
       "      <td>4.0</td>\n",
       "      <td>1.0</td>\n",
       "      <td>8.500000</td>\n",
       "      <td>0.0</td>\n",
       "      <td>47.824344</td>\n",
       "      <td>15948.000000</td>\n",
       "      <td>104974.000000</td>\n",
       "      <td>0.000742</td>\n",
       "    </tr>\n",
       "  </tbody>\n",
       "</table>\n",
       "</div>"
      ],
      "text/plain": [
       "   station_id  ridership_0915  avg_ridership_2015  bike_lane_score  park  \\\n",
       "0          72          3667.0         2131.615385              0.0   1.0   \n",
       "1          79          3011.0         1760.538462              3.0   0.0   \n",
       "2          82          1166.0          766.538462              0.0   1.0   \n",
       "3          83          1505.0          863.307692              0.0   0.0   \n",
       "4         116          6558.0         3576.692308              4.0   1.0   \n",
       "\n",
       "   street_quality_score  subway_entrance  tree_score  traffic_volume  \\\n",
       "0              8.000000              0.0   17.364799    14870.500000   \n",
       "1              8.571429              1.0    9.573955     9484.666667   \n",
       "2              7.333333              0.0   35.070325    16812.500000   \n",
       "3              7.500000              0.0    0.000000    41976.000000   \n",
       "4              8.500000              0.0   47.824344    15948.000000   \n",
       "\n",
       "   median_hh_income  pop_density  \n",
       "0      90174.000000     0.000807  \n",
       "1      86523.139535     0.000631  \n",
       "2      73988.000000     0.000511  \n",
       "3      85199.000000     0.000231  \n",
       "4     104974.000000     0.000742  "
      ]
     },
     "execution_count": 61,
     "metadata": {},
     "output_type": "execute_result"
    }
   ],
   "source": [
    "merged.head()"
   ]
  },
  {
   "cell_type": "code",
   "execution_count": 62,
   "metadata": {
    "collapsed": false
   },
   "outputs": [
    {
     "data": {
      "text/html": [
       "<table class=\"simpletable\">\n",
       "<caption>OLS Regression Results</caption>\n",
       "<tr>\n",
       "  <th>Dep. Variable:</th>     <td>ridership_0915</td>  <th>  R-squared:         </th> <td>   0.224</td>\n",
       "</tr>\n",
       "<tr>\n",
       "  <th>Model:</th>                   <td>OLS</td>       <th>  Adj. R-squared:    </th> <td>   0.209</td>\n",
       "</tr>\n",
       "<tr>\n",
       "  <th>Method:</th>             <td>Least Squares</td>  <th>  F-statistic:       </th> <td>   15.01</td>\n",
       "</tr>\n",
       "<tr>\n",
       "  <th>Date:</th>             <td>Wed, 16 Nov 2016</td> <th>  Prob (F-statistic):</th> <td>2.25e-19</td>\n",
       "</tr>\n",
       "<tr>\n",
       "  <th>Time:</th>                 <td>15:55:43</td>     <th>  Log-Likelihood:    </th> <td> -3839.5</td>\n",
       "</tr>\n",
       "<tr>\n",
       "  <th>No. Observations:</th>      <td>   426</td>      <th>  AIC:               </th> <td>   7697.</td>\n",
       "</tr>\n",
       "<tr>\n",
       "  <th>Df Residuals:</th>          <td>   417</td>      <th>  BIC:               </th> <td>   7734.</td>\n",
       "</tr>\n",
       "<tr>\n",
       "  <th>Df Model:</th>              <td>     8</td>      <th>                     </th>     <td> </td>   \n",
       "</tr>\n",
       "<tr>\n",
       "  <th>Covariance Type:</th>      <td>nonrobust</td>    <th>                     </th>     <td> </td>   \n",
       "</tr>\n",
       "</table>\n",
       "<table class=\"simpletable\">\n",
       "<tr>\n",
       "            <td></td>              <th>coef</th>     <th>std err</th>      <th>t</th>      <th>P>|t|</th>  <th>[0.025</th>    <th>0.975]</th>  \n",
       "</tr>\n",
       "<tr>\n",
       "  <th>Intercept</th>            <td>  152.8324</td> <td> 1092.630</td> <td>    0.140</td> <td> 0.889</td> <td>-1994.917</td> <td> 2300.582</td>\n",
       "</tr>\n",
       "<tr>\n",
       "  <th>bike_lane_score</th>      <td>  255.1303</td> <td>   58.344</td> <td>    4.373</td> <td> 0.000</td> <td>  140.445</td> <td>  369.816</td>\n",
       "</tr>\n",
       "<tr>\n",
       "  <th>park</th>                 <td>   55.3926</td> <td>  154.598</td> <td>    0.358</td> <td> 0.720</td> <td> -248.496</td> <td>  359.281</td>\n",
       "</tr>\n",
       "<tr>\n",
       "  <th>street_quality_score</th> <td>  -46.4576</td> <td>  139.690</td> <td>   -0.333</td> <td> 0.740</td> <td> -321.043</td> <td>  228.127</td>\n",
       "</tr>\n",
       "<tr>\n",
       "  <th>subway_entrance</th>      <td> 1074.3487</td> <td>  303.004</td> <td>    3.546</td> <td> 0.000</td> <td>  478.744</td> <td> 1669.954</td>\n",
       "</tr>\n",
       "<tr>\n",
       "  <th>tree_score</th>           <td>   -8.6051</td> <td>    4.769</td> <td>   -1.804</td> <td> 0.072</td> <td>  -17.979</td> <td>    0.769</td>\n",
       "</tr>\n",
       "<tr>\n",
       "  <th>traffic_volume</th>       <td>    0.0011</td> <td>    0.008</td> <td>    0.144</td> <td> 0.885</td> <td>   -0.014</td> <td>    0.017</td>\n",
       "</tr>\n",
       "<tr>\n",
       "  <th>median_hh_income</th>     <td>    0.0200</td> <td>    0.003</td> <td>    6.827</td> <td> 0.000</td> <td>    0.014</td> <td>    0.026</td>\n",
       "</tr>\n",
       "<tr>\n",
       "  <th>pop_density</th>          <td> 1.602e+06</td> <td> 3.45e+05</td> <td>    4.646</td> <td> 0.000</td> <td> 9.24e+05</td> <td> 2.28e+06</td>\n",
       "</tr>\n",
       "</table>\n",
       "<table class=\"simpletable\">\n",
       "<tr>\n",
       "  <th>Omnibus:</th>       <td>87.393</td> <th>  Durbin-Watson:     </th> <td>   1.431</td>\n",
       "</tr>\n",
       "<tr>\n",
       "  <th>Prob(Omnibus):</th> <td> 0.000</td> <th>  Jarque-Bera (JB):  </th> <td> 178.557</td>\n",
       "</tr>\n",
       "<tr>\n",
       "  <th>Skew:</th>          <td> 1.097</td> <th>  Prob(JB):          </th> <td>1.69e-39</td>\n",
       "</tr>\n",
       "<tr>\n",
       "  <th>Kurtosis:</th>      <td> 5.291</td> <th>  Cond. No.          </th> <td>3.32e+08</td>\n",
       "</tr>\n",
       "</table>"
      ],
      "text/plain": [
       "<class 'statsmodels.iolib.summary.Summary'>\n",
       "\"\"\"\n",
       "                            OLS Regression Results                            \n",
       "==============================================================================\n",
       "Dep. Variable:         ridership_0915   R-squared:                       0.224\n",
       "Model:                            OLS   Adj. R-squared:                  0.209\n",
       "Method:                 Least Squares   F-statistic:                     15.01\n",
       "Date:                Wed, 16 Nov 2016   Prob (F-statistic):           2.25e-19\n",
       "Time:                        15:55:43   Log-Likelihood:                -3839.5\n",
       "No. Observations:                 426   AIC:                             7697.\n",
       "Df Residuals:                     417   BIC:                             7734.\n",
       "Df Model:                           8                                         \n",
       "Covariance Type:            nonrobust                                         \n",
       "========================================================================================\n",
       "                           coef    std err          t      P>|t|      [0.025      0.975]\n",
       "----------------------------------------------------------------------------------------\n",
       "Intercept              152.8324   1092.630      0.140      0.889   -1994.917    2300.582\n",
       "bike_lane_score        255.1303     58.344      4.373      0.000     140.445     369.816\n",
       "park                    55.3926    154.598      0.358      0.720    -248.496     359.281\n",
       "street_quality_score   -46.4576    139.690     -0.333      0.740    -321.043     228.127\n",
       "subway_entrance       1074.3487    303.004      3.546      0.000     478.744    1669.954\n",
       "tree_score              -8.6051      4.769     -1.804      0.072     -17.979       0.769\n",
       "traffic_volume           0.0011      0.008      0.144      0.885      -0.014       0.017\n",
       "median_hh_income         0.0200      0.003      6.827      0.000       0.014       0.026\n",
       "pop_density           1.602e+06   3.45e+05      4.646      0.000    9.24e+05    2.28e+06\n",
       "==============================================================================\n",
       "Omnibus:                       87.393   Durbin-Watson:                   1.431\n",
       "Prob(Omnibus):                  0.000   Jarque-Bera (JB):              178.557\n",
       "Skew:                           1.097   Prob(JB):                     1.69e-39\n",
       "Kurtosis:                       5.291   Cond. No.                     3.32e+08\n",
       "==============================================================================\n",
       "\n",
       "Warnings:\n",
       "[1] Standard Errors assume that the covariance matrix of the errors is correctly specified.\n",
       "[2] The condition number is large, 3.32e+08. This might indicate that there are\n",
       "strong multicollinearity or other numerical problems.\n",
       "\"\"\""
      ]
     },
     "execution_count": 62,
     "metadata": {},
     "output_type": "execute_result"
    }
   ],
   "source": [
    "#regress without dropping NA\n",
    "results = smf.ols('ridership_0915 ~ bike_lane_score + park + street_quality_score + subway_entrance + tree_score + traffic_volume + median_hh_income + pop_density', data=merged).fit()\n",
    "results.summary()"
   ]
  },
  {
   "cell_type": "code",
   "execution_count": 63,
   "metadata": {
    "collapsed": true
   },
   "outputs": [],
   "source": [
    "merged = merged.dropna()"
   ]
  },
  {
   "cell_type": "code",
   "execution_count": 64,
   "metadata": {
    "collapsed": false
   },
   "outputs": [
    {
     "data": {
      "text/html": [
       "<table class=\"simpletable\">\n",
       "<caption>OLS Regression Results</caption>\n",
       "<tr>\n",
       "  <th>Dep. Variable:</th>     <td>ridership_0915</td>  <th>  R-squared:         </th> <td>   0.224</td>\n",
       "</tr>\n",
       "<tr>\n",
       "  <th>Model:</th>                   <td>OLS</td>       <th>  Adj. R-squared:    </th> <td>   0.209</td>\n",
       "</tr>\n",
       "<tr>\n",
       "  <th>Method:</th>             <td>Least Squares</td>  <th>  F-statistic:       </th> <td>   15.01</td>\n",
       "</tr>\n",
       "<tr>\n",
       "  <th>Date:</th>             <td>Wed, 16 Nov 2016</td> <th>  Prob (F-statistic):</th> <td>2.25e-19</td>\n",
       "</tr>\n",
       "<tr>\n",
       "  <th>Time:</th>                 <td>15:55:43</td>     <th>  Log-Likelihood:    </th> <td> -3839.5</td>\n",
       "</tr>\n",
       "<tr>\n",
       "  <th>No. Observations:</th>      <td>   426</td>      <th>  AIC:               </th> <td>   7697.</td>\n",
       "</tr>\n",
       "<tr>\n",
       "  <th>Df Residuals:</th>          <td>   417</td>      <th>  BIC:               </th> <td>   7734.</td>\n",
       "</tr>\n",
       "<tr>\n",
       "  <th>Df Model:</th>              <td>     8</td>      <th>                     </th>     <td> </td>   \n",
       "</tr>\n",
       "<tr>\n",
       "  <th>Covariance Type:</th>      <td>nonrobust</td>    <th>                     </th>     <td> </td>   \n",
       "</tr>\n",
       "</table>\n",
       "<table class=\"simpletable\">\n",
       "<tr>\n",
       "            <td></td>              <th>coef</th>     <th>std err</th>      <th>t</th>      <th>P>|t|</th>  <th>[0.025</th>    <th>0.975]</th>  \n",
       "</tr>\n",
       "<tr>\n",
       "  <th>Intercept</th>            <td>  152.8324</td> <td> 1092.630</td> <td>    0.140</td> <td> 0.889</td> <td>-1994.917</td> <td> 2300.582</td>\n",
       "</tr>\n",
       "<tr>\n",
       "  <th>bike_lane_score</th>      <td>  255.1303</td> <td>   58.344</td> <td>    4.373</td> <td> 0.000</td> <td>  140.445</td> <td>  369.816</td>\n",
       "</tr>\n",
       "<tr>\n",
       "  <th>park</th>                 <td>   55.3926</td> <td>  154.598</td> <td>    0.358</td> <td> 0.720</td> <td> -248.496</td> <td>  359.281</td>\n",
       "</tr>\n",
       "<tr>\n",
       "  <th>street_quality_score</th> <td>  -46.4576</td> <td>  139.690</td> <td>   -0.333</td> <td> 0.740</td> <td> -321.043</td> <td>  228.127</td>\n",
       "</tr>\n",
       "<tr>\n",
       "  <th>subway_entrance</th>      <td> 1074.3487</td> <td>  303.004</td> <td>    3.546</td> <td> 0.000</td> <td>  478.744</td> <td> 1669.954</td>\n",
       "</tr>\n",
       "<tr>\n",
       "  <th>tree_score</th>           <td>   -8.6051</td> <td>    4.769</td> <td>   -1.804</td> <td> 0.072</td> <td>  -17.979</td> <td>    0.769</td>\n",
       "</tr>\n",
       "<tr>\n",
       "  <th>traffic_volume</th>       <td>    0.0011</td> <td>    0.008</td> <td>    0.144</td> <td> 0.885</td> <td>   -0.014</td> <td>    0.017</td>\n",
       "</tr>\n",
       "<tr>\n",
       "  <th>median_hh_income</th>     <td>    0.0200</td> <td>    0.003</td> <td>    6.827</td> <td> 0.000</td> <td>    0.014</td> <td>    0.026</td>\n",
       "</tr>\n",
       "<tr>\n",
       "  <th>pop_density</th>          <td> 1.602e+06</td> <td> 3.45e+05</td> <td>    4.646</td> <td> 0.000</td> <td> 9.24e+05</td> <td> 2.28e+06</td>\n",
       "</tr>\n",
       "</table>\n",
       "<table class=\"simpletable\">\n",
       "<tr>\n",
       "  <th>Omnibus:</th>       <td>87.393</td> <th>  Durbin-Watson:     </th> <td>   1.431</td>\n",
       "</tr>\n",
       "<tr>\n",
       "  <th>Prob(Omnibus):</th> <td> 0.000</td> <th>  Jarque-Bera (JB):  </th> <td> 178.557</td>\n",
       "</tr>\n",
       "<tr>\n",
       "  <th>Skew:</th>          <td> 1.097</td> <th>  Prob(JB):          </th> <td>1.69e-39</td>\n",
       "</tr>\n",
       "<tr>\n",
       "  <th>Kurtosis:</th>      <td> 5.291</td> <th>  Cond. No.          </th> <td>3.32e+08</td>\n",
       "</tr>\n",
       "</table>"
      ],
      "text/plain": [
       "<class 'statsmodels.iolib.summary.Summary'>\n",
       "\"\"\"\n",
       "                            OLS Regression Results                            \n",
       "==============================================================================\n",
       "Dep. Variable:         ridership_0915   R-squared:                       0.224\n",
       "Model:                            OLS   Adj. R-squared:                  0.209\n",
       "Method:                 Least Squares   F-statistic:                     15.01\n",
       "Date:                Wed, 16 Nov 2016   Prob (F-statistic):           2.25e-19\n",
       "Time:                        15:55:43   Log-Likelihood:                -3839.5\n",
       "No. Observations:                 426   AIC:                             7697.\n",
       "Df Residuals:                     417   BIC:                             7734.\n",
       "Df Model:                           8                                         \n",
       "Covariance Type:            nonrobust                                         \n",
       "========================================================================================\n",
       "                           coef    std err          t      P>|t|      [0.025      0.975]\n",
       "----------------------------------------------------------------------------------------\n",
       "Intercept              152.8324   1092.630      0.140      0.889   -1994.917    2300.582\n",
       "bike_lane_score        255.1303     58.344      4.373      0.000     140.445     369.816\n",
       "park                    55.3926    154.598      0.358      0.720    -248.496     359.281\n",
       "street_quality_score   -46.4576    139.690     -0.333      0.740    -321.043     228.127\n",
       "subway_entrance       1074.3487    303.004      3.546      0.000     478.744    1669.954\n",
       "tree_score              -8.6051      4.769     -1.804      0.072     -17.979       0.769\n",
       "traffic_volume           0.0011      0.008      0.144      0.885      -0.014       0.017\n",
       "median_hh_income         0.0200      0.003      6.827      0.000       0.014       0.026\n",
       "pop_density           1.602e+06   3.45e+05      4.646      0.000    9.24e+05    2.28e+06\n",
       "==============================================================================\n",
       "Omnibus:                       87.393   Durbin-Watson:                   1.431\n",
       "Prob(Omnibus):                  0.000   Jarque-Bera (JB):              178.557\n",
       "Skew:                           1.097   Prob(JB):                     1.69e-39\n",
       "Kurtosis:                       5.291   Cond. No.                     3.32e+08\n",
       "==============================================================================\n",
       "\n",
       "Warnings:\n",
       "[1] Standard Errors assume that the covariance matrix of the errors is correctly specified.\n",
       "[2] The condition number is large, 3.32e+08. This might indicate that there are\n",
       "strong multicollinearity or other numerical problems.\n",
       "\"\"\""
      ]
     },
     "execution_count": 64,
     "metadata": {},
     "output_type": "execute_result"
    }
   ],
   "source": [
    "#regress after dropping NA\n",
    "results = smf.ols('ridership_0915 ~ bike_lane_score + park + street_quality_score + subway_entrance + tree_score + traffic_volume + median_hh_income + pop_density', data=merged).fit()\n",
    "results.summary()"
   ]
  },
  {
   "cell_type": "code",
   "execution_count": 65,
   "metadata": {
    "collapsed": false
   },
   "outputs": [
    {
     "name": "stdout",
     "output_type": "stream",
     "text": [
      "IS R-squared for 1000 times is 0.229628866755\n",
      "OS R-squared for 1000 times is 0.175862884797\n"
     ]
    }
   ],
   "source": [
    "# cross-validation on droppedna\n",
    "R_IS=[]\n",
    "R_OS=[]\n",
    "n=1000\n",
    "for i in range(n):\n",
    "    X_train, X_test, y_train, y_test = train_test_split(merged.iloc[:,[3, 4, 5, 6, 7, 8, 9, 10]], merged.iloc[:,1], train_size=300)\n",
    "    res=LinearRegression(fit_intercept=False)\n",
    "    res.fit(X_train,y_train)\n",
    "    R_IS.append(1-((np.asarray(res.predict(X_train))-y_train)**2).sum()/((y_train-np.mean(y_train))**2).sum())                                                                     \n",
    "    R_OS.append(1-((np.asarray(res.predict(X_test))-y_test)**2).sum()/((y_test-np.mean(y_test))**2).sum())\n",
    "print(\"IS R-squared for {} times is {}\".format(n,np.mean(R_IS)))\n",
    "print(\"OS R-squared for {} times is {}\".format(n,np.mean(R_OS)))"
   ]
  },
  {
   "cell_type": "code",
   "execution_count": 66,
   "metadata": {
    "collapsed": false
   },
   "outputs": [
    {
     "data": {
      "text/plain": [
       "(-0.5, 5.5)"
      ]
     },
     "execution_count": 66,
     "metadata": {},
     "output_type": "execute_result"
    },
    {
     "data": {
      "image/png": "[encoded data removed]",
      "text/plain": [
       "<matplotlib.figure.Figure at 0x11a411ad0>"
      ]
     },
     "metadata": {},
     "output_type": "display_data"
    }
   ],
   "source": [
    "#plot significant explanatory variables\n",
    "#NA still dropped\n",
    "results_bl = smf.ols('ridership_0915 ~ bike_lane_score', data=merged).fit()\n",
    "pl.figure(figsize=(10,10))\n",
    "pl.plot(merged['bike_lane_score'], merged['ridership_0915'], 'r.')\n",
    "pl.plot(merged['bike_lane_score'], results_bl.predict(sm.add_constant(merged['bike_lane_score'])), '-')\n",
    "pl.title('Figure 1:\\nCiti Bike Ridership in September 2015 as a Function of Bike Lane Score')\n",
    "pl.xlabel('Bike Lane Score')\n",
    "pl.ylabel('Citi Bike Ridership')\n",
    "pl.xlim(-.5,5.5)"
   ]
  },
  {
   "cell_type": "code",
   "execution_count": 67,
   "metadata": {
    "collapsed": false
   },
   "outputs": [
    {
     "data": {
      "text/plain": [
       "(-0.5, 1.5)"
      ]
     },
     "execution_count": 67,
     "metadata": {},
     "output_type": "execute_result"
    },
    {
     "data": {
      "image/png": "[encoded data removed]",
      "text/plain": [
       "<matplotlib.figure.Figure at 0x11b521190>"
      ]
     },
     "metadata": {},
     "output_type": "display_data"
    }
   ],
   "source": [
    "results_se = smf.ols('ridership_0915 ~ subway_entrance', data=merged).fit()\n",
    "pl.figure(figsize=(10,10))\n",
    "pl.plot(merged['subway_entrance'], merged['ridership_0915'], 'r.')\n",
    "pl.plot(merged['subway_entrance'], results_se.predict(sm.add_constant(merged['subway_entrance'])), '-')\n",
    "pl.title('Figure 2:\\nCiti Bike Ridership in September 2015 as a Function of Subway Entrances')\n",
    "pl.xlabel('Subway Entrance')\n",
    "pl.ylabel('Citi Bike Ridership')\n",
    "pl.xlim(-.5,1.5)"
   ]
  },
  {
   "cell_type": "code",
   "execution_count": 68,
   "metadata": {
    "collapsed": false
   },
   "outputs": [
    {
     "data": {
      "text/plain": [
       "(25000, 255000)"
      ]
     },
     "execution_count": 68,
     "metadata": {},
     "output_type": "execute_result"
    },
    {
     "data": {
      "image/png": "[encoded data removed]",
      "text/plain": [
       "<matplotlib.figure.Figure at 0x11b5ddc50>"
      ]
     },
     "metadata": {},
     "output_type": "display_data"
    }
   ],
   "source": [
    "results_hi = smf.ols('ridership_0915 ~ median_hh_income', data=merged).fit()\n",
    "pl.figure(figsize=(10,10))\n",
    "pl.plot(merged['median_hh_income'], merged['ridership_0915'], 'r.')\n",
    "pl.plot(merged['median_hh_income'], results_hi.predict(sm.add_constant(merged['median_hh_income'])), '-')\n",
    "pl.title('Figure 3:\\nCiti Bike Ridership by Station in September 2015 as a Function of Median Household Income')\n",
    "pl.xlabel('Median Household Income')\n",
    "pl.ylabel('Citi Bike Ridership')\n",
    "pl.xlim(25000,255000)"
   ]
  },
  {
   "cell_type": "code",
   "execution_count": 69,
   "metadata": {
    "collapsed": false
   },
   "outputs": [
    {
     "data": {
      "text/plain": [
       "(-0.0001, 0.0016)"
      ]
     },
     "execution_count": 69,
     "metadata": {},
     "output_type": "execute_result"
    },
    {
     "data": {
      "image/png": "[encoded data removed]",
      "text/plain": [
       "<matplotlib.figure.Figure at 0x118c8e150>"
      ]
     },
     "metadata": {},
     "output_type": "display_data"
    }
   ],
   "source": [
    "results_pd = smf.ols('ridership_0915 ~ pop_density', data=merged).fit()\n",
    "pl.figure(figsize=(10,10))\n",
    "pl.plot(merged['pop_density'], merged['ridership_0915'], 'r.')\n",
    "pl.plot(merged['pop_density'], results_pd.predict(sm.add_constant(merged['pop_density'])), '-')\n",
    "pl.title('Figure 4:\\nCiti Bike Ridership in September 2015 as a Function of Population Density')\n",
    "pl.xlabel('Population Density')\n",
    "pl.ylabel('Citi Bike Ridership')\n",
    "pl.xlim(-.0001,.0016)"
   ]
  },
  {
   "cell_type": "markdown",
   "metadata": {},
   "source": [
    "### Captions for Figures 1 - 4\n",
    "Each plot is a scatter represntation of a count of Citi Bike ridership from each active station in September 2015 as a function of the four statistically significant explanatory variables.  Variables 'subway entrance' and 'park' are binary, with a zero indicating that there was no subway or park within the buffer zone of the Citi Bike station, or a one, indicating that these features were there.  "
   ]
  },
  {
   "cell_type": "code",
   "execution_count": 70,
   "metadata": {
    "collapsed": false
   },
   "outputs": [
    {
     "data": {
      "text/html": [
       "<div>\n",
       "<table border=\"1\" class=\"dataframe\">\n",
       "  <thead>\n",
       "    <tr style=\"text-align: right;\">\n",
       "      <th></th>\n",
       "      <th>station_id</th>\n",
       "      <th>sept_wkndcounts</th>\n",
       "    </tr>\n",
       "  </thead>\n",
       "  <tbody>\n",
       "    <tr>\n",
       "      <th>0</th>\n",
       "      <td>72</td>\n",
       "      <td>893</td>\n",
       "    </tr>\n",
       "    <tr>\n",
       "      <th>1</th>\n",
       "      <td>79</td>\n",
       "      <td>598</td>\n",
       "    </tr>\n",
       "    <tr>\n",
       "      <th>2</th>\n",
       "      <td>82</td>\n",
       "      <td>262</td>\n",
       "    </tr>\n",
       "    <tr>\n",
       "      <th>3</th>\n",
       "      <td>83</td>\n",
       "      <td>519</td>\n",
       "    </tr>\n",
       "    <tr>\n",
       "      <th>4</th>\n",
       "      <td>116</td>\n",
       "      <td>1212</td>\n",
       "    </tr>\n",
       "  </tbody>\n",
       "</table>\n",
       "</div>"
      ],
      "text/plain": [
       "   station_id  sept_wkndcounts\n",
       "0          72              893\n",
       "1          79              598\n",
       "2          82              262\n",
       "3          83              519\n",
       "4         116             1212"
      ]
     },
     "execution_count": 70,
     "metadata": {},
     "output_type": "execute_result"
    }
   ],
   "source": [
    "#conduct analysis with isolated ridership for weekends in September\n",
    "wknds = pd.read_csv('../data/processed/sept-wknds.csv')\n",
    "wknds = wknds.drop('Unnamed: 0', axis=1)\n",
    "wknds = wknds.rename(columns={'start station id': 'station_id', 'tripduration': 'sept_wkndcounts'})\n",
    "wknds.head()"
   ]
  },
  {
   "cell_type": "code",
   "execution_count": 71,
   "metadata": {
    "collapsed": false
   },
   "outputs": [
    {
     "data": {
      "text/html": [
       "<div>\n",
       "<table border=\"1\" class=\"dataframe\">\n",
       "  <thead>\n",
       "    <tr style=\"text-align: right;\">\n",
       "      <th></th>\n",
       "      <th>station_id</th>\n",
       "      <th>bike_lane_score</th>\n",
       "      <th>park</th>\n",
       "      <th>street_quality_score</th>\n",
       "      <th>subway_entrance</th>\n",
       "      <th>tree_score</th>\n",
       "      <th>traffic_volume</th>\n",
       "      <th>median_hh_income</th>\n",
       "      <th>pop_density</th>\n",
       "      <th>sept_wkndcounts</th>\n",
       "    </tr>\n",
       "  </thead>\n",
       "  <tbody>\n",
       "    <tr>\n",
       "      <th>0</th>\n",
       "      <td>72</td>\n",
       "      <td>0.0</td>\n",
       "      <td>1.0</td>\n",
       "      <td>8.000000</td>\n",
       "      <td>0.0</td>\n",
       "      <td>17.364799</td>\n",
       "      <td>14870.500000</td>\n",
       "      <td>90174.000000</td>\n",
       "      <td>0.000807</td>\n",
       "      <td>893.0</td>\n",
       "    </tr>\n",
       "    <tr>\n",
       "      <th>1</th>\n",
       "      <td>79</td>\n",
       "      <td>3.0</td>\n",
       "      <td>0.0</td>\n",
       "      <td>8.571429</td>\n",
       "      <td>1.0</td>\n",
       "      <td>9.573955</td>\n",
       "      <td>9484.666667</td>\n",
       "      <td>86523.139535</td>\n",
       "      <td>0.000631</td>\n",
       "      <td>598.0</td>\n",
       "    </tr>\n",
       "    <tr>\n",
       "      <th>2</th>\n",
       "      <td>82</td>\n",
       "      <td>0.0</td>\n",
       "      <td>1.0</td>\n",
       "      <td>7.333333</td>\n",
       "      <td>0.0</td>\n",
       "      <td>35.070325</td>\n",
       "      <td>16812.500000</td>\n",
       "      <td>73988.000000</td>\n",
       "      <td>0.000511</td>\n",
       "      <td>262.0</td>\n",
       "    </tr>\n",
       "    <tr>\n",
       "      <th>3</th>\n",
       "      <td>83</td>\n",
       "      <td>0.0</td>\n",
       "      <td>0.0</td>\n",
       "      <td>7.500000</td>\n",
       "      <td>0.0</td>\n",
       "      <td>0.000000</td>\n",
       "      <td>41976.000000</td>\n",
       "      <td>85199.000000</td>\n",
       "      <td>0.000231</td>\n",
       "      <td>519.0</td>\n",
       "    </tr>\n",
       "    <tr>\n",
       "      <th>4</th>\n",
       "      <td>116</td>\n",
       "      <td>4.0</td>\n",
       "      <td>1.0</td>\n",
       "      <td>8.500000</td>\n",
       "      <td>0.0</td>\n",
       "      <td>47.824344</td>\n",
       "      <td>15948.000000</td>\n",
       "      <td>104974.000000</td>\n",
       "      <td>0.000742</td>\n",
       "      <td>1212.0</td>\n",
       "    </tr>\n",
       "  </tbody>\n",
       "</table>\n",
       "</div>"
      ],
      "text/plain": [
       "   station_id  bike_lane_score  park  street_quality_score  subway_entrance  \\\n",
       "0          72              0.0   1.0              8.000000              0.0   \n",
       "1          79              3.0   0.0              8.571429              1.0   \n",
       "2          82              0.0   1.0              7.333333              0.0   \n",
       "3          83              0.0   0.0              7.500000              0.0   \n",
       "4         116              4.0   1.0              8.500000              0.0   \n",
       "\n",
       "   tree_score  traffic_volume  median_hh_income  pop_density  sept_wkndcounts  \n",
       "0   17.364799    14870.500000      90174.000000     0.000807            893.0  \n",
       "1    9.573955     9484.666667      86523.139535     0.000631            598.0  \n",
       "2   35.070325    16812.500000      73988.000000     0.000511            262.0  \n",
       "3    0.000000    41976.000000      85199.000000     0.000231            519.0  \n",
       "4   47.824344    15948.000000     104974.000000     0.000742           1212.0  "
      ]
     },
     "execution_count": 71,
     "metadata": {},
     "output_type": "execute_result"
    }
   ],
   "source": [
    "merged = merged.drop(['avg_ridership_2015', 'ridership_0915'], axis=1)\n",
    "wkndmrg = pd.merge(merged, wknds, on='station_id', how='outer')\n",
    "wkndmrg = wkndmrg.dropna()\n",
    "wkndmrg.head()"
   ]
  },
  {
   "cell_type": "code",
   "execution_count": 72,
   "metadata": {
    "collapsed": false
   },
   "outputs": [
    {
     "data": {
      "text/html": [
       "<table class=\"simpletable\">\n",
       "<caption>OLS Regression Results</caption>\n",
       "<tr>\n",
       "  <th>Dep. Variable:</th>     <td>sept_wkndcounts</td> <th>  R-squared:         </th> <td>   0.247</td>\n",
       "</tr>\n",
       "<tr>\n",
       "  <th>Model:</th>                   <td>OLS</td>       <th>  Adj. R-squared:    </th> <td>   0.233</td>\n",
       "</tr>\n",
       "<tr>\n",
       "  <th>Method:</th>             <td>Least Squares</td>  <th>  F-statistic:       </th> <td>   16.92</td>\n",
       "</tr>\n",
       "<tr>\n",
       "  <th>Date:</th>             <td>Wed, 16 Nov 2016</td> <th>  Prob (F-statistic):</th> <td>9.15e-22</td>\n",
       "</tr>\n",
       "<tr>\n",
       "  <th>Time:</th>                 <td>15:55:50</td>     <th>  Log-Likelihood:    </th> <td> -3177.3</td>\n",
       "</tr>\n",
       "<tr>\n",
       "  <th>No. Observations:</th>      <td>   421</td>      <th>  AIC:               </th> <td>   6373.</td>\n",
       "</tr>\n",
       "<tr>\n",
       "  <th>Df Residuals:</th>          <td>   412</td>      <th>  BIC:               </th> <td>   6409.</td>\n",
       "</tr>\n",
       "<tr>\n",
       "  <th>Df Model:</th>              <td>     8</td>      <th>                     </th>     <td> </td>   \n",
       "</tr>\n",
       "<tr>\n",
       "  <th>Covariance Type:</th>      <td>nonrobust</td>    <th>                     </th>     <td> </td>   \n",
       "</tr>\n",
       "</table>\n",
       "<table class=\"simpletable\">\n",
       "<tr>\n",
       "            <td></td>              <th>coef</th>     <th>std err</th>      <th>t</th>      <th>P>|t|</th>  <th>[0.025</th>    <th>0.975]</th>  \n",
       "</tr>\n",
       "<tr>\n",
       "  <th>Intercept</th>            <td> -158.8738</td> <td>  256.688</td> <td>   -0.619</td> <td> 0.536</td> <td> -663.455</td> <td>  345.708</td>\n",
       "</tr>\n",
       "<tr>\n",
       "  <th>bike_lane_score</th>      <td>   74.9617</td> <td>   13.526</td> <td>    5.542</td> <td> 0.000</td> <td>   48.372</td> <td>  101.551</td>\n",
       "</tr>\n",
       "<tr>\n",
       "  <th>park</th>                 <td>   93.9931</td> <td>   35.773</td> <td>    2.627</td> <td> 0.009</td> <td>   23.673</td> <td>  164.313</td>\n",
       "</tr>\n",
       "<tr>\n",
       "  <th>street_quality_score</th> <td>    3.0267</td> <td>   32.770</td> <td>    0.092</td> <td> 0.926</td> <td>  -61.391</td> <td>   67.444</td>\n",
       "</tr>\n",
       "<tr>\n",
       "  <th>subway_entrance</th>      <td>  180.2052</td> <td>   70.042</td> <td>    2.573</td> <td> 0.010</td> <td>   42.521</td> <td>  317.889</td>\n",
       "</tr>\n",
       "<tr>\n",
       "  <th>tree_score</th>           <td>    0.0460</td> <td>    1.113</td> <td>    0.041</td> <td> 0.967</td> <td>   -2.142</td> <td>    2.234</td>\n",
       "</tr>\n",
       "<tr>\n",
       "  <th>traffic_volume</th>       <td>   -0.0008</td> <td>    0.002</td> <td>   -0.449</td> <td> 0.654</td> <td>   -0.004</td> <td>    0.003</td>\n",
       "</tr>\n",
       "<tr>\n",
       "  <th>median_hh_income</th>     <td>    0.0047</td> <td>    0.001</td> <td>    6.872</td> <td> 0.000</td> <td>    0.003</td> <td>    0.006</td>\n",
       "</tr>\n",
       "<tr>\n",
       "  <th>pop_density</th>          <td> 3.842e+05</td> <td> 8.03e+04</td> <td>    4.784</td> <td> 0.000</td> <td> 2.26e+05</td> <td> 5.42e+05</td>\n",
       "</tr>\n",
       "</table>\n",
       "<table class=\"simpletable\">\n",
       "<tr>\n",
       "  <th>Omnibus:</th>       <td>99.072</td> <th>  Durbin-Watson:     </th> <td>   1.709</td>\n",
       "</tr>\n",
       "<tr>\n",
       "  <th>Prob(Omnibus):</th> <td> 0.000</td> <th>  Jarque-Bera (JB):  </th> <td> 219.606</td>\n",
       "</tr>\n",
       "<tr>\n",
       "  <th>Skew:</th>          <td> 1.211</td> <th>  Prob(JB):          </th> <td>2.06e-48</td>\n",
       "</tr>\n",
       "<tr>\n",
       "  <th>Kurtosis:</th>      <td> 5.580</td> <th>  Cond. No.          </th> <td>3.33e+08</td>\n",
       "</tr>\n",
       "</table>"
      ],
      "text/plain": [
       "<class 'statsmodels.iolib.summary.Summary'>\n",
       "\"\"\"\n",
       "                            OLS Regression Results                            \n",
       "==============================================================================\n",
       "Dep. Variable:        sept_wkndcounts   R-squared:                       0.247\n",
       "Model:                            OLS   Adj. R-squared:                  0.233\n",
       "Method:                 Least Squares   F-statistic:                     16.92\n",
       "Date:                Wed, 16 Nov 2016   Prob (F-statistic):           9.15e-22\n",
       "Time:                        15:55:50   Log-Likelihood:                -3177.3\n",
       "No. Observations:                 421   AIC:                             6373.\n",
       "Df Residuals:                     412   BIC:                             6409.\n",
       "Df Model:                           8                                         \n",
       "Covariance Type:            nonrobust                                         \n",
       "========================================================================================\n",
       "                           coef    std err          t      P>|t|      [0.025      0.975]\n",
       "----------------------------------------------------------------------------------------\n",
       "Intercept             -158.8738    256.688     -0.619      0.536    -663.455     345.708\n",
       "bike_lane_score         74.9617     13.526      5.542      0.000      48.372     101.551\n",
       "park                    93.9931     35.773      2.627      0.009      23.673     164.313\n",
       "street_quality_score     3.0267     32.770      0.092      0.926     -61.391      67.444\n",
       "subway_entrance        180.2052     70.042      2.573      0.010      42.521     317.889\n",
       "tree_score               0.0460      1.113      0.041      0.967      -2.142       2.234\n",
       "traffic_volume          -0.0008      0.002     -0.449      0.654      -0.004       0.003\n",
       "median_hh_income         0.0047      0.001      6.872      0.000       0.003       0.006\n",
       "pop_density           3.842e+05   8.03e+04      4.784      0.000    2.26e+05    5.42e+05\n",
       "==============================================================================\n",
       "Omnibus:                       99.072   Durbin-Watson:                   1.709\n",
       "Prob(Omnibus):                  0.000   Jarque-Bera (JB):              219.606\n",
       "Skew:                           1.211   Prob(JB):                     2.06e-48\n",
       "Kurtosis:                       5.580   Cond. No.                     3.33e+08\n",
       "==============================================================================\n",
       "\n",
       "Warnings:\n",
       "[1] Standard Errors assume that the covariance matrix of the errors is correctly specified.\n",
       "[2] The condition number is large, 3.33e+08. This might indicate that there are\n",
       "strong multicollinearity or other numerical problems.\n",
       "\"\"\""
      ]
     },
     "execution_count": 72,
     "metadata": {},
     "output_type": "execute_result"
    }
   ],
   "source": [
    "#regress after dropping NA\n",
    "results_wknd = smf.ols('sept_wkndcounts ~ bike_lane_score + park + street_quality_score + subway_entrance + tree_score + traffic_volume + median_hh_income + pop_density', data=wkndmrg).fit()\n",
    "results_wknd.summary()"
   ]
  },
  {
   "cell_type": "code",
   "execution_count": 73,
   "metadata": {
    "collapsed": false
   },
   "outputs": [
    {
     "name": "stdout",
     "output_type": "stream",
     "text": [
      "IS R-squared for 1000 times is 0.252557396064\n",
      "OS R-squared for 1000 times is 0.190380759174\n"
     ]
    }
   ],
   "source": [
    "#cross-validation\n",
    "R_IS=[]\n",
    "R_OS=[]\n",
    "n=1000\n",
    "for i in range(n):\n",
    "    X_train, X_test, y_train, y_test = train_test_split(wkndmrg.iloc[:,[1, 2, 3, 4, 5, 6, 7, 8]], wkndmrg.iloc[:,9], train_size=300)\n",
    "    res=LinearRegression(fit_intercept=False)\n",
    "    res.fit(X_train,y_train)\n",
    "    R_IS.append(1-((np.asarray(res.predict(X_train))-y_train)**2).sum()/((y_train-np.mean(y_train))**2).sum())                                                                     \n",
    "    R_OS.append(1-((np.asarray(res.predict(X_test))-y_test)**2).sum()/((y_test-np.mean(y_test))**2).sum())\n",
    "print(\"IS R-squared for {} times is {}\".format(n,np.mean(R_IS)))\n",
    "print(\"OS R-squared for {} times is {}\".format(n,np.mean(R_OS)))"
   ]
  },
  {
   "cell_type": "code",
   "execution_count": 79,
   "metadata": {
    "collapsed": false
   },
   "outputs": [
    {
     "data": {
      "text/plain": [
       "(-0.5, 5.5)"
      ]
     },
     "execution_count": 79,
     "metadata": {},
     "output_type": "execute_result"
    },
    {
     "data": {
      "image/png": "[encoded data removed]",
      "text/plain": [
       "<matplotlib.figure.Figure at 0x11b35f0d0>"
      ]
     },
     "metadata": {},
     "output_type": "display_data"
    }
   ],
   "source": [
    "#plot significant explanatory variables\n",
    "#NA still dropped\n",
    "results_wknd_bl = smf.ols('sept_wkndcounts ~ bike_lane_score', data=wkndmrg).fit()\n",
    "pl.figure(figsize=(10,10))\n",
    "pl.plot(wkndmrg['bike_lane_score'], wkndmrg['sept_wkndcounts'], 'r.')\n",
    "pl.plot(wkndmrg['bike_lane_score'], results_wknd_bl.predict(sm.add_constant(wkndmrg['bike_lane_score'])), '-')\n",
    "pl.title('Figure 5:\\nCiti Bike Ridership in September 2015 as a Function of Bike Lane Score')\n",
    "pl.xlabel('Bike Lane Score')\n",
    "pl.ylabel('Weekend Citi Bike Ridership')\n",
    "pl.xlim(-.5,5.5)"
   ]
  },
  {
   "cell_type": "code",
   "execution_count": 87,
   "metadata": {
    "collapsed": false
   },
   "outputs": [
    {
     "data": {
      "text/plain": [
       "(-0.5, 3.5)"
      ]
     },
     "execution_count": 87,
     "metadata": {},
     "output_type": "execute_result"
    },
    {
     "data": {
      "image/png": "[encoded data removed]",
      "text/plain": [
       "<matplotlib.figure.Figure at 0x11a44a1d0>"
      ]
     },
     "metadata": {},
     "output_type": "display_data"
    }
   ],
   "source": [
    "results_se = smf.ols('sept_wkndcounts ~ park', data=wkndmrg).fit()\n",
    "pl.figure(figsize=(10,10))\n",
    "pl.plot(wkndmrg['park'], wkndmrg['sept_wkndcounts'], 'r.')\n",
    "pl.plot(wkndmrg['park'], results_se.predict(sm.add_constant(wkndmrg['park'])), '-')\n",
    "pl.title('Figure 6:\\nCiti Bike Ridership in September 2015 as a Function of the Proximity of Parks')\n",
    "pl.xlabel('Park')\n",
    "pl.ylabel('Citi Bike Ridership')\n",
    "pl.xlim(-.5,3.5)"
   ]
  },
  {
   "cell_type": "code",
   "execution_count": null,
   "metadata": {
    "collapsed": true
   },
   "outputs": [],
   "source": [
    "# NEED TO FINISH FIGURES 7 AND 8"
   ]
  },
  {
   "cell_type": "code",
   "execution_count": null,
   "metadata": {
    "collapsed": true
   },
   "outputs": [],
   "source": [
    "results_se = smf.ols('ridership_0915 ~ subway_entrance', data=merged).fit()\n",
    "pl.figure(figsize=(10,10))\n",
    "pl.plot(merged['subway_entrance'], merged['ridership_0915'], 'r.')\n",
    "pl.plot(merged['subway_entrance'], results_se.predict(sm.add_constant(merged['subway_entrance'])), '-')\n",
    "pl.title('Figure 2:\\nCiti Bike Ridership in September 2015 as a Function of Subway Entrances')\n",
    "pl.xlabel('Subway Entrance')\n",
    "pl.ylabel('Citi Bike Ridership')\n",
    "pl.xlim(-.5,1.5)"
   ]
  },
  {
   "cell_type": "code",
   "execution_count": null,
   "metadata": {
    "collapsed": true
   },
   "outputs": [],
   "source": []
  },
  {
   "cell_type": "code",
   "execution_count": null,
   "metadata": {
    "collapsed": true
   },
   "outputs": [],
   "source": []
  },
  {
   "cell_type": "code",
   "execution_count": null,
   "metadata": {
    "collapsed": true
   },
   "outputs": [],
   "source": [
    "wkndmrg.plot(kind='scatter', x='pop_density', y='sept_wkndcounts')"
   ]
  },
  {
   "cell_type": "code",
   "execution_count": null,
   "metadata": {
    "collapsed": true
   },
   "outputs": [],
   "source": [
    "\n",
    "age = pd.read_csv('../data/processed/age.csv')\n",
    "age = age.rename(columns={'Station_id': 'station_id'})\n",
    "age = age.rename(columns={'Median Age': 'median_age'})\n",
    "\n",
    "wkndmrg = pd.merge(wkndmrg,  age, on='station_id', how='outer')"
   ]
  },
  {
   "cell_type": "markdown",
   "metadata": {},
   "source": [
    "### Merged_norm dataset\n",
    "#### Calculate regression on weekend days in September\n",
    "* Did not remove any stations\n",
    "* Selected the first 300 stations for train"
   ]
  },
  {
   "cell_type": "code",
   "execution_count": null,
   "metadata": {
    "collapsed": true
   },
   "outputs": [],
   "source": [
    "merged_norm = merged_norm.drop(['ridership_0115', 'ridership_0215', 'ridership_0315', 'ridership_0415', 'ridership_0515', 'ridership_0615', 'ridership_0715', 'ridership_0815', 'ridership_0915', 'ridership_1015', 'ridership_1115', 'ridership_1215'], axis=1)"
   ]
  },
  {
   "cell_type": "code",
   "execution_count": null,
   "metadata": {
    "collapsed": false
   },
   "outputs": [],
   "source": [
    "wkndmrg_norm = pd.merge(merged_norm, wknds, on='station_id', how='outer')"
   ]
  },
  {
   "cell_type": "code",
   "execution_count": null,
   "metadata": {
    "collapsed": false
   },
   "outputs": [],
   "source": [
    "wkndmrg_norm.head()"
   ]
  },
  {
   "cell_type": "code",
   "execution_count": null,
   "metadata": {
    "collapsed": false
   },
   "outputs": [],
   "source": [
    "results_norm = smf.ols('sept_wkndcounts ~ bike_lane_score + park + street_quality_score + subway_entrance + tree_score + traffic_volume + median_hh_income + pop_density', data=wkndmrg_norm).fit()\n",
    "results_norm.summary()"
   ]
  },
  {
   "cell_type": "code",
   "execution_count": null,
   "metadata": {
    "collapsed": false
   },
   "outputs": [],
   "source": [
    "merged_norm.cov()"
   ]
  },
  {
   "cell_type": "code",
   "execution_count": null,
   "metadata": {
    "collapsed": true
   },
   "outputs": [],
   "source": [
    "wkndmrg_norm = wkndmrg.dropna()"
   ]
  },
  {
   "cell_type": "code",
   "execution_count": null,
   "metadata": {
    "collapsed": false
   },
   "outputs": [],
   "source": [
    "# test data on all variables\n",
    "R_IS=[]\n",
    "R_OS=[]\n",
    "n=1000\n",
    "for i in range(n):\n",
    "    X_train, X_test, y_train, y_test = train_test_split(wkndmrg_norm.iloc[:,[2, 3, 4, 5, 6, 7, 8, 9]], wkndmrg_norm.iloc[:,10], train_size=300)\n",
    "    res=LinearRegression(fit_intercept=False)\n",
    "    res.fit(X_train,y_train)\n",
    "    R_IS.append(1-((np.asarray(res.predict(X_train))-y_train)**2).sum()/((y_train-np.mean(y_train))**2).sum())                                                                     \n",
    "    R_OS.append(1-((np.asarray(res.predict(X_test))-y_test)**2).sum()/((y_test-np.mean(y_test))**2).sum())\n",
    "print(\"IS R-squared for {} times is {}\".format(n,np.mean(R_IS)))\n",
    "print(\"OS R-squared for {} times is {}\".format(n,np.mean(R_OS)))"
   ]
  },
  {
   "cell_type": "markdown",
   "metadata": {},
   "source": [
    "### Merged_norm\n",
    "#### Calculate regression on all days in September:\n",
    "* Did not remove any stations \n",
    "* Selected first 300 stations for train"
   ]
  },
  {
   "cell_type": "code",
   "execution_count": null,
   "metadata": {
    "collapsed": false
   },
   "outputs": [],
   "source": [
    "merged_norm = pd.read_csv('../data/processed/master_norm.csv')\n",
    "merged_norm = merged_norm.drop(['ridership_0115', 'ridership_0215', 'ridership_0315', 'ridership_0415', 'ridership_0515', 'ridership_0615', 'ridership_0715', 'ridership_0815', 'ridership_1015', 'ridership_1115', 'ridership_1215'], axis=1)"
   ]
  },
  {
   "cell_type": "code",
   "execution_count": null,
   "metadata": {
    "collapsed": false
   },
   "outputs": [],
   "source": [
    "merged_norm.head()"
   ]
  },
  {
   "cell_type": "code",
   "execution_count": null,
   "metadata": {
    "collapsed": false
   },
   "outputs": [],
   "source": [
    "merged_norm.iloc[:,3:].cov()"
   ]
  },
  {
   "cell_type": "code",
   "execution_count": null,
   "metadata": {
    "collapsed": false
   },
   "outputs": [],
   "source": [
    "results_norm = smf.ols('ridership_0915 ~ bike_lane_score + park + street_quality_score + subway_entrance + tree_score + traffic_volume + median_hh_income + pop_density', data=merged_norm).fit()\n",
    "results_norm.summary()"
   ]
  },
  {
   "cell_type": "code",
   "execution_count": null,
   "metadata": {
    "collapsed": true
   },
   "outputs": [],
   "source": [
    "merged_norm = merged_norm.dropna()"
   ]
  },
  {
   "cell_type": "code",
   "execution_count": null,
   "metadata": {
    "collapsed": false
   },
   "outputs": [],
   "source": [
    "# test data on all variables\n",
    "R_IS=[]\n",
    "R_OS=[]\n",
    "n=1000\n",
    "for i in range(n):\n",
    "    X_train, X_test, y_train, y_test = train_test_split(merged_norm.iloc[:,3:], merged_norm.iloc[:,1], train_size=300)\n",
    "    res=LinearRegression(fit_intercept=False)\n",
    "    res.fit(X_train,y_train)\n",
    "    R_IS.append(1-((np.asarray(res.predict(X_train))-y_train)**2).sum()/((y_train-np.mean(y_train))**2).sum())                                                                     \n",
    "    R_OS.append(1-((np.asarray(res.predict(X_test))-y_test)**2).sum()/((y_test-np.mean(y_test))**2).sum())\n",
    "print(\"IS R-squared for {} times is {}\".format(n,np.mean(R_IS)))\n",
    "print(\"OS R-squared for {} times is {}\".format(n,np.mean(R_OS)))"
   ]
  },
  {
   "cell_type": "markdown",
   "metadata": {
    "collapsed": true
   },
   "source": [
    "#### Notes\n",
    "* multicollinearity exists when one of the explanatory variables has a linear relationship with another or a combination of others\n",
    "* multicollinearity icnreases standard error and uncertainty in regression coefficient estimates\n",
    "* results in lower significances in the coefficient estimates and larger confidence intervals\n",
    "* impossible to differentiate between the effects of explanatory variables when they covary\n",
    "* can use pearsons r for bivariate correlations\n",
    "* r values close to 1 or -1 indicate high correlative values\n",
    "* threshold values for r vary from study to study based on sample size"
   ]
  },
  {
   "cell_type": "code",
   "execution_count": null,
   "metadata": {
    "collapsed": true
   },
   "outputs": [],
   "source": [
    "#zips_stations = pd.read_csv('../data/processed/zips_stations.csv')\n",
    "#borough = {10026: 'Manhattan', 10027: 'Manhattan', 10030: 'Manhattan', 10037: 'Manhattan', 10039: 'Manhattan', 10001: 'Manhattan', 10011: 'Manhattan', 10018: 'Manhattan', 10019: 'Manhattan', 10020: 'Manhattan', 10036: 'Manhattan', 10029: 'Manhattan', 10035: 'Manhattan', 10010: 'Manhattan', 10016: 'Manhattan', 10017: 'Manhattan', 10022: 'Manhattan', 10012: 'Manhattan', 10013: 'Manhattan', 10014: 'Manhattan', 10004: 'Manhattan', 10005: 'Manhattan', 10006: 'Manhattan', 10007: 'Manhattan', 10038: 'Manhattan', 10280: 'Manhattan', 10002: 'Manhattan', 10003: 'Manhattan', 10009: 'Manhattan', 10021: 'Manhattan', 10028: 'Manhattan', 10044: 'Manhattan', 10065: 'Manhattan', 10075: 'Manhattan', 10128: 'Manhattan', 10023: 'Manhattan', 10024: 'Manhattan', 10025: 'Manhattan', 10031: 'Manhattan', 10032: 'Manhattan', 10033: 'Manhattan', 10034: 'Manhattan', 10040: 'Manhattan'}\n",
    "#zips_stations['Borough'] = zips_stations['Zip_Code'].map(borough)\n",
    "#zips_stations = zips_stations.rename(columns={'Station_id': 'station_id'})\n",
    "#zips_stations.head()\n",
    "#merged = pd.merge(zips_stations, merged, on='station_id', how='outer')\n",
    "#merged = merged.dropna()\n",
    "#merged.head()"
   ]
  }
 ],
 "metadata": {
  "kernelspec": {
   "display_name": "Python 2",
   "language": "python",
   "name": "python2"
  },
  "language_info": {
   "codemirror_mode": {
    "name": "ipython",
    "version": 2
   },
   "file_extension": ".py",
   "mimetype": "text/x-python",
   "name": "python",
   "nbconvert_exporter": "python",
   "pygments_lexer": "ipython2",
   "version": "2.7.12"
  }
 },
 "nbformat": 4,
 "nbformat_minor": 1
}
